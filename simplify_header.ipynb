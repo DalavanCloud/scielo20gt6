{
 "cells": [
  {
   "cell_type": "markdown",
   "metadata": {},
   "source": [
    "# Simplifying the column names (CSV header)"
   ]
  },
  {
   "cell_type": "markdown",
   "metadata": {},
   "source": [
    "The CSV types and their columns have a Brazilian Portuguese description in\n",
    "http://docs.scielo.org/projects/scielo-processing/pt/latest/public_reports.html.\n",
    "\n",
    "However, the column names have some issues:\n",
    "\n",
    "* Sometimes they're way too long;\n",
    "* Almost always they have some whitespace or other non-alphanumeric character;\n",
    "* Some names have trailing whitespaces;\n",
    "* There are multiple languages in the `journals_kbart.csv`,\n",
    "  following the `Brazilian Portuguese Name (english_name)` format;\n",
    "* They might include redundant/ambiguous/misleading parts.\n",
    "\n",
    "In summary, they're difficult to deal with\n",
    "when we're performing some exploratory data analysis\n",
    "or otherwise using them in the middle of some source code,\n",
    "in almost any language.\n",
    "Our goal is to simplify that to keep it similar to a `snake_case` format."
   ]
  },
  {
   "cell_type": "code",
   "execution_count": 1,
   "metadata": {},
   "outputs": [],
   "source": [
    "import csv\n",
    "from glob import glob"
   ]
  },
  {
   "cell_type": "code",
   "execution_count": 2,
   "metadata": {},
   "outputs": [],
   "source": [
    "import numpy as np\n",
    "import pandas as pd\n",
    "pd.options.display.max_rows = 200 # Default is 60"
   ]
  },
  {
   "cell_type": "markdown",
   "metadata": {},
   "source": [
    "## Current rows"
   ]
  },
  {
   "cell_type": "markdown",
   "metadata": {},
   "source": [
    "These are all the titles from every CSV file:"
   ]
  },
  {
   "cell_type": "code",
   "execution_count": 3,
   "metadata": {},
   "outputs": [
    {
     "name": "stdout",
     "output_type": "stream",
     "text": [
      "['extraction date', 'study unit', 'collection', 'ISSN SciELO', \"ISSN's\", 'title at SciELO', 'title thematic areas', 'title is agricultural sciences', 'title is applied social sciences', 'title is biological sciences', 'title is engineering', 'title is exact and earth sciences', 'title is health sciences', 'title is human sciences', 'title is linguistics, letters and arts', 'title is multidisciplinary', 'title current status', 'document publishing ID (PID SciELO)', 'document publishing year', 'document is citable', 'document type', 'document languages', 'document pt', 'document es', 'document en', 'document other languages']\n",
      "['extraction date', 'study unit', 'collection', 'ISSN SciELO', \"ISSN's\", 'title at SciELO', 'title thematic areas', 'title is agricultural sciences', 'title is applied social sciences', 'title is biological sciences', 'title is engineering', 'title is exact and earth sciences', 'title is health sciences', 'title is human sciences', 'title is linguistics, letters and arts', 'title is multidisciplinary', 'title current status', 'publishing year', 'accesses year', 'accesses to html', 'accesses to abstract', 'accesses to pdf', 'accesses to epdf', 'total accesses']\n",
      "['extraction date', 'study unit', 'collection', 'ISSN SciELO', \"ISSN's\", 'title at SciELO', 'title thematic areas', 'title is agricultural sciences', 'title is applied social sciences', 'title is biological sciences', 'title is engineering', 'title is exact and earth sciences', 'title is health sciences', 'title is human sciences', 'title is linguistics, letters and arts', 'title is multidisciplinary', 'title current status', 'document publishing ID (PID SciELO)', 'document publishing year', 'document type', 'document is citable', 'document submitted at', 'document submitted at year', 'document submitted at month', 'document submitted at day', 'document accepted at', 'document accepted at year', 'document accepted at month', 'document accepted at day', 'document reviewed at', 'document reviewed at year', 'document reviewed at month', 'document reviewed at day', 'document published as ahead of print at', 'document published as ahead of print at year', 'document published as ahead of print at month', 'document published as ahead of print at day', 'document published at', 'document published at year', 'document published at month', 'document published at day', 'document published in SciELO at', 'document published in SciELO at year', 'document published in SciELO at month', 'document published in SciELO at day', 'document updated in SciELO at', 'document updated in SciELO at year', 'document updated in SciELO at month', 'document updated in SciELO at day']\n",
      "['extraction date', 'study unit', 'collection', 'ISSN SciELO', \"ISSN's\", 'title at SciELO', 'title thematic areas', 'title is agricultural sciences', 'title is applied social sciences', 'title is biological sciences', 'title is engineering', 'title is exact and earth sciences', 'title is health sciences', 'title is human sciences', 'title is linguistics, letters and arts', 'title is multidisciplinary', 'title current status', 'document publishing ID (PID SciELO)', 'document publishing year', 'document type', 'document is citable', 'authors', '0 authors', '1 author', '2 authors', '3 authors', '4 authors', '5 authors', '+6 authors', 'pages', 'references']\n",
      "['extraction date', 'study unit', 'collection', 'ISSN SciELO', \"ISSN's\", 'title at SciELO', 'title thematic areas', 'title is agricultural sciences', 'title is applied social sciences', 'title is biological sciences', 'title is engineering', 'title is exact and earth sciences', 'title is health sciences', 'title is human sciences', 'title is linguistics, letters and arts', 'title is multidisciplinary', 'title current status', 'document publishing ID (PID SciELO)', 'document publishing year', 'document type', 'document is citable', 'score', 'altmetrics url']\n",
      "['extraction date', 'study unit', 'collection', 'ISSN SciELO', \"ISSN's\", 'title at SciELO', 'title thematic areas', 'title is agricultural sciences', 'title is applied social sciences', 'title is biological sciences', 'title is engineering', 'title is exact and earth sciences', 'title is health sciences', 'title is human sciences', 'title is linguistics, letters and arts', 'title is multidisciplinary', 'title current status', 'document publishing ID (PID SciELO)', 'document publishing year', 'document type', 'document is citable', 'document author', 'document author institution', 'document author affiliation country', 'document author affiliation state', 'document author affiliation city']\n",
      "['extraction date', 'study unit', 'collection', 'ISSN SciELO', \"ISSN's\", 'title at SciELO', 'title thematic areas', 'title is agricultural sciences', 'title is applied social sciences', 'title is biological sciences', 'title is engineering', 'title is exact and earth sciences', 'title is health sciences', 'title is human sciences', 'title is linguistics, letters and arts', 'title is multidisciplinary', 'title current status', 'title + subtitle SciELO', 'short title SciELO', 'short title ISO', 'title PubMed', 'publisher name', 'use license', 'alpha frequency', 'numeric frequency (in months)', 'inclusion year at SciELO', 'stopping year at SciELO', 'stopping reason', 'date of the first document', 'volume of the first document', 'issue of the first document', 'date of the last document', 'volume of the last document', 'issue of the last document', 'total of issues', 'issues at 2018', 'issues at 2017', 'issues at 2016', 'issues at 2015', 'issues at 2014', 'issues at 2013', 'total of regular issues', 'regular issues at 2018', 'regular issues at 2017', 'regular issues at 2016', 'regular issues at 2015', 'regular issues at 2014', 'regular issues at 2013', 'total of documents', 'documents at 2018', 'documents at 2017', 'documents at 2016', 'documents at 2015', 'documents at 2014', 'documents at 2013', 'citable documents', 'citable documents at 2018', 'citable documents at 2017', 'citable documents at 2016', 'citable documents at 2015', 'citable documents at 2014', 'citable documents at 2013', 'portuguese documents at 2018 ', 'portuguese documents at 2017 ', 'portuguese documents at 2016 ', 'portuguese documents at 2015 ', 'portuguese documents at 2014 ', 'portuguese documents at 2013 ', 'spanish documents at 2018 ', 'spanish documents at 2017 ', 'spanish documents at 2016 ', 'spanish documents at 2015 ', 'spanish documents at 2014 ', 'spanish documents at 2013 ', 'english documents at 2018 ', 'english documents at 2017 ', 'english documents at 2016 ', 'english documents at 2015 ', 'english documents at 2014 ', 'english documents at 2013 ', 'other language documents at 2018 ', 'other language documents at 2017 ', 'other language documents at 2016 ', 'other language documents at 2015 ', 'other language documents at 2014 ', 'other language documents at 2013 ', 'google scholar h5 2018 ', 'google scholar h5 2017 ', 'google scholar h5 2016 ', 'google scholar h5 2015 ', 'google scholar h5 2014 ', 'google scholar h5 2013 ', 'google scholar m5 2018 ', 'google scholar m5 2017 ', 'google scholar m5 2016 ', 'google scholar m5 2015 ', 'google scholar m5 2014 ', 'google scholar m5 2013 ']\n",
      "['Título do Periódico (publication_title)', 'ISSN impresso (print_identifier)', 'ISSN online (online_identifier)', 'Data do primeiro fascículo (date_first_issue_online)', 'volume do primeiro fascículo (num_first_vol_online)', 'número do primeiro fascículo (num_first_issue_online)', 'Data do último fascículo publicado (date_last_issue_online)', 'volume do último fascículo publicado (num_last_vol_online)', 'número do último fascículo publicado (num_last_issue_online)', 'url de fascículos (title_url)', 'primeiro autor (first_author)', 'ID do periódico no SciELO (title_id)', 'informação de embargo (embargo_info)', 'cobertura (coverage_depth)', 'informação sobre cobertura (coverage_notes)', 'nome do publicador (publisher_name)', 'tipo de publicação (publication_type)', 'data de publicação monográfica impressa (date_monograph_published_print)', 'data de publicação monográfica online (date_monograph_published_online)', 'volume de monografia (monograph_volume)', 'edição de monografia (monograph_edition)', 'primeiro editor (first_editor)', 'ID de publicação pai (parent_publication_title_id)', 'ID de publicação prévia (preceding_publication_title_id)', 'tipo de acesso (access_type)']\n",
      "['extraction date', 'study unit', 'collection', 'ISSN SciELO', \"ISSN's\", 'title at SciELO', 'title thematic areas', 'title is agricultural sciences', 'title is applied social sciences', 'title is biological sciences', 'title is engineering', 'title is exact and earth sciences', 'title is health sciences', 'title is human sciences', 'title is linguistics, letters and arts', 'title is multidisciplinary', 'title current status', 'document publishing ID (PID SciELO)', 'document publishing year', 'document type', 'document is citable', 'document affiliation instituition', 'document affiliation country', 'document affiliation country ISO 3166', 'document affiliation state', 'document affiliation city']\n",
      "['extraction date', 'study unit', 'collection', 'ISSN SciELO', \"ISSN's\", 'title at SciELO', 'title thematic areas', 'title is agricultural sciences', 'title is applied social sciences', 'title is biological sciences', 'title is engineering', 'title is exact and earth sciences', 'title is health sciences', 'title is human sciences', 'title is linguistics, letters and arts', 'title is multidisciplinary', 'title current status', 'document publishing ID (PID SciELO)', 'document publishing year', 'document type', 'document is citable', 'document license']\n",
      "['extraction date', 'study unit', 'collection', 'ISSN SciELO', \"ISSN's\", 'title at SciELO', 'title thematic areas', 'title is agricultural sciences', 'title is applied social sciences', 'title is biological sciences', 'title is engineering', 'title is exact and earth sciences', 'title is health sciences', 'title is human sciences', 'title is linguistics, letters and arts', 'title is multidisciplinary', 'title current status', 'status change date', 'status change year', 'status change month', 'status change day', 'status changed to', 'status change reason']\n"
     ]
    }
   ],
   "source": [
    "for fname in glob(\"tabs_network/*.csv\"):\n",
    "    with open(fname) as f:\n",
    "        cr = csv.reader(f)\n",
    "        print(next(cr))"
   ]
  },
  {
   "cell_type": "markdown",
   "metadata": {},
   "source": [
    "The full set of names is:"
   ]
  },
  {
   "cell_type": "code",
   "execution_count": 4,
   "metadata": {
    "scrolled": false
   },
   "outputs": [
    {
     "data": {
      "text/plain": [
       "array(['+6 authors', '0 authors', '1 author', '2 authors', '3 authors',\n",
       "       '4 authors', '5 authors',\n",
       "       'Data do primeiro fascículo (date_first_issue_online)',\n",
       "       'Data do último fascículo publicado (date_last_issue_online)',\n",
       "       'ID de publicação pai (parent_publication_title_id)',\n",
       "       'ID de publicação prévia (preceding_publication_title_id)',\n",
       "       'ID do periódico no SciELO (title_id)', 'ISSN SciELO',\n",
       "       'ISSN impresso (print_identifier)',\n",
       "       'ISSN online (online_identifier)', \"ISSN's\",\n",
       "       'Título do Periódico (publication_title)', 'accesses to abstract',\n",
       "       'accesses to epdf', 'accesses to html', 'accesses to pdf',\n",
       "       'accesses year', 'alpha frequency', 'altmetrics url', 'authors',\n",
       "       'citable documents', 'citable documents at 2013',\n",
       "       'citable documents at 2014', 'citable documents at 2015',\n",
       "       'citable documents at 2016', 'citable documents at 2017',\n",
       "       'citable documents at 2018', 'cobertura (coverage_depth)',\n",
       "       'collection',\n",
       "       'data de publicação monográfica impressa (date_monograph_published_print)',\n",
       "       'data de publicação monográfica online (date_monograph_published_online)',\n",
       "       'date of the first document', 'date of the last document',\n",
       "       'document accepted at', 'document accepted at day',\n",
       "       'document accepted at month', 'document accepted at year',\n",
       "       'document affiliation city', 'document affiliation country',\n",
       "       'document affiliation country ISO 3166',\n",
       "       'document affiliation instituition', 'document affiliation state',\n",
       "       'document author', 'document author affiliation city',\n",
       "       'document author affiliation country',\n",
       "       'document author affiliation state', 'document author institution',\n",
       "       'document en', 'document es', 'document is citable',\n",
       "       'document languages', 'document license',\n",
       "       'document other languages', 'document pt',\n",
       "       'document published as ahead of print at',\n",
       "       'document published as ahead of print at day',\n",
       "       'document published as ahead of print at month',\n",
       "       'document published as ahead of print at year',\n",
       "       'document published at', 'document published at day',\n",
       "       'document published at month', 'document published at year',\n",
       "       'document published in SciELO at',\n",
       "       'document published in SciELO at day',\n",
       "       'document published in SciELO at month',\n",
       "       'document published in SciELO at year',\n",
       "       'document publishing ID (PID SciELO)', 'document publishing year',\n",
       "       'document reviewed at', 'document reviewed at day',\n",
       "       'document reviewed at month', 'document reviewed at year',\n",
       "       'document submitted at', 'document submitted at day',\n",
       "       'document submitted at month', 'document submitted at year',\n",
       "       'document type', 'document updated in SciELO at',\n",
       "       'document updated in SciELO at day',\n",
       "       'document updated in SciELO at month',\n",
       "       'document updated in SciELO at year', 'documents at 2013',\n",
       "       'documents at 2014', 'documents at 2015', 'documents at 2016',\n",
       "       'documents at 2017', 'documents at 2018',\n",
       "       'edição de monografia (monograph_edition)',\n",
       "       'english documents at 2013 ', 'english documents at 2014 ',\n",
       "       'english documents at 2015 ', 'english documents at 2016 ',\n",
       "       'english documents at 2017 ', 'english documents at 2018 ',\n",
       "       'extraction date', 'google scholar h5 2013 ',\n",
       "       'google scholar h5 2014 ', 'google scholar h5 2015 ',\n",
       "       'google scholar h5 2016 ', 'google scholar h5 2017 ',\n",
       "       'google scholar h5 2018 ', 'google scholar m5 2013 ',\n",
       "       'google scholar m5 2014 ', 'google scholar m5 2015 ',\n",
       "       'google scholar m5 2016 ', 'google scholar m5 2017 ',\n",
       "       'google scholar m5 2018 ', 'inclusion year at SciELO',\n",
       "       'informação de embargo (embargo_info)',\n",
       "       'informação sobre cobertura (coverage_notes)',\n",
       "       'issue of the first document', 'issue of the last document',\n",
       "       'issues at 2013', 'issues at 2014', 'issues at 2015',\n",
       "       'issues at 2016', 'issues at 2017', 'issues at 2018',\n",
       "       'nome do publicador (publisher_name)',\n",
       "       'numeric frequency (in months)',\n",
       "       'número do primeiro fascículo (num_first_issue_online)',\n",
       "       'número do último fascículo publicado (num_last_issue_online)',\n",
       "       'other language documents at 2013 ',\n",
       "       'other language documents at 2014 ',\n",
       "       'other language documents at 2015 ',\n",
       "       'other language documents at 2016 ',\n",
       "       'other language documents at 2017 ',\n",
       "       'other language documents at 2018 ', 'pages',\n",
       "       'portuguese documents at 2013 ', 'portuguese documents at 2014 ',\n",
       "       'portuguese documents at 2015 ', 'portuguese documents at 2016 ',\n",
       "       'portuguese documents at 2017 ', 'portuguese documents at 2018 ',\n",
       "       'primeiro autor (first_author)', 'primeiro editor (first_editor)',\n",
       "       'publisher name', 'publishing year', 'references',\n",
       "       'regular issues at 2013', 'regular issues at 2014',\n",
       "       'regular issues at 2015', 'regular issues at 2016',\n",
       "       'regular issues at 2017', 'regular issues at 2018', 'score',\n",
       "       'short title ISO', 'short title SciELO',\n",
       "       'spanish documents at 2013 ', 'spanish documents at 2014 ',\n",
       "       'spanish documents at 2015 ', 'spanish documents at 2016 ',\n",
       "       'spanish documents at 2017 ', 'spanish documents at 2018 ',\n",
       "       'status change date', 'status change day', 'status change month',\n",
       "       'status change reason', 'status change year', 'status changed to',\n",
       "       'stopping reason', 'stopping year at SciELO', 'study unit',\n",
       "       'tipo de acesso (access_type)',\n",
       "       'tipo de publicação (publication_type)', 'title + subtitle SciELO',\n",
       "       'title PubMed', 'title at SciELO', 'title current status',\n",
       "       'title is agricultural sciences',\n",
       "       'title is applied social sciences', 'title is biological sciences',\n",
       "       'title is engineering', 'title is exact and earth sciences',\n",
       "       'title is health sciences', 'title is human sciences',\n",
       "       'title is linguistics, letters and arts',\n",
       "       'title is multidisciplinary', 'title thematic areas',\n",
       "       'total accesses', 'total of documents', 'total of issues',\n",
       "       'total of regular issues', 'url de fascículos (title_url)',\n",
       "       'use license', 'volume de monografia (monograph_volume)',\n",
       "       'volume do primeiro fascículo (num_first_vol_online)',\n",
       "       'volume do último fascículo publicado (num_last_vol_online)',\n",
       "       'volume of the first document', 'volume of the last document'],\n",
       "      dtype='<U72')"
      ]
     },
     "execution_count": 4,
     "metadata": {},
     "output_type": "execute_result"
    }
   ],
   "source": [
    "names = set()\n",
    "for fname in glob(\"tabs_network/*.csv\"):\n",
    "    with open(fname) as f:\n",
    "        cr = csv.reader(f)\n",
    "        names.update(next(cr))\n",
    "np.array(sorted(names))"
   ]
  },
  {
   "cell_type": "markdown",
   "metadata": {},
   "source": [
    "Sometimes the columns names have some misleading stuff we can fix, like:\n",
    "\n",
    "- Extra trailing whitespace\n",
    "- Distinct/mixed letter cases\n",
    "- Redundant parentheses structure like\n",
    "  `Plain text column description in Portuguese (snake_case_descr_in_english)`\n",
    "- Symbols like `'` and `+`\n",
    "\n",
    "We can fix that by keeping only the parenthesized code,\n",
    "removing some less meaningful common words,\n",
    "shortening some lenghty words, and\n",
    "performing some replacements:"
   ]
  },
  {
   "cell_type": "code",
   "execution_count": 5,
   "metadata": {},
   "outputs": [],
   "source": [
    "def normalize_column_title(name):\n",
    "    import re\n",
    "    name_unbracketed = re.sub(r\".*\\((.*)\\)\", r\"\\1\",\n",
    "                              name.replace(\"(in months)\", \"in_months\"))\n",
    "    words = re.sub(\"[^a-z0-9+_ ]\", \"\", name_unbracketed.lower()).split()\n",
    "    ignored_words = (\"at\", \"the\", \"of\", \"and\", \"google\", \"scholar\", \"+\")\n",
    "    replacements = {\n",
    "        \"document\": \"doc\",\n",
    "        \"documents\": \"docs\",\n",
    "        \"frequency\": \"freq\",\n",
    "        \"language\": \"lang\",\n",
    "    }\n",
    "    return \"_\".join(replacements.get(word, word)\n",
    "                    for word in words if word not in ignored_words) \\\n",
    "              .replace(\"title_is\", \"is\")"
   ]
  },
  {
   "cell_type": "markdown",
   "metadata": {},
   "source": [
    "With Pandas, its use should be straightforward."
   ]
  },
  {
   "cell_type": "code",
   "execution_count": 6,
   "metadata": {},
   "outputs": [
    {
     "data": {
      "text/plain": [
       "Index(['extraction_date', 'study_unit', 'collection', 'issn_scielo', 'issns',\n",
       "       'title_scielo', 'title_thematic_areas', 'is_agricultural_sciences',\n",
       "       'is_applied_social_sciences', 'is_biological_sciences',\n",
       "       'is_engineering', 'is_exact_earth_sciences', 'is_health_sciences',\n",
       "       'is_human_sciences', 'is_linguistics_letters_arts',\n",
       "       'is_multidisciplinary', 'title_current_status', 'title_subtitle_scielo',\n",
       "       'short_title_scielo', 'short_iso', 'title_pubmed', 'publisher_name',\n",
       "       'use_license', 'alpha_freq', 'numeric_freq_in_months',\n",
       "       'inclusion_year_scielo', 'stopping_year_scielo', 'stopping_reason',\n",
       "       'date_first_doc', 'volume_first_doc', 'issue_first_doc',\n",
       "       'date_last_doc', 'volume_last_doc', 'issue_last_doc', 'total_issues',\n",
       "       'issues_2018', 'issues_2017', 'issues_2016', 'issues_2015',\n",
       "       'issues_2014', 'issues_2013', 'total_regular_issues',\n",
       "       'regular_issues_2018', 'regular_issues_2017', 'regular_issues_2016',\n",
       "       'regular_issues_2015', 'regular_issues_2014', 'regular_issues_2013',\n",
       "       'total_docs', 'docs_2018', 'docs_2017', 'docs_2016', 'docs_2015',\n",
       "       'docs_2014', 'docs_2013', 'citable_docs', 'citable_docs_2018',\n",
       "       'citable_docs_2017', 'citable_docs_2016', 'citable_docs_2015',\n",
       "       'citable_docs_2014', 'citable_docs_2013', 'portuguese_docs_2018',\n",
       "       'portuguese_docs_2017', 'portuguese_docs_2016', 'portuguese_docs_2015',\n",
       "       'portuguese_docs_2014', 'portuguese_docs_2013', 'spanish_docs_2018',\n",
       "       'spanish_docs_2017', 'spanish_docs_2016', 'spanish_docs_2015',\n",
       "       'spanish_docs_2014', 'spanish_docs_2013', 'english_docs_2018',\n",
       "       'english_docs_2017', 'english_docs_2016', 'english_docs_2015',\n",
       "       'english_docs_2014', 'english_docs_2013', 'other_lang_docs_2018',\n",
       "       'other_lang_docs_2017', 'other_lang_docs_2016', 'other_lang_docs_2015',\n",
       "       'other_lang_docs_2014', 'other_lang_docs_2013', 'h5_2018', 'h5_2017',\n",
       "       'h5_2016', 'h5_2015', 'h5_2014', 'h5_2013', 'm5_2018', 'm5_2017',\n",
       "       'm5_2016', 'm5_2015', 'm5_2014', 'm5_2013'],\n",
       "      dtype='object')"
      ]
     },
     "execution_count": 6,
     "metadata": {},
     "output_type": "execute_result"
    }
   ],
   "source": [
    "network_journals = pd.read_csv(\"tabs_network/journals.csv\").rename(columns=normalize_column_title)\n",
    "network_journals.columns"
   ]
  }
 ],
 "metadata": {
  "kernelspec": {
   "display_name": "Python 3",
   "language": "python",
   "name": "python3"
  },
  "language_info": {
   "codemirror_mode": {
    "name": "ipython",
    "version": 3
   },
   "file_extension": ".py",
   "mimetype": "text/x-python",
   "name": "python",
   "nbconvert_exporter": "python",
   "pygments_lexer": "ipython3",
   "version": "3.7.0"
  }
 },
 "nbformat": 4,
 "nbformat_minor": 2
}
