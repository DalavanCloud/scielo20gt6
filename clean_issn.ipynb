{
 "cells": [
  {
   "cell_type": "markdown",
   "metadata": {},
   "source": [
    "# Cleaning / Normalizing the ISSN"
   ]
  },
  {
   "cell_type": "markdown",
   "metadata": {},
   "source": [
    "*This is the analysis of the full SciELO's network\n",
    "`journals.csv` report/spreadsheet/dataset\n",
    "as it was on its 2018-06-10 release,\n",
    "future versions will hopefully have pre-normalized ISSN fields.*"
   ]
  },
  {
   "cell_type": "markdown",
   "metadata": {},
   "source": [
    "Some journals might have more than one ISSN,\n",
    "since every medium (electronic/print/CD/etc.) have at least its own ISSN.\n",
    "However, in different collections, the ISSN might be different.\n",
    "We should find a way to normalize them,\n",
    "in order to know when two entries regard to the same journal."
   ]
  },
  {
   "cell_type": "code",
   "execution_count": 1,
   "metadata": {},
   "outputs": [],
   "source": [
    "import pandas as pd\n",
    "pd.options.display.max_colwidth = 400"
   ]
  },
  {
   "cell_type": "code",
   "execution_count": 2,
   "metadata": {},
   "outputs": [],
   "source": [
    "journals = pd.read_csv(\"tabs_network/journals.csv\")"
   ]
  },
  {
   "cell_type": "markdown",
   "metadata": {},
   "source": [
    "There are two columns regarding ISSN:"
   ]
  },
  {
   "cell_type": "code",
   "execution_count": 3,
   "metadata": {},
   "outputs": [
    {
     "data": {
      "text/plain": [
       "['ISSN SciELO', \"ISSN's\"]"
      ]
     },
     "execution_count": 3,
     "metadata": {},
     "output_type": "execute_result"
    }
   ],
   "source": [
    "[col for col in journals.columns if \"ISSN\" in col.upper()]"
   ]
  },
  {
   "cell_type": "markdown",
   "metadata": {},
   "source": [
    "The first, `ISSN SciELO`, has a selected ISSN\n",
    "to be something akin to a primary key,\n",
    "whereas the `ISSN's` has a list of other ISSNs\n",
    "regarding the same journal content,\n",
    "written as a single string\n",
    "where the ISSNs are separated by a `;` (semicolon) symbol."
   ]
  },
  {
   "cell_type": "markdown",
   "metadata": {},
   "source": [
    "## Detecting grossly invalid ISSNs"
   ]
  },
  {
   "cell_type": "markdown",
   "metadata": {},
   "source": [
    "The format of an ISSN is `NNNN-NNNC`,\n",
    "where `N` is a digit (from $0$ to $9$)\n",
    "and `C` is a check \"digit\" (from $0$ to $9$ or $X$).\n",
    "Is there any ISSN in the `ISSN SciELO` column\n",
    "that doesn't conform to that?"
   ]
  },
  {
   "cell_type": "code",
   "execution_count": 4,
   "metadata": {},
   "outputs": [
    {
     "data": {
      "text/html": [
       "<div>\n",
       "<style scoped>\n",
       "    .dataframe tbody tr th:only-of-type {\n",
       "        vertical-align: middle;\n",
       "    }\n",
       "\n",
       "    .dataframe tbody tr th {\n",
       "        vertical-align: top;\n",
       "    }\n",
       "\n",
       "    .dataframe thead th {\n",
       "        text-align: right;\n",
       "    }\n",
       "</style>\n",
       "<table border=\"1\" class=\"dataframe\">\n",
       "  <thead>\n",
       "    <tr style=\"text-align: right;\">\n",
       "      <th></th>\n",
       "      <th>ISSN SciELO</th>\n",
       "    </tr>\n",
       "  </thead>\n",
       "  <tbody>\n",
       "    <tr>\n",
       "      <th>1410</th>\n",
       "      <td>0719-448x</td>\n",
       "    </tr>\n",
       "  </tbody>\n",
       "</table>\n",
       "</div>"
      ],
      "text/plain": [
       "     ISSN SciELO\n",
       "1410   0719-448x"
      ]
     },
     "execution_count": 4,
     "metadata": {},
     "output_type": "execute_result"
    }
   ],
   "source": [
    "single_issn_regex = r\"^\\d{4}-\\d{3}[\\dX]$\"\n",
    "journals[[\"ISSN SciELO\"]][~journals[\"ISSN SciELO\"].str.contains(single_issn_regex)]"
   ]
  },
  {
   "cell_type": "markdown",
   "metadata": {},
   "source": [
    "It's not invalid,\n",
    "but we should always use the same letter case\n",
    "in order to work with the ISSN as a *matching index* or *primary key*.\n",
    "A proper normalization would use something like\n",
    "`journals[\"ISSN SciELO\"].str.upper()`."
   ]
  },
  {
   "cell_type": "markdown",
   "metadata": {},
   "source": [
    "How about the `ISSN's` column?"
   ]
  },
  {
   "cell_type": "code",
   "execution_count": 5,
   "metadata": {
    "scrolled": true
   },
   "outputs": [
    {
     "data": {
      "text/html": [
       "<div>\n",
       "<style scoped>\n",
       "    .dataframe tbody tr th:only-of-type {\n",
       "        vertical-align: middle;\n",
       "    }\n",
       "\n",
       "    .dataframe tbody tr th {\n",
       "        vertical-align: top;\n",
       "    }\n",
       "\n",
       "    .dataframe thead th {\n",
       "        text-align: right;\n",
       "    }\n",
       "</style>\n",
       "<table border=\"1\" class=\"dataframe\">\n",
       "  <thead>\n",
       "    <tr style=\"text-align: right;\">\n",
       "      <th></th>\n",
       "      <th>ISSN's</th>\n",
       "    </tr>\n",
       "  </thead>\n",
       "  <tbody>\n",
       "    <tr>\n",
       "      <th>102</th>\n",
       "      <td>NaN</td>\n",
       "    </tr>\n",
       "    <tr>\n",
       "      <th>103</th>\n",
       "      <td>NaN</td>\n",
       "    </tr>\n",
       "    <tr>\n",
       "      <th>660</th>\n",
       "      <td>ISSN;0252-8584</td>\n",
       "    </tr>\n",
       "    <tr>\n",
       "      <th>1410</th>\n",
       "      <td>0719-448x;0718-0446</td>\n",
       "    </tr>\n",
       "    <tr>\n",
       "      <th>1696</th>\n",
       "      <td>20030507;1315-6411</td>\n",
       "    </tr>\n",
       "  </tbody>\n",
       "</table>\n",
       "</div>"
      ],
      "text/plain": [
       "                   ISSN's\n",
       "102                   NaN\n",
       "103                   NaN\n",
       "660        ISSN;0252-8584\n",
       "1410  0719-448x;0718-0446\n",
       "1696   20030507;1315-6411"
      ]
     },
     "execution_count": 5,
     "metadata": {},
     "output_type": "execute_result"
    }
   ],
   "source": [
    "multi_issn_regex = r\"^(?:\\d{4}-\\d{3}[\\dX])(?:;\\d{4}-\\d{3}[\\dX])*$\"\n",
    "journals[[\"ISSN's\"]][~journals[\"ISSN's\"].fillna(\"\").str.contains(multi_issn_regex)]"
   ]
  },
  {
   "cell_type": "markdown",
   "metadata": {},
   "source": [
    "Besides the `x` case issue and the empty `ISSN's` field,\n",
    "the date-like `20030507` and the `ISSN` text are invalid ISSN values,\n",
    "the latter being the only grossly invalid entry found.\n",
    "The date-like one was grabbed here because of the lack of `-`,\n",
    "but it's invalid due to its last digit,\n",
    "which should have been `9` in order to get a valid `ISSN` value,\n",
    "as discussed in the next session."
   ]
  },
  {
   "cell_type": "markdown",
   "metadata": {},
   "source": [
    "We can clean these issues\n",
    "by filling the `NaN` with the `ISSN SciELO` value from the same row,\n",
    "by taking the uppercase to get rid from the single small `x`,\n",
    "and by using a mapping to remove the undesired value.\n",
    "Before normalizing it all,\n",
    "let's check if there's no other invalid check digit."
   ]
  },
  {
   "cell_type": "markdown",
   "metadata": {},
   "source": [
    "## ISSN check digit"
   ]
  },
  {
   "cell_type": "markdown",
   "metadata": {},
   "source": [
    "### Equation"
   ]
  },
  {
   "cell_type": "markdown",
   "metadata": {},
   "source": [
    "The check digit is the modulo $11$,\n",
    "and the equation to get it frmo the first $7$ ISSN digits is\n",
    "(where $X$ means this equation yields $10$):\n",
    "\n",
    "$$\n",
    "S = \\text{ISSN7} \\cdot [8, 7, 6, 5, 4, 3, 2] \\\\\n",
    "\\text{check digit} = 11 \\left\\lceil \\frac{S}{11} \\right\\rceil - S\n",
    "$$\n",
    "\n",
    "The check digit can be obtained from the remainder of the $^{S}/_{11}$ division:\n",
    "if it's zero, the check digit is zero, else the check digit is $11 - remainder$.\n",
    "Proof:\n",
    "\n",
    "$$\n",
    "\\begin{array}{rcl}\n",
    " S &=& 11 \\times \\text{integer quotient} + \\text{remainder} \\\\\n",
    "{} &=& 11 \\left\\lfloor \\frac{S}{11} \\right\\rfloor + \\text{remainder} \\\\\n",
    "{} &=& 11 \\left\\lceil \\frac{S}{11} \\right\\rceil - \\text{check digit} \\\\\n",
    "\\end{array}\n",
    "\\\\\n",
    "\\therefore\\quad\n",
    "\\text{check digit} =\n",
    "11 \\left(\n",
    "  \\left\\lceil \\frac{S}{11} \\right\\rceil -\n",
    "  \\left\\lfloor \\frac{S}{11} \\right\\rfloor\n",
    "\\right) - \\text{remainder}\n",
    "$$"
   ]
  },
  {
   "cell_type": "markdown",
   "metadata": {},
   "source": [
    "### Example"
   ]
  },
  {
   "cell_type": "markdown",
   "metadata": {},
   "source": [
    "For example, `0103-6564` (regarding the *Psicologia USP* journal)\n",
    "is a valid ISSN, since the dot product $S$\n",
    "between its first $7$ digits and $[8, 7, 6, 5, 4, 3, 2]$ is:\n",
    "\n",
    "$$\n",
    "\\begin{array}{rccccccccl}\n",
    "  \\text{ISSN:} &  0 &  1 &  0 &  3 & - &  6 &  5 &  6 & (4) \\\\\n",
    "        \\times &  8 &  7 &  6 &  5 &   &  4 &  3 &  2 \\\\ \\hline\n",
    "      S = \\sum & \\{ 0,&  7,&  0,& 15,&   & 24,& 15,& 12 \\} & = 73\\\\\n",
    "\\end{array}\n",
    "$$\n",
    "\n",
    "The remainder is $7$ and $11 - 7 = 4$, the check digit:\n",
    "\n",
    "$$\n",
    "73 = 11 \\cdot 6 + {\\underset{\\uparrow}{7}} =\n",
    "     11 \\cdot 7 - {\\underset{\\uparrow}{4}}\n",
    "$$\n"
   ]
  },
  {
   "cell_type": "markdown",
   "metadata": {},
   "source": [
    "### ISSN digit checker function"
   ]
  },
  {
   "cell_type": "code",
   "execution_count": 6,
   "metadata": {},
   "outputs": [],
   "source": [
    "def issn_digit(issn7):\n",
    "    issn7_int = map(int, issn7)\n",
    "    dp_pairs = zip(issn7_int, [8, 7, 6, 5, 4, 3, 2])\n",
    "    dot_product = sum(a * b for a, b in dp_pairs)\n",
    "    rem_compl = (-dot_product) % 11\n",
    "    return \"X\" if rem_compl == 10 else str(rem_compl)"
   ]
  },
  {
   "cell_type": "code",
   "execution_count": 7,
   "metadata": {},
   "outputs": [],
   "source": [
    "def check_issn_digit(issn):\n",
    "    issn_clean = issn.replace(\"-\", \"\").strip().upper()\n",
    "    return len(issn_clean) == 8 \\\n",
    "       and issn_clean[-1] == issn_digit(issn_clean[:7])"
   ]
  },
  {
   "cell_type": "code",
   "execution_count": 8,
   "metadata": {},
   "outputs": [],
   "source": [
    "def issn_full2digit(issn):\n",
    "    return issn_digit(issn.replace(\"-\", \"\").strip()[:7])"
   ]
  },
  {
   "cell_type": "code",
   "execution_count": 9,
   "metadata": {},
   "outputs": [
    {
     "data": {
      "text/plain": [
       "'4'"
      ]
     },
     "execution_count": 9,
     "metadata": {},
     "output_type": "execute_result"
    }
   ],
   "source": [
    "issn_digit(\"0103656\") # The \"ISSN7\" input shouldn't include the \"-\""
   ]
  },
  {
   "cell_type": "code",
   "execution_count": 10,
   "metadata": {},
   "outputs": [
    {
     "data": {
      "text/plain": [
       "True"
      ]
     },
     "execution_count": 10,
     "metadata": {},
     "output_type": "execute_result"
    }
   ],
   "source": [
    "check_issn_digit(\"0103-6564\") # But here \"-\" is optional"
   ]
  },
  {
   "cell_type": "code",
   "execution_count": 11,
   "metadata": {},
   "outputs": [
    {
     "data": {
      "text/plain": [
       "'9'"
      ]
     },
     "execution_count": 11,
     "metadata": {},
     "output_type": "execute_result"
    }
   ],
   "source": [
    "issn_full2digit(\"2003-0507\") # And here, for convenience!"
   ]
  },
  {
   "cell_type": "code",
   "execution_count": 12,
   "metadata": {},
   "outputs": [
    {
     "data": {
      "text/plain": [
       "False"
      ]
     },
     "execution_count": 12,
     "metadata": {},
     "output_type": "execute_result"
    }
   ],
   "source": [
    "check_issn_digit(\"20030507\") # That's the invalid ISSN previously obtained"
   ]
  },
  {
   "cell_type": "code",
   "execution_count": 13,
   "metadata": {},
   "outputs": [
    {
     "data": {
      "text/plain": [
       "'9'"
      ]
     },
     "execution_count": 13,
     "metadata": {},
     "output_type": "execute_result"
    }
   ],
   "source": [
    "issn_digit(\"2003050\") # Its digit should had been 9 (as we've already seen)"
   ]
  },
  {
   "cell_type": "markdown",
   "metadata": {},
   "source": [
    "### Validating the ISSN digits in the `tabs_network/journals.csv` dataset"
   ]
  },
  {
   "cell_type": "markdown",
   "metadata": {},
   "source": [
    "The ISSNs with invalid digits from the `ISSN SciELO` column are:"
   ]
  },
  {
   "cell_type": "code",
   "execution_count": 14,
   "metadata": {},
   "outputs": [
    {
     "data": {
      "text/html": [
       "<div>\n",
       "<style scoped>\n",
       "    .dataframe tbody tr th:only-of-type {\n",
       "        vertical-align: middle;\n",
       "    }\n",
       "\n",
       "    .dataframe tbody tr th {\n",
       "        vertical-align: top;\n",
       "    }\n",
       "\n",
       "    .dataframe thead th {\n",
       "        text-align: right;\n",
       "    }\n",
       "</style>\n",
       "<table border=\"1\" class=\"dataframe\">\n",
       "  <thead>\n",
       "    <tr style=\"text-align: right;\">\n",
       "      <th></th>\n",
       "      <th>title at SciELO</th>\n",
       "      <th>ISSN's</th>\n",
       "      <th>ISSN SciELO</th>\n",
       "      <th>digit</th>\n",
       "    </tr>\n",
       "  </thead>\n",
       "  <tbody>\n",
       "    <tr>\n",
       "      <th>506</th>\n",
       "      <td>Ajayu Órgano de Difusión Científica del Departamento de Psicología UCBSP</td>\n",
       "      <td>2077-2161</td>\n",
       "      <td>2077-2161</td>\n",
       "      <td>5</td>\n",
       "    </tr>\n",
       "    <tr>\n",
       "      <th>517</th>\n",
       "      <td>Acta Nova</td>\n",
       "      <td>1683-0789</td>\n",
       "      <td>1683-0789</td>\n",
       "      <td>4</td>\n",
       "    </tr>\n",
       "    <tr>\n",
       "      <th>956</th>\n",
       "      <td>Acta Médica Costarricense</td>\n",
       "      <td>0001-6012;0001-6002</td>\n",
       "      <td>0001-6002</td>\n",
       "      <td>4</td>\n",
       "    </tr>\n",
       "    <tr>\n",
       "      <th>1285</th>\n",
       "      <td>Revista Diacrítica</td>\n",
       "      <td>0807-8967</td>\n",
       "      <td>0807-8967</td>\n",
       "      <td>3</td>\n",
       "    </tr>\n",
       "    <tr>\n",
       "      <th>1647</th>\n",
       "      <td>Revista Uruguaya de Medicina Interna</td>\n",
       "      <td>2993-6797</td>\n",
       "      <td>2993-6797</td>\n",
       "      <td>9</td>\n",
       "    </tr>\n",
       "    <tr>\n",
       "      <th>1694</th>\n",
       "      <td>Utopìa y Praxis Latinoamericana</td>\n",
       "      <td>1315-5216</td>\n",
       "      <td>1315-5216</td>\n",
       "      <td>0</td>\n",
       "    </tr>\n",
       "  </tbody>\n",
       "</table>\n",
       "</div>"
      ],
      "text/plain": [
       "                                                               title at SciELO  \\\n",
       "506   Ajayu Órgano de Difusión Científica del Departamento de Psicología UCBSP   \n",
       "517                                                                  Acta Nova   \n",
       "956                                                  Acta Médica Costarricense   \n",
       "1285                                                        Revista Diacrítica   \n",
       "1647                                      Revista Uruguaya de Medicina Interna   \n",
       "1694                                           Utopìa y Praxis Latinoamericana   \n",
       "\n",
       "                   ISSN's ISSN SciELO digit  \n",
       "506             2077-2161   2077-2161     5  \n",
       "517             1683-0789   1683-0789     4  \n",
       "956   0001-6012;0001-6002   0001-6002     4  \n",
       "1285            0807-8967   0807-8967     3  \n",
       "1647            2993-6797   2993-6797     9  \n",
       "1694            1315-5216   1315-5216     0  "
      ]
     },
     "execution_count": 14,
     "metadata": {},
     "output_type": "execute_result"
    }
   ],
   "source": [
    "icd_issn_scielo = journals[~journals[\"ISSN SciELO\"].apply(check_issn_digit)]\n",
    "icd_issn_scielo[[\"title at SciELO\", \"ISSN's\", \"ISSN SciELO\"]] \\\n",
    "    .assign(digit=icd_issn_scielo[\"ISSN SciELO\"].apply(issn_full2digit))"
   ]
  },
  {
   "cell_type": "markdown",
   "metadata": {},
   "source": [
    "The only one we can easily fix is the `0001-6002`,\n",
    "since its alternative in the `ISSN's` list is valid\n",
    "and is quite explicit in the\n",
    "[Acta medica costarricense's web site](http://www.actamedica.medicos.cr),\n",
    "besides being the only one there."
   ]
  },
  {
   "cell_type": "code",
   "execution_count": 15,
   "metadata": {},
   "outputs": [
    {
     "data": {
      "text/plain": [
       "'5'"
      ]
     },
     "execution_count": 15,
     "metadata": {},
     "output_type": "execute_result"
    }
   ],
   "source": [
    "issn_full2digit(\"2077-2161\")"
   ]
  },
  {
   "cell_type": "code",
   "execution_count": 16,
   "metadata": {},
   "outputs": [
    {
     "data": {
      "text/plain": [
       "True"
      ]
     },
     "execution_count": 16,
     "metadata": {},
     "output_type": "execute_result"
    }
   ],
   "source": [
    "check_issn_digit(\"0001-6012\")"
   ]
  },
  {
   "cell_type": "markdown",
   "metadata": {},
   "source": [
    "Fixing the remaining ones might be way more difficult than it might seem.\n",
    "The [Ajayu's web site](http://www.ucb.edu.bo/publicaciones/ajayu)\n",
    "gives us that very same ISSN: `2077-2161`.\n",
    "It seems that either the digit checking algorithm\n",
    "isn't taken on account for every assigned/granted ISSN,\n",
    "or there's some specific historical issue,\n",
    "like an assignment happening before that calculation was standardized,\n",
    "or some human mistake when performing the assignment.\n",
    "Or that's simply a mistake in the journal home page\n",
    "that had been copied to the database.\n",
    "Whichever the reason for that,\n",
    "we should stick with some inconsistent data as is\n",
    "for the time being,\n",
    "at least until someone fixes or confirms that information."
   ]
  },
  {
   "cell_type": "markdown",
   "metadata": {},
   "source": [
    "A similar analysis in the entries from the `ISSN's` column:"
   ]
  },
  {
   "cell_type": "code",
   "execution_count": 17,
   "metadata": {},
   "outputs": [
    {
     "data": {
      "text/html": [
       "<div>\n",
       "<style scoped>\n",
       "    .dataframe tbody tr th:only-of-type {\n",
       "        vertical-align: middle;\n",
       "    }\n",
       "\n",
       "    .dataframe tbody tr th {\n",
       "        vertical-align: top;\n",
       "    }\n",
       "\n",
       "    .dataframe thead th {\n",
       "        text-align: right;\n",
       "    }\n",
       "</style>\n",
       "<table border=\"1\" class=\"dataframe\">\n",
       "  <thead>\n",
       "    <tr style=\"text-align: right;\">\n",
       "      <th></th>\n",
       "      <th>title at SciELO</th>\n",
       "      <th>ISSN's</th>\n",
       "      <th>ISSN SciELO</th>\n",
       "    </tr>\n",
       "  </thead>\n",
       "  <tbody>\n",
       "    <tr>\n",
       "      <th>102</th>\n",
       "      <td>Revista Brasileira de Engenharia Biomédica</td>\n",
       "      <td>NaN</td>\n",
       "      <td>1517-3151</td>\n",
       "    </tr>\n",
       "    <tr>\n",
       "      <th>103</th>\n",
       "      <td>Revista Brasileira de Coloproctologia</td>\n",
       "      <td>NaN</td>\n",
       "      <td>0101-9880</td>\n",
       "    </tr>\n",
       "    <tr>\n",
       "      <th>409</th>\n",
       "      <td>SaberEs</td>\n",
       "      <td>1852-4418;1852-4222</td>\n",
       "      <td>1852-4222</td>\n",
       "    </tr>\n",
       "    <tr>\n",
       "      <th>500</th>\n",
       "      <td>Salud(i)ciencia</td>\n",
       "      <td>1667-8682;1667-8990</td>\n",
       "      <td>1667-8990</td>\n",
       "    </tr>\n",
       "    <tr>\n",
       "      <th>506</th>\n",
       "      <td>Ajayu Órgano de Difusión Científica del Departamento de Psicología UCBSP</td>\n",
       "      <td>2077-2161</td>\n",
       "      <td>2077-2161</td>\n",
       "    </tr>\n",
       "    <tr>\n",
       "      <th>517</th>\n",
       "      <td>Acta Nova</td>\n",
       "      <td>1683-0789</td>\n",
       "      <td>1683-0789</td>\n",
       "    </tr>\n",
       "    <tr>\n",
       "      <th>660</th>\n",
       "      <td>Economía y Desarrollo</td>\n",
       "      <td>ISSN;0252-8584</td>\n",
       "      <td>0252-8584</td>\n",
       "    </tr>\n",
       "    <tr>\n",
       "      <th>956</th>\n",
       "      <td>Acta Médica Costarricense</td>\n",
       "      <td>0001-6012;0001-6002</td>\n",
       "      <td>0001-6002</td>\n",
       "    </tr>\n",
       "    <tr>\n",
       "      <th>957</th>\n",
       "      <td>Actualidades en Psicología</td>\n",
       "      <td>0858-6444;2215-3535</td>\n",
       "      <td>2215-3535</td>\n",
       "    </tr>\n",
       "    <tr>\n",
       "      <th>1285</th>\n",
       "      <td>Revista Diacrítica</td>\n",
       "      <td>0807-8967</td>\n",
       "      <td>0807-8967</td>\n",
       "    </tr>\n",
       "    <tr>\n",
       "      <th>1384</th>\n",
       "      <td>A Peste : Revista de Psicanálise e Sociedade</td>\n",
       "      <td>1775-1851;2175-6104</td>\n",
       "      <td>2175-6104</td>\n",
       "    </tr>\n",
       "    <tr>\n",
       "      <th>1440</th>\n",
       "      <td>Liberabit</td>\n",
       "      <td>1729-4827;2233-7666</td>\n",
       "      <td>1729-4827</td>\n",
       "    </tr>\n",
       "    <tr>\n",
       "      <th>1647</th>\n",
       "      <td>Revista Uruguaya de Medicina Interna</td>\n",
       "      <td>2993-6797</td>\n",
       "      <td>2993-6797</td>\n",
       "    </tr>\n",
       "    <tr>\n",
       "      <th>1694</th>\n",
       "      <td>Utopìa y Praxis Latinoamericana</td>\n",
       "      <td>1315-5216</td>\n",
       "      <td>1315-5216</td>\n",
       "    </tr>\n",
       "    <tr>\n",
       "      <th>1696</th>\n",
       "      <td>Revista Venezolana de Economía y Ciencias Sociales</td>\n",
       "      <td>20030507;1315-6411</td>\n",
       "      <td>1315-6411</td>\n",
       "    </tr>\n",
       "  </tbody>\n",
       "</table>\n",
       "</div>"
      ],
      "text/plain": [
       "                                                               title at SciELO  \\\n",
       "102                                 Revista Brasileira de Engenharia Biomédica   \n",
       "103                                      Revista Brasileira de Coloproctologia   \n",
       "409                                                                    SaberEs   \n",
       "500                                                            Salud(i)ciencia   \n",
       "506   Ajayu Órgano de Difusión Científica del Departamento de Psicología UCBSP   \n",
       "517                                                                  Acta Nova   \n",
       "660                                                      Economía y Desarrollo   \n",
       "956                                                  Acta Médica Costarricense   \n",
       "957                                                 Actualidades en Psicología   \n",
       "1285                                                        Revista Diacrítica   \n",
       "1384                              A Peste : Revista de Psicanálise e Sociedade   \n",
       "1440                                                                 Liberabit   \n",
       "1647                                      Revista Uruguaya de Medicina Interna   \n",
       "1694                                           Utopìa y Praxis Latinoamericana   \n",
       "1696                        Revista Venezolana de Economía y Ciencias Sociales   \n",
       "\n",
       "                   ISSN's ISSN SciELO  \n",
       "102                   NaN   1517-3151  \n",
       "103                   NaN   0101-9880  \n",
       "409   1852-4418;1852-4222   1852-4222  \n",
       "500   1667-8682;1667-8990   1667-8990  \n",
       "506             2077-2161   2077-2161  \n",
       "517             1683-0789   1683-0789  \n",
       "660        ISSN;0252-8584   0252-8584  \n",
       "956   0001-6012;0001-6002   0001-6002  \n",
       "957   0858-6444;2215-3535   2215-3535  \n",
       "1285            0807-8967   0807-8967  \n",
       "1384  1775-1851;2175-6104   2175-6104  \n",
       "1440  1729-4827;2233-7666   1729-4827  \n",
       "1647            2993-6797   2993-6797  \n",
       "1694            1315-5216   1315-5216  \n",
       "1696   20030507;1315-6411   1315-6411  "
      ]
     },
     "execution_count": 17,
     "metadata": {},
     "output_type": "execute_result"
    }
   ],
   "source": [
    "journals[[\"title at SciELO\", \"ISSN's\", \"ISSN SciELO\"]] \\\n",
    "        [journals[\"ISSN's\"].fillna(\"\").str.split(\";\")\n",
    "                           .apply(lambda issns: not all(check_issn_digit(issn)\n",
    "                                                        for issn in issns))]"
   ]
  },
  {
   "cell_type": "markdown",
   "metadata": {},
   "source": [
    "Some ISSNs there are valid:"
   ]
  },
  {
   "cell_type": "code",
   "execution_count": 18,
   "metadata": {},
   "outputs": [
    {
     "data": {
      "text/plain": [
       "True"
      ]
     },
     "execution_count": 18,
     "metadata": {},
     "output_type": "execute_result"
    }
   ],
   "source": [
    "all(check_issn_digit(issn)\n",
    "    for issn in [\"0252-8584\", \"1315-6411\", \"1667-8990\", \"1729-4827\",\n",
    "                 \"1852-4222\", \"2175-6104\", \"2215-3535\"])"
   ]
  },
  {
   "cell_type": "markdown",
   "metadata": {},
   "source": [
    "### Finding the correct ISSN for these few journals"
   ]
  },
  {
   "cell_type": "markdown",
   "metadata": {},
   "source": [
    "From [SaberEs's web page](http://saberes.fcecon.unr.edu.ar/index.php/revista),\n",
    "we find `1852-4418` should have been `1852-4184`.\n",
    "Likewise, from [Liberabit's web page](http://revistaliberabit.com),\n",
    "we find `2233-7666` has a typo, it's `2223-7666`.\n",
    "A similar typo is `0858-6444`, which should have been `0258-6444`,\n",
    "as it's written in the\n",
    "[Actualidades en Psicología's web page](https://revistas.ucr.ac.cr/index.php/actualidades).\n",
    "The `1667-8682` should have been `1667-8982`, as\n",
    "[this PDF of a Salud(i)ciencia article](https://www.ris.uu.nl/ws/files/41145926/sic_176_1.pdf)\n",
    "suggests and [its SJR entry](https://www.scimagojr.com/journalsearch.php?q=4100151617&tip=sid)\n",
    "seems to confirm.\n",
    "[Revista Uruguaya de Medicina Interna](http://www.medicinainterna.org.uy/revista-medicina-interna)\n",
    "on\n",
    "[No.3/Nov2017](http://www.medicinainterna.org.uy/wp-content/uploads/2016/06/RumiNo3_Nov_2017Ch.pdf)\n",
    "tells us the ISSN is `2393-6797`, not `2993-6797`.\n",
    "*Utopia y Praxis Latinoamericana* appears on\n",
    "[SJR](https://www.scimagojr.com/journalsearch.php?q=5700164382&tip=sid)\n",
    "with two ISSNs: `1316-5216` and `2477-9555`.\n",
    "[Acta Nova](https://www.ucbcba.edu.bo/universidad/publicaciones/revistas-2/acta-nova)'s\n",
    "printed version ISSN is `1683-0768`, not `1683-0789`.\n",
    "[Revista Diacrítica](http://diacritica.ilch.uminho.pt) on\n",
    "[26/2-2012](http://ceh.ilch.uminho.pt/publicacoes/Diacritica_26-2.pdf)\n",
    "wrote `0807-8967` as its ISSN, but that seems like a typo,\n",
    "as in its page the ISSN is explicitly written as\n",
    "`0870-8967 (printed version); 2183-9174 (electronic version)`.\n",
    "There's no information in [A Peste's web page](http://revistas.pucsp.br/apeste)\n",
    "regarding a printed version ISSN,\n",
    "but that `1775-1851` appeared\n",
    "in the description of the cover image:\n",
    "*The Fifth Plague of Egypt*\n",
    "by *Joseph Mallord William Turner (1775-1851)*;\n",
    "[his Wikipedia page](https://pt.wikipedia.org/wiki/William_Turner)\n",
    "states that's the year range of his life, it's not an ISSN.\n",
    "\n",
    "All these new ISSNs found have a valid check digit:"
   ]
  },
  {
   "cell_type": "code",
   "execution_count": 19,
   "metadata": {},
   "outputs": [
    {
     "data": {
      "text/plain": [
       "True"
      ]
     },
     "execution_count": 19,
     "metadata": {},
     "output_type": "execute_result"
    }
   ],
   "source": [
    "all(check_issn_digit(issn)\n",
    "    for issn in [\"0258-6444\", \"0870-8967\", \"1316-5216\", \"1667-8982\",\n",
    "                 \"1683-0768\", \"1852-4184\", \"2183-9174\", \"2223-7666\",\n",
    "                 \"2393-6797\", \"2477-9555\"])"
   ]
  },
  {
   "cell_type": "markdown",
   "metadata": {},
   "source": [
    "From the remaining entries,\n",
    "the only invalid ISSN we couldn't fix\n",
    "was the one belonging to `Ajayu`.\n",
    "There's no evidence that its ISSN could be different\n",
    "besides the inconsistency regarding the check digit, and a\n",
    "[single article](https://www.scribd.com/document/152839301/Ruptura-Amorosa-y-Terapia-Narrativa)\n",
    "that had written `2011-2161` as the ISSN,\n",
    "but that alternative still need to have $5$ as its check digit\n",
    "(i.e., it's also invalid),\n",
    "and that's not a trusted source of information."
   ]
  },
  {
   "cell_type": "code",
   "execution_count": 20,
   "metadata": {},
   "outputs": [
    {
     "data": {
      "text/plain": [
       "'5'"
      ]
     },
     "execution_count": 20,
     "metadata": {},
     "output_type": "execute_result"
    }
   ],
   "source": [
    "issn_full2digit(\"2011-2161\")"
   ]
  },
  {
   "cell_type": "markdown",
   "metadata": {},
   "source": [
    "A summary of what should be done regarding these selected ISSNs:"
   ]
  },
  {
   "cell_type": "code",
   "execution_count": 21,
   "metadata": {},
   "outputs": [],
   "source": [
    "issns_fix = { # To replace all entries in ISSN SciELO and ISSN's\n",
    "    \"0001-6002\": \"0001-6012\", # Acta Médica Costarricense\n",
    "    \"0858-6444\": \"0258-6444\", # Actualidades en Psicología\n",
    "    \"1667-8682\": \"1667-8982\", # Salud(i)ciencia\n",
    "    \"1852-4418\": \"1852-4184\", # SaberEs\n",
    "    \"2233-7666\": \"2223-7666\", # Liberabit\n",
    "    \"0807-8967\": \"0870-8967\", # Revista Diacrítica\n",
    "    \"2993-6797\": \"2393-6797\", # Revista Uruguaya de Medicina Interna\n",
    "    \"1315-5216\": \"1316-5216\", # Utopia y Praxis Latinoamericana\n",
    "    \"1683-0789\": \"1683-0768\", # Acta Nova\n",
    "    \"0719-448x\": \"0719-448X\",\n",
    "}\n",
    "extra_issns = { # To add as alternative ISSN's\n",
    "    \"0870-8967\": \"2183-9174\", # Revista Diacrítica\n",
    "    \"1316-5216\": \"2477-9555\", # Utopia y Praxis Latinoamericana\n",
    "}\n",
    "invalid_issns = [ # To remove from ISSN's\n",
    "    \"ISSN\",      # Economía y Desarrollo\n",
    "    \"20030507\",  # Revista Venezolana de Economía y Ciencias Sociales\n",
    "    \"1775-1851\", # A Peste : Revista de Psicanálise e Sociedade\n",
    "]"
   ]
  },
  {
   "cell_type": "markdown",
   "metadata": {},
   "source": [
    "And the `ISSN's` should always include the `ISSN SciELO` value.\n",
    "Let's do that!"
   ]
  },
  {
   "cell_type": "code",
   "execution_count": 22,
   "metadata": {},
   "outputs": [
    {
     "data": {
      "text/plain": [
       "1716    1012-2508\n",
       "1717    0254-0770\n",
       "1718    1316-0087\n",
       "1719    1317-5815\n",
       "1720    0367-4762\n",
       "Name: ISSN SciELO, dtype: object"
      ]
     },
     "execution_count": 22,
     "metadata": {},
     "output_type": "execute_result"
    }
   ],
   "source": [
    "issn_scielo = journals[\"ISSN SciELO\"].str.upper().replace(issns_fix)\n",
    "issn_scielo.tail() # `ISSN SciELO` solving every issue found so far"
   ]
  },
  {
   "cell_type": "code",
   "execution_count": 23,
   "metadata": {},
   "outputs": [
    {
     "data": {
      "text/plain": [
       "1716    {2443-468X, 1012-2508}\n",
       "1717               {0254-0770}\n",
       "1718               {1316-0087}\n",
       "1719               {1317-5815}\n",
       "1720               {0367-4762}\n",
       "Name: ISSN's, dtype: object"
      ]
     },
     "execution_count": 23,
     "metadata": {},
     "output_type": "execute_result"
    }
   ],
   "source": [
    "digitfix_issns = {k: {v, extra_issns[v]} if v in extra_issns else {v}\n",
    "                  for k, v in issns_fix.items()}\n",
    "issns_set = journals[\"ISSN's\"] \\\n",
    "    .fillna(issn_scielo) \\\n",
    "    .str.upper() \\\n",
    "    .str.split(\";\") \\\n",
    "    .apply(lambda items: set.union(*[digitfix_issns.get(item, {item})\n",
    "                                     for item in items\n",
    "                                     if item not in invalid_issns]))\n",
    "issns_set.tail() # `ISSN's` as a set, solving every issue found so far"
   ]
  },
  {
   "cell_type": "markdown",
   "metadata": {},
   "source": [
    "## Mixed ISSN in the `ISSN SciELO` field"
   ]
  },
  {
   "cell_type": "markdown",
   "metadata": {},
   "source": [
    "The `ISSN SciELO` should have a *primary* ISSN,\n",
    "in the *primary key* sense from databases,\n",
    "somewhat arbitrary but still required\n",
    "in order to avoid errors in analysis.\n",
    "Crossing the data with other tables\n",
    "should ideally not require any other ISSN,\n",
    "and that's the main goal:\n",
    "keep everything simple after this normalization."
   ]
  },
  {
   "cell_type": "markdown",
   "metadata": {},
   "source": [
    "There are at most one mixed ISSN for every ISSN list\n",
    "(that is, there's a single ISSN in the `ISSN's` field\n",
    " different from the `ISSN SciELO` of the same row\n",
    " that appears in the `ISSN SciELO` field of another row):"
   ]
  },
  {
   "cell_type": "code",
   "execution_count": 24,
   "metadata": {},
   "outputs": [
    {
     "data": {
      "text/plain": [
       "1"
      ]
     },
     "execution_count": 24,
     "metadata": {},
     "output_type": "execute_result"
    }
   ],
   "source": [
    "other_mixed_issns = (issns_set - issn_scielo.apply(lambda issn: {issn})) \\\n",
    "    .apply(lambda issn_set: {issn for issn in issn_set\n",
    "                             if issn in issn_scielo.values})\n",
    "how_many_mixed_issns = other_mixed_issns.apply(len)\n",
    "how_many_mixed_issns.max()"
   ]
  },
  {
   "cell_type": "markdown",
   "metadata": {},
   "source": [
    "If that number was greater than $1$,\n",
    "the technique below wouldn't work.\n",
    "Actually, our goal is just to find a mapping\n",
    "that would fix the mixed ISSN,\n",
    "i.e., for a set of ISSN values for a single journal,\n",
    "the `ISSN SciELO` should always have the same ISSN\n",
    "in every entry belonging to that same journal.\n",
    "Below is the mapping of\n",
    "what appears in both the `ISSN's` and `ISSN SciELO` columns\n",
    "and a distinct value that appears in the `ISSN SciELO`."
   ]
  },
  {
   "cell_type": "code",
   "execution_count": 25,
   "metadata": {},
   "outputs": [
    {
     "data": {
      "text/html": [
       "<div>\n",
       "<style scoped>\n",
       "    .dataframe tbody tr th:only-of-type {\n",
       "        vertical-align: middle;\n",
       "    }\n",
       "\n",
       "    .dataframe tbody tr th {\n",
       "        vertical-align: top;\n",
       "    }\n",
       "\n",
       "    .dataframe thead th {\n",
       "        text-align: right;\n",
       "    }\n",
       "</style>\n",
       "<table border=\"1\" class=\"dataframe\">\n",
       "  <thead>\n",
       "    <tr style=\"text-align: right;\">\n",
       "      <th></th>\n",
       "      <th>mixed_issn</th>\n",
       "      <th>ISSN SciELO</th>\n",
       "    </tr>\n",
       "  </thead>\n",
       "  <tbody>\n",
       "    <tr>\n",
       "      <th>63</th>\n",
       "      <td>1980-5438</td>\n",
       "      <td>0103-5665</td>\n",
       "    </tr>\n",
       "    <tr>\n",
       "      <th>83</th>\n",
       "      <td>1518-3319</td>\n",
       "      <td>2237-101X</td>\n",
       "    </tr>\n",
       "    <tr>\n",
       "      <th>281</th>\n",
       "      <td>1678-5177</td>\n",
       "      <td>0103-6564</td>\n",
       "    </tr>\n",
       "    <tr>\n",
       "      <th>512</th>\n",
       "      <td>2077-3323</td>\n",
       "      <td>1817-7433</td>\n",
       "    </tr>\n",
       "    <tr>\n",
       "      <th>957</th>\n",
       "      <td>0258-6444</td>\n",
       "      <td>2215-3535</td>\n",
       "    </tr>\n",
       "    <tr>\n",
       "      <th>1437</th>\n",
       "      <td>1668-7027</td>\n",
       "      <td>0325-8203</td>\n",
       "    </tr>\n",
       "    <tr>\n",
       "      <th>1455</th>\n",
       "      <td>2175-3598</td>\n",
       "      <td>0104-1282</td>\n",
       "    </tr>\n",
       "    <tr>\n",
       "      <th>1459</th>\n",
       "      <td>1980-5438</td>\n",
       "      <td>0103-5665</td>\n",
       "    </tr>\n",
       "    <tr>\n",
       "      <th>1651</th>\n",
       "      <td>0797-9789</td>\n",
       "      <td>1688-499X</td>\n",
       "    </tr>\n",
       "    <tr>\n",
       "      <th>1661</th>\n",
       "      <td>1688-4094</td>\n",
       "      <td>1688-4221</td>\n",
       "    </tr>\n",
       "  </tbody>\n",
       "</table>\n",
       "</div>"
      ],
      "text/plain": [
       "     mixed_issn ISSN SciELO\n",
       "63    1980-5438   0103-5665\n",
       "83    1518-3319   2237-101X\n",
       "281   1678-5177   0103-6564\n",
       "512   2077-3323   1817-7433\n",
       "957   0258-6444   2215-3535\n",
       "1437  1668-7027   0325-8203\n",
       "1455  2175-3598   0104-1282\n",
       "1459  1980-5438   0103-5665\n",
       "1651  0797-9789   1688-499X\n",
       "1661  1688-4094   1688-4221"
      ]
     },
     "execution_count": 25,
     "metadata": {},
     "output_type": "execute_result"
    }
   ],
   "source": [
    "has_mixed_issn = how_many_mixed_issns > 0\n",
    "mixed_issn_df = pd.DataFrame([\n",
    "                    other_mixed_issns[has_mixed_issn]\n",
    "                        .apply(lambda x: set(x).pop())\n",
    "                        .rename(\"mixed_issn\"),\n",
    "                    issn_scielo[has_mixed_issn],\n",
    "                ]).T\n",
    "mixed_issn_df"
   ]
  },
  {
   "cell_type": "markdown",
   "metadata": {},
   "source": [
    "That small table above is exhaustive.\n",
    "We can select any of the columns to be the normalized ISSN,\n",
    "taking care of duplicated entries.\n",
    "The rows with the issues above are:"
   ]
  },
  {
   "cell_type": "code",
   "execution_count": 26,
   "metadata": {},
   "outputs": [
    {
     "data": {
      "text/html": [
       "<div>\n",
       "<style scoped>\n",
       "    .dataframe tbody tr th:only-of-type {\n",
       "        vertical-align: middle;\n",
       "    }\n",
       "\n",
       "    .dataframe tbody tr th {\n",
       "        vertical-align: top;\n",
       "    }\n",
       "\n",
       "    .dataframe thead th {\n",
       "        text-align: right;\n",
       "    }\n",
       "</style>\n",
       "<table border=\"1\" class=\"dataframe\">\n",
       "  <thead>\n",
       "    <tr style=\"text-align: right;\">\n",
       "      <th></th>\n",
       "      <th>collection</th>\n",
       "      <th>title at SciELO</th>\n",
       "      <th>title thematic areas</th>\n",
       "      <th>publisher name</th>\n",
       "      <th>issn_scielo</th>\n",
       "      <th>issns</th>\n",
       "    </tr>\n",
       "  </thead>\n",
       "  <tbody>\n",
       "    <tr>\n",
       "      <th>63</th>\n",
       "      <td>scl</td>\n",
       "      <td>Psicologia Clínica</td>\n",
       "      <td>Human Sciences</td>\n",
       "      <td>Departamento de Psicologia da Pontifícia Universidade Católica do Rio de Janeiro</td>\n",
       "      <td>0103-5665</td>\n",
       "      <td>{0103-5665, 1980-5438}</td>\n",
       "    </tr>\n",
       "    <tr>\n",
       "      <th>83</th>\n",
       "      <td>scl</td>\n",
       "      <td>Topoi (Rio de Janeiro)</td>\n",
       "      <td>Human Sciences</td>\n",
       "      <td>Programa de Pós-Graduação em História Social da Universidade Federal do Rio de Janeiro</td>\n",
       "      <td>2237-101X</td>\n",
       "      <td>{2237-101X, 1518-3319}</td>\n",
       "    </tr>\n",
       "    <tr>\n",
       "      <th>281</th>\n",
       "      <td>scl</td>\n",
       "      <td>Psicologia USP</td>\n",
       "      <td>Human Sciences</td>\n",
       "      <td>Instituto de Psicologia da Universidade de São Paulo</td>\n",
       "      <td>0103-6564</td>\n",
       "      <td>{1678-5177, 0103-6564}</td>\n",
       "    </tr>\n",
       "    <tr>\n",
       "      <th>380</th>\n",
       "      <td>arg</td>\n",
       "      <td>Interdisciplinaria</td>\n",
       "      <td>Human Sciences</td>\n",
       "      <td>Centro Interamericano de Investigaciones Psicológicas y Ciencias Afines (CIIPCA)</td>\n",
       "      <td>1668-7027</td>\n",
       "      <td>{1668-7027}</td>\n",
       "    </tr>\n",
       "    <tr>\n",
       "      <th>510</th>\n",
       "      <td>bol</td>\n",
       "      <td>Revista Ciencia y Cultura</td>\n",
       "      <td>Applied Social Sciences;Human Sciences;Linguistics, Letters and Arts</td>\n",
       "      <td>Universidad Católica Boliviana</td>\n",
       "      <td>2077-3323</td>\n",
       "      <td>{2077-3323}</td>\n",
       "    </tr>\n",
       "    <tr>\n",
       "      <th>512</th>\n",
       "      <td>bol</td>\n",
       "      <td>Revista Científica Ciencia Médica</td>\n",
       "      <td>Health Sciences</td>\n",
       "      <td>Facultad de Medicina, Universidad Mayor de San Simón.</td>\n",
       "      <td>1817-7433</td>\n",
       "      <td>{2077-3323}</td>\n",
       "    </tr>\n",
       "    <tr>\n",
       "      <th>957</th>\n",
       "      <td>cri</td>\n",
       "      <td>Actualidades en Psicología</td>\n",
       "      <td>Applied Social Sciences;Health Sciences</td>\n",
       "      <td>Instituto de Investigaciones Psicológicas, Universidad de Costa Rica</td>\n",
       "      <td>2215-3535</td>\n",
       "      <td>{0258-6444, 2215-3535}</td>\n",
       "    </tr>\n",
       "    <tr>\n",
       "      <th>1365</th>\n",
       "      <td>psi</td>\n",
       "      <td>Psicologia USP</td>\n",
       "      <td>Human Sciences</td>\n",
       "      <td>Instituto de Psicologia da Universidade de São Paulo</td>\n",
       "      <td>1678-5177</td>\n",
       "      <td>{1678-5177}</td>\n",
       "    </tr>\n",
       "    <tr>\n",
       "      <th>1421</th>\n",
       "      <td>psi</td>\n",
       "      <td>Ciencias Psicológicas</td>\n",
       "      <td>Human Sciences</td>\n",
       "      <td>Facultad de Psicología de la Universidad Católica del Uruguay, Damaso A. Larrañaga</td>\n",
       "      <td>1688-4094</td>\n",
       "      <td>{1688-4094}</td>\n",
       "    </tr>\n",
       "    <tr>\n",
       "      <th>1422</th>\n",
       "      <td>psi</td>\n",
       "      <td>Actualidades en psicología</td>\n",
       "      <td>Applied Social Sciences</td>\n",
       "      <td>Universidad de Costa Rica. Facultad de Ciencias Sociales. Instituto de Investigaciones Psicológicas</td>\n",
       "      <td>0258-6444</td>\n",
       "      <td>{0258-6444}</td>\n",
       "    </tr>\n",
       "    <tr>\n",
       "      <th>1436</th>\n",
       "      <td>psi</td>\n",
       "      <td>Psicologia clínica (Rio de Janeiro. Online)</td>\n",
       "      <td>Applied Social Sciences</td>\n",
       "      <td>Pontifícia Universidade Católica do Rio de Janeiro, Departamento de Psicologia</td>\n",
       "      <td>1980-5438</td>\n",
       "      <td>{1980-5438}</td>\n",
       "    </tr>\n",
       "    <tr>\n",
       "      <th>1437</th>\n",
       "      <td>psi</td>\n",
       "      <td>Interdisciplinaria</td>\n",
       "      <td>Human Sciences</td>\n",
       "      <td>Centro Interamericano de Investigaciones Psicológicas y Ciencias Afines (CIIPCA)</td>\n",
       "      <td>0325-8203</td>\n",
       "      <td>{1668-7027, 0325-8203}</td>\n",
       "    </tr>\n",
       "    <tr>\n",
       "      <th>1449</th>\n",
       "      <td>psi</td>\n",
       "      <td>Journal of Human Growth and Development</td>\n",
       "      <td>Applied Social Sciences</td>\n",
       "      <td>Centro de Estudos do Crescimento e do Desenvolvimento do Ser Humano</td>\n",
       "      <td>2175-3598</td>\n",
       "      <td>{2175-3598}</td>\n",
       "    </tr>\n",
       "    <tr>\n",
       "      <th>1455</th>\n",
       "      <td>psi</td>\n",
       "      <td>Journal of Human Growth and Development</td>\n",
       "      <td>Applied Social Sciences</td>\n",
       "      <td>Centro de Estudos de Crescimento e Desenvolvimento do Ser Humano</td>\n",
       "      <td>0104-1282</td>\n",
       "      <td>{0104-1282, 2175-3598}</td>\n",
       "    </tr>\n",
       "    <tr>\n",
       "      <th>1459</th>\n",
       "      <td>psi</td>\n",
       "      <td>Psicologia Clínica</td>\n",
       "      <td>Applied Social Sciences</td>\n",
       "      <td>Departamento de Psicologia da Pontifícia Universidade Católica do Rio de Janeiro</td>\n",
       "      <td>0103-5665</td>\n",
       "      <td>{0103-5665, 1980-5438}</td>\n",
       "    </tr>\n",
       "    <tr>\n",
       "      <th>1556</th>\n",
       "      <td>sss</td>\n",
       "      <td>Revista Uruguaya de Ciencia Política</td>\n",
       "      <td>Applied Social Sciences</td>\n",
       "      <td>Instituto de Ciência Política</td>\n",
       "      <td>0797-9789</td>\n",
       "      <td>{0797-9789}</td>\n",
       "    </tr>\n",
       "    <tr>\n",
       "      <th>1562</th>\n",
       "      <td>sss</td>\n",
       "      <td>Topoi: Revista de História</td>\n",
       "      <td>Applied Social Sciences</td>\n",
       "      <td>Universidade Federal do Rio de Janeiro</td>\n",
       "      <td>1518-3319</td>\n",
       "      <td>{1518-3319}</td>\n",
       "    </tr>\n",
       "    <tr>\n",
       "      <th>1651</th>\n",
       "      <td>ury</td>\n",
       "      <td>Revista Uruguaya de Ciencia Política</td>\n",
       "      <td>Applied Social Sciences;Human Sciences</td>\n",
       "      <td>Universidad de la República. Facultad de Ciencias Sociales. Instituto de Ciencia Política.</td>\n",
       "      <td>1688-499X</td>\n",
       "      <td>{0797-9789, 1688-499X}</td>\n",
       "    </tr>\n",
       "    <tr>\n",
       "      <th>1661</th>\n",
       "      <td>ury</td>\n",
       "      <td>Ciencias Psicológicas</td>\n",
       "      <td>Applied Social Sciences;Human Sciences</td>\n",
       "      <td>Universidad Católica del Uruguay. Facultad de Psicología.</td>\n",
       "      <td>1688-4221</td>\n",
       "      <td>{1688-4221, 1688-4094}</td>\n",
       "    </tr>\n",
       "  </tbody>\n",
       "</table>\n",
       "</div>"
      ],
      "text/plain": [
       "     collection                              title at SciELO  \\\n",
       "63          scl                           Psicologia Clínica   \n",
       "83          scl                       Topoi (Rio de Janeiro)   \n",
       "281         scl                               Psicologia USP   \n",
       "380         arg                           Interdisciplinaria   \n",
       "510         bol                    Revista Ciencia y Cultura   \n",
       "512         bol            Revista Científica Ciencia Médica   \n",
       "957         cri                   Actualidades en Psicología   \n",
       "1365        psi                               Psicologia USP   \n",
       "1421        psi                        Ciencias Psicológicas   \n",
       "1422        psi                   Actualidades en psicología   \n",
       "1436        psi  Psicologia clínica (Rio de Janeiro. Online)   \n",
       "1437        psi                           Interdisciplinaria   \n",
       "1449        psi      Journal of Human Growth and Development   \n",
       "1455        psi      Journal of Human Growth and Development   \n",
       "1459        psi                           Psicologia Clínica   \n",
       "1556        sss         Revista Uruguaya de Ciencia Política   \n",
       "1562        sss                   Topoi: Revista de História   \n",
       "1651        ury         Revista Uruguaya de Ciencia Política   \n",
       "1661        ury                        Ciencias Psicológicas   \n",
       "\n",
       "                                                      title thematic areas  \\\n",
       "63                                                          Human Sciences   \n",
       "83                                                          Human Sciences   \n",
       "281                                                         Human Sciences   \n",
       "380                                                         Human Sciences   \n",
       "510   Applied Social Sciences;Human Sciences;Linguistics, Letters and Arts   \n",
       "512                                                        Health Sciences   \n",
       "957                                Applied Social Sciences;Health Sciences   \n",
       "1365                                                        Human Sciences   \n",
       "1421                                                        Human Sciences   \n",
       "1422                                               Applied Social Sciences   \n",
       "1436                                               Applied Social Sciences   \n",
       "1437                                                        Human Sciences   \n",
       "1449                                               Applied Social Sciences   \n",
       "1455                                               Applied Social Sciences   \n",
       "1459                                               Applied Social Sciences   \n",
       "1556                                               Applied Social Sciences   \n",
       "1562                                               Applied Social Sciences   \n",
       "1651                                Applied Social Sciences;Human Sciences   \n",
       "1661                                Applied Social Sciences;Human Sciences   \n",
       "\n",
       "                                                                                           publisher name  \\\n",
       "63                       Departamento de Psicologia da Pontifícia Universidade Católica do Rio de Janeiro   \n",
       "83                 Programa de Pós-Graduação em História Social da Universidade Federal do Rio de Janeiro   \n",
       "281                                                  Instituto de Psicologia da Universidade de São Paulo   \n",
       "380                      Centro Interamericano de Investigaciones Psicológicas y Ciencias Afines (CIIPCA)   \n",
       "510                                                                        Universidad Católica Boliviana   \n",
       "512                                                 Facultad de Medicina, Universidad Mayor de San Simón.   \n",
       "957                                  Instituto de Investigaciones Psicológicas, Universidad de Costa Rica   \n",
       "1365                                                 Instituto de Psicologia da Universidade de São Paulo   \n",
       "1421                   Facultad de Psicología de la Universidad Católica del Uruguay, Damaso A. Larrañaga   \n",
       "1422  Universidad de Costa Rica. Facultad de Ciencias Sociales. Instituto de Investigaciones Psicológicas   \n",
       "1436                       Pontifícia Universidade Católica do Rio de Janeiro, Departamento de Psicologia   \n",
       "1437                     Centro Interamericano de Investigaciones Psicológicas y Ciencias Afines (CIIPCA)   \n",
       "1449                                  Centro de Estudos do Crescimento e do Desenvolvimento do Ser Humano   \n",
       "1455                                     Centro de Estudos de Crescimento e Desenvolvimento do Ser Humano   \n",
       "1459                     Departamento de Psicologia da Pontifícia Universidade Católica do Rio de Janeiro   \n",
       "1556                                                                        Instituto de Ciência Política   \n",
       "1562                                                               Universidade Federal do Rio de Janeiro   \n",
       "1651           Universidad de la República. Facultad de Ciencias Sociales. Instituto de Ciencia Política.   \n",
       "1661                                            Universidad Católica del Uruguay. Facultad de Psicología.   \n",
       "\n",
       "     issn_scielo                   issns  \n",
       "63     0103-5665  {0103-5665, 1980-5438}  \n",
       "83     2237-101X  {2237-101X, 1518-3319}  \n",
       "281    0103-6564  {1678-5177, 0103-6564}  \n",
       "380    1668-7027             {1668-7027}  \n",
       "510    2077-3323             {2077-3323}  \n",
       "512    1817-7433             {2077-3323}  \n",
       "957    2215-3535  {0258-6444, 2215-3535}  \n",
       "1365   1678-5177             {1678-5177}  \n",
       "1421   1688-4094             {1688-4094}  \n",
       "1422   0258-6444             {0258-6444}  \n",
       "1436   1980-5438             {1980-5438}  \n",
       "1437   0325-8203  {1668-7027, 0325-8203}  \n",
       "1449   2175-3598             {2175-3598}  \n",
       "1455   0104-1282  {0104-1282, 2175-3598}  \n",
       "1459   0103-5665  {0103-5665, 1980-5438}  \n",
       "1556   0797-9789             {0797-9789}  \n",
       "1562   1518-3319             {1518-3319}  \n",
       "1651   1688-499X  {0797-9789, 1688-499X}  \n",
       "1661   1688-4221  {1688-4221, 1688-4094}  "
      ]
     },
     "execution_count": 26,
     "metadata": {},
     "output_type": "execute_result"
    }
   ],
   "source": [
    "journals[[\"collection\", \"title at SciELO\",\n",
    "          \"title thematic areas\", \"publisher name\"]] \\\n",
    "    .assign(issn_scielo=issn_scielo,\n",
    "            issns=issns_set) \\\n",
    "    [issn_scielo.isin(mixed_issn_df.values.ravel())]"
   ]
  },
  {
   "cell_type": "markdown",
   "metadata": {},
   "source": [
    "The `1817-7433` entry in the `bol` collection\n",
    "has an incorrect secondary `2077-3323` ISSN\n",
    "(the entries are from distinct thematic areas),\n",
    "that won't give us any trouble\n",
    "as long as we don't use the `ISSN's` column afterwards,\n",
    "but for this normalization our goal is to fix that, as well."
   ]
  },
  {
   "cell_type": "markdown",
   "metadata": {},
   "source": [
    "The resulting mapping is:"
   ]
  },
  {
   "cell_type": "code",
   "execution_count": 27,
   "metadata": {},
   "outputs": [],
   "source": [
    "issns_select = {\n",
    "    \"1980-5438\": \"0103-5665\", # psi -> scl/psi\n",
    "    \"2237-101X\": \"1518-3319\", # sss -> scl\n",
    "    \"1678-5177\": \"0103-6564\", # psi -> scl\n",
    "    \"0325-8203\": \"1668-7027\", # psi -> arg\n",
    "    \"2175-3598\": \"0104-1282\", # psi -> psi\n",
    "    \"0797-9789\": \"1688-499X\", # sss -> ury\n",
    "    \"1688-4094\": \"1688-4221\", # psi -> ury\n",
    "    \"0258-6444\": \"2215-3535\", # psi -> cri\n",
    "}"
   ]
  },
  {
   "cell_type": "markdown",
   "metadata": {},
   "source": [
    "Full normalization of the `ISSN SciELO` in a single step can be achieved with:"
   ]
  },
  {
   "cell_type": "code",
   "execution_count": 28,
   "metadata": {},
   "outputs": [],
   "source": [
    "issn_scielo_n = journals[\"ISSN SciELO\"].replace({**issns_fix, **issns_select})"
   ]
  },
  {
   "cell_type": "markdown",
   "metadata": {},
   "source": [
    "## Summary"
   ]
  },
  {
   "cell_type": "code",
   "execution_count": 33,
   "metadata": {},
   "outputs": [],
   "source": [
    "from pprint import pprint"
   ]
  },
  {
   "cell_type": "markdown",
   "metadata": {},
   "source": [
    "### Normalizing the ISSN SciELO"
   ]
  },
  {
   "cell_type": "markdown",
   "metadata": {},
   "source": [
    "We can apply all the normalization\n",
    "from the `issns_fix` and `issns_select` dictionaries\n",
    "by updating the dataframe with:\n",
    "\n",
    "```python\n",
    "journals[\"ISSN SciELO\"].replace(issn_scielo_fix, inplace=True)\n",
    "```\n",
    "\n",
    "Where `issn_scielo_fix` should be the joined dictionary,\n",
    "as follows:"
   ]
  },
  {
   "cell_type": "code",
   "execution_count": 34,
   "metadata": {},
   "outputs": [
    {
     "name": "stdout",
     "output_type": "stream",
     "text": [
      "{'0001-6002': '0001-6012',\n",
      " '0258-6444': '2215-3535',\n",
      " '0325-8203': '1668-7027',\n",
      " '0719-448x': '0719-448X',\n",
      " '0797-9789': '1688-499X',\n",
      " '0807-8967': '0870-8967',\n",
      " '0858-6444': '0258-6444',\n",
      " '1315-5216': '1316-5216',\n",
      " '1667-8682': '1667-8982',\n",
      " '1678-5177': '0103-6564',\n",
      " '1683-0789': '1683-0768',\n",
      " '1688-4094': '1688-4221',\n",
      " '1852-4418': '1852-4184',\n",
      " '1980-5438': '0103-5665',\n",
      " '2175-3598': '0104-1282',\n",
      " '2233-7666': '2223-7666',\n",
      " '2237-101X': '1518-3319',\n",
      " '2993-6797': '2393-6797'}\n"
     ]
    }
   ],
   "source": [
    "pprint({**issns_fix, **issns_select})"
   ]
  },
  {
   "cell_type": "markdown",
   "metadata": {},
   "source": [
    "### Beyond normalization"
   ]
  },
  {
   "cell_type": "markdown",
   "metadata": {},
   "source": [
    "The goal of this normalization\n",
    "is to analyze the data from `journals.csv`.\n",
    "For some contexts,\n",
    "you can keep the old values of your data,\n",
    "e.g. by adding a new column\n",
    "instead of replacing the raw one:\n",
    "\n",
    "```python\n",
    "journals[\"issn\"] = journals[\"ISSN SciELO\"].replace(issn_scielo_fix)\n",
    "```\n",
    "\n",
    "Or:\n",
    "\n",
    "```python\n",
    "# Usually, this syntax is more helpful for using the\n",
    "# \"assign\" expression, not as part of an assignment statement\n",
    "journals = journals.assign(\n",
    "    issn=journals[\"ISSN SciELO\"].replace(issn_scielo_fix),\n",
    ")\n",
    "```\n",
    "\n",
    "The goal of keeping the raw data\n",
    "is due to some external reference or some user input\n",
    "that might be looking for an invalid/inconsistent entry\n",
    "that no longer exists because of this normalization."
   ]
  }
 ],
 "metadata": {
  "kernelspec": {
   "display_name": "Python 3",
   "language": "python",
   "name": "python3"
  },
  "language_info": {
   "codemirror_mode": {
    "name": "ipython",
    "version": 3
   },
   "file_extension": ".py",
   "mimetype": "text/x-python",
   "name": "python",
   "nbconvert_exporter": "python",
   "pygments_lexer": "ipython3",
   "version": "3.7.0"
  }
 },
 "nbformat": 4,
 "nbformat_minor": 2
}
