{
 "cells": [
  {
   "cell_type": "markdown",
   "metadata": {},
   "source": [
    "# Cleaning / Normalizing the ISSN"
   ]
  },
  {
   "cell_type": "markdown",
   "metadata": {},
   "source": [
    "*This is the analysis of the full SciELO's network\n",
    "`journals.csv` report/spreadsheet/dataset\n",
    "as it was on its 2018-06-10 release,\n",
    "future versions will hopefully have pre-normalized ISSN fields.*"
   ]
  },
  {
   "cell_type": "markdown",
   "metadata": {},
   "source": [
    "Some journals might have more than one ISSN,\n",
    "since every medium (electronic/print/CD/etc.) have at least its own ISSN.\n",
    "However, in different collections, the ISSN might be different.\n",
    "We should find a way to normalize them,\n",
    "in order to know when two entries regard to the same journal."
   ]
  },
  {
   "cell_type": "code",
   "execution_count": 1,
   "metadata": {},
   "outputs": [],
   "source": [
    "import pandas as pd\n",
    "pd.options.display.max_colwidth = 400"
   ]
  },
  {
   "cell_type": "code",
   "execution_count": 2,
   "metadata": {},
   "outputs": [],
   "source": [
    "journals = pd.read_csv(\"tabs_network/journals.csv\")"
   ]
  },
  {
   "cell_type": "markdown",
   "metadata": {},
   "source": [
    "There are two columns regarding ISSN:"
   ]
  },
  {
   "cell_type": "code",
   "execution_count": 3,
   "metadata": {},
   "outputs": [
    {
     "data": {
      "text/plain": [
       "['ISSN SciELO', \"ISSN's\"]"
      ]
     },
     "execution_count": 3,
     "metadata": {},
     "output_type": "execute_result"
    }
   ],
   "source": [
    "[col for col in journals.columns if \"ISSN\" in col.upper()]"
   ]
  },
  {
   "cell_type": "markdown",
   "metadata": {},
   "source": [
    "The first, `ISSN SciELO`, has a selected ISSN\n",
    "to be something akin to a primary key,\n",
    "whereas the `ISSN's` has a list of other ISSNs\n",
    "regarding the same journal content,\n",
    "written as a single string\n",
    "where the ISSNs are separated by a `;` (semicolon) symbol."
   ]
  },
  {
   "cell_type": "markdown",
   "metadata": {},
   "source": [
    "## Detecting grossly invalid ISSNs"
   ]
  },
  {
   "cell_type": "markdown",
   "metadata": {},
   "source": [
    "The format of an ISSN is `NNNN-NNNC`,\n",
    "where `N` is a digit (from $0$ to $9$)\n",
    "and `C` is a check \"digit\" (from $0$ to $9$ or $X$).\n",
    "Is there any ISSN in the `ISSN SciELO` column\n",
    "that doesn't conform to that?"
   ]
  },
  {
   "cell_type": "code",
   "execution_count": 4,
   "metadata": {},
   "outputs": [
    {
     "data": {
      "text/html": [
       "<div>\n",
       "<style scoped>\n",
       "    .dataframe tbody tr th:only-of-type {\n",
       "        vertical-align: middle;\n",
       "    }\n",
       "\n",
       "    .dataframe tbody tr th {\n",
       "        vertical-align: top;\n",
       "    }\n",
       "\n",
       "    .dataframe thead th {\n",
       "        text-align: right;\n",
       "    }\n",
       "</style>\n",
       "<table border=\"1\" class=\"dataframe\">\n",
       "  <thead>\n",
       "    <tr style=\"text-align: right;\">\n",
       "      <th></th>\n",
       "      <th>ISSN SciELO</th>\n",
       "    </tr>\n",
       "  </thead>\n",
       "  <tbody>\n",
       "    <tr>\n",
       "      <th>1410</th>\n",
       "      <td>0719-448x</td>\n",
       "    </tr>\n",
       "  </tbody>\n",
       "</table>\n",
       "</div>"
      ],
      "text/plain": [
       "     ISSN SciELO\n",
       "1410   0719-448x"
      ]
     },
     "execution_count": 4,
     "metadata": {},
     "output_type": "execute_result"
    }
   ],
   "source": [
    "single_issn_regex = r\"^\\d{4}-\\d{3}[\\dX]$\"\n",
    "journals[[\"ISSN SciELO\"]][~journals[\"ISSN SciELO\"].str.contains(single_issn_regex)]"
   ]
  },
  {
   "cell_type": "markdown",
   "metadata": {},
   "source": [
    "It's not invalid,\n",
    "but we should always use the same letter case\n",
    "in order to work with the ISSN as a *matching index* or *primary key*.\n",
    "A proper normalization would use something like\n",
    "`journals[\"ISSN SciELO\"].str.upper()`."
   ]
  },
  {
   "cell_type": "markdown",
   "metadata": {},
   "source": [
    "How about the `ISSN's` column?"
   ]
  },
  {
   "cell_type": "code",
   "execution_count": 5,
   "metadata": {
    "scrolled": true
   },
   "outputs": [
    {
     "data": {
      "text/html": [
       "<div>\n",
       "<style scoped>\n",
       "    .dataframe tbody tr th:only-of-type {\n",
       "        vertical-align: middle;\n",
       "    }\n",
       "\n",
       "    .dataframe tbody tr th {\n",
       "        vertical-align: top;\n",
       "    }\n",
       "\n",
       "    .dataframe thead th {\n",
       "        text-align: right;\n",
       "    }\n",
       "</style>\n",
       "<table border=\"1\" class=\"dataframe\">\n",
       "  <thead>\n",
       "    <tr style=\"text-align: right;\">\n",
       "      <th></th>\n",
       "      <th>ISSN's</th>\n",
       "    </tr>\n",
       "  </thead>\n",
       "  <tbody>\n",
       "    <tr>\n",
       "      <th>102</th>\n",
       "      <td>NaN</td>\n",
       "    </tr>\n",
       "    <tr>\n",
       "      <th>103</th>\n",
       "      <td>NaN</td>\n",
       "    </tr>\n",
       "    <tr>\n",
       "      <th>660</th>\n",
       "      <td>ISSN;0252-8584</td>\n",
       "    </tr>\n",
       "    <tr>\n",
       "      <th>1410</th>\n",
       "      <td>0719-448x;0718-0446</td>\n",
       "    </tr>\n",
       "    <tr>\n",
       "      <th>1696</th>\n",
       "      <td>20030507;1315-6411</td>\n",
       "    </tr>\n",
       "  </tbody>\n",
       "</table>\n",
       "</div>"
      ],
      "text/plain": [
       "                   ISSN's\n",
       "102                   NaN\n",
       "103                   NaN\n",
       "660        ISSN;0252-8584\n",
       "1410  0719-448x;0718-0446\n",
       "1696   20030507;1315-6411"
      ]
     },
     "execution_count": 5,
     "metadata": {},
     "output_type": "execute_result"
    }
   ],
   "source": [
    "multi_issn_regex = r\"^(?:\\d{4}-\\d{3}[\\dX])(?:;\\d{4}-\\d{3}[\\dX])*$\"\n",
    "journals[[\"ISSN's\"]][~journals[\"ISSN's\"].fillna(\"\").str.contains(multi_issn_regex)]"
   ]
  },
  {
   "cell_type": "markdown",
   "metadata": {},
   "source": [
    "Besides the `x` case issue and the empty `ISSN's` field,\n",
    "the date-like `20030507` and the `ISSN` text are invalid ISSN values,\n",
    "the latter being the only grossly invalid entry found.\n",
    "The date-like one was grabbed here because of the lack of `-`,\n",
    "but it's invalid due to its last digit,\n",
    "which should have been `9` in order to get a valid `ISSN` value."
   ]
  },
  {
   "cell_type": "markdown",
   "metadata": {},
   "source": [
    "We can clean these issues\n",
    "by filling the `NaN` with the `ISSN SciELO` value from the same row,\n",
    "by taking the uppercase to get rid from the single small `x`,\n",
    "and by using a mapping to remove the undesired value."
   ]
  },
  {
   "cell_type": "code",
   "execution_count": 6,
   "metadata": {},
   "outputs": [
    {
     "data": {
      "text/plain": [
       "1716    {2443-468X, 1012-2508}\n",
       "1717               {0254-0770}\n",
       "1718               {1316-0087}\n",
       "1719               {1317-5815}\n",
       "1720               {0367-4762}\n",
       "Name: ISSN's, dtype: object"
      ]
     },
     "execution_count": 6,
     "metadata": {},
     "output_type": "execute_result"
    }
   ],
   "source": [
    "issn_scielo = journals[\"ISSN SciELO\"].str.upper()\n",
    "issns_set = journals[\"ISSN's\"] \\\n",
    "    .fillna(issn_scielo) \\\n",
    "    .str.upper() \\\n",
    "    .str.split(\";\") \\\n",
    "    .apply(lambda items: {item for item in items\n",
    "                               if item not in [\"ISSN\", \"20030507\"]})\n",
    "issns_set.tail() # `ISSN's` as a set"
   ]
  },
  {
   "cell_type": "markdown",
   "metadata": {},
   "source": [
    "## Mixed ISSN in the `ISSN SciELO` field"
   ]
  },
  {
   "cell_type": "markdown",
   "metadata": {},
   "source": [
    "The `ISSN SciELO` should have a *primary* ISSN,\n",
    "in the *primary key* sense from databases,\n",
    "somewhat arbitrary but still required\n",
    "in order to avoid errors in analysis.\n",
    "Crossing the data with other tables\n",
    "should ideally not require any other ISSN,\n",
    "and that's the main goal:\n",
    "keep everything simple after this normalization."
   ]
  },
  {
   "cell_type": "markdown",
   "metadata": {},
   "source": [
    "There are at most one mixed ISSN for every ISSN list\n",
    "(that is, there's a single ISSN in the `ISSN's` field\n",
    " different from the `ISSN SciELO` of the same row\n",
    " that appears in the `ISSN SciELO` field of another row):"
   ]
  },
  {
   "cell_type": "code",
   "execution_count": 7,
   "metadata": {},
   "outputs": [
    {
     "data": {
      "text/plain": [
       "1"
      ]
     },
     "execution_count": 7,
     "metadata": {},
     "output_type": "execute_result"
    }
   ],
   "source": [
    "other_mixed_issns = (issns_set - issn_scielo.apply(lambda issn: {issn})) \\\n",
    "    .apply(lambda issn_set: {issn for issn in issn_set\n",
    "                             if issn in issn_scielo.values})\n",
    "how_many_mixed_issns = other_mixed_issns.apply(len)\n",
    "how_many_mixed_issns.max()"
   ]
  },
  {
   "cell_type": "markdown",
   "metadata": {},
   "source": [
    "If that number was greater than $1$,\n",
    "the technique below wouldn't work.\n",
    "Actually, our goal is just to find a mapping\n",
    "that would fix the mixed ISSN,\n",
    "i.e., for a set of ISSN values for a single journal,\n",
    "the `ISSN SciELO` should always have the same ISSN\n",
    "in every entry belonging to that same journal.\n",
    "Below is the mapping of\n",
    "what appears in both the `ISSN's` and `ISSN SciELO` columns\n",
    "and a distinct value that appears in the `ISSN SciELO`."
   ]
  },
  {
   "cell_type": "code",
   "execution_count": 8,
   "metadata": {},
   "outputs": [
    {
     "data": {
      "text/html": [
       "<div>\n",
       "<style scoped>\n",
       "    .dataframe tbody tr th:only-of-type {\n",
       "        vertical-align: middle;\n",
       "    }\n",
       "\n",
       "    .dataframe tbody tr th {\n",
       "        vertical-align: top;\n",
       "    }\n",
       "\n",
       "    .dataframe thead th {\n",
       "        text-align: right;\n",
       "    }\n",
       "</style>\n",
       "<table border=\"1\" class=\"dataframe\">\n",
       "  <thead>\n",
       "    <tr style=\"text-align: right;\">\n",
       "      <th></th>\n",
       "      <th>mixed_issn</th>\n",
       "      <th>ISSN SciELO</th>\n",
       "    </tr>\n",
       "  </thead>\n",
       "  <tbody>\n",
       "    <tr>\n",
       "      <th>63</th>\n",
       "      <td>1980-5438</td>\n",
       "      <td>0103-5665</td>\n",
       "    </tr>\n",
       "    <tr>\n",
       "      <th>83</th>\n",
       "      <td>1518-3319</td>\n",
       "      <td>2237-101X</td>\n",
       "    </tr>\n",
       "    <tr>\n",
       "      <th>281</th>\n",
       "      <td>1678-5177</td>\n",
       "      <td>0103-6564</td>\n",
       "    </tr>\n",
       "    <tr>\n",
       "      <th>512</th>\n",
       "      <td>2077-3323</td>\n",
       "      <td>1817-7433</td>\n",
       "    </tr>\n",
       "    <tr>\n",
       "      <th>1437</th>\n",
       "      <td>1668-7027</td>\n",
       "      <td>0325-8203</td>\n",
       "    </tr>\n",
       "    <tr>\n",
       "      <th>1455</th>\n",
       "      <td>2175-3598</td>\n",
       "      <td>0104-1282</td>\n",
       "    </tr>\n",
       "    <tr>\n",
       "      <th>1459</th>\n",
       "      <td>1980-5438</td>\n",
       "      <td>0103-5665</td>\n",
       "    </tr>\n",
       "    <tr>\n",
       "      <th>1651</th>\n",
       "      <td>0797-9789</td>\n",
       "      <td>1688-499X</td>\n",
       "    </tr>\n",
       "    <tr>\n",
       "      <th>1661</th>\n",
       "      <td>1688-4094</td>\n",
       "      <td>1688-4221</td>\n",
       "    </tr>\n",
       "  </tbody>\n",
       "</table>\n",
       "</div>"
      ],
      "text/plain": [
       "     mixed_issn ISSN SciELO\n",
       "63    1980-5438   0103-5665\n",
       "83    1518-3319   2237-101X\n",
       "281   1678-5177   0103-6564\n",
       "512   2077-3323   1817-7433\n",
       "1437  1668-7027   0325-8203\n",
       "1455  2175-3598   0104-1282\n",
       "1459  1980-5438   0103-5665\n",
       "1651  0797-9789   1688-499X\n",
       "1661  1688-4094   1688-4221"
      ]
     },
     "execution_count": 8,
     "metadata": {},
     "output_type": "execute_result"
    }
   ],
   "source": [
    "has_mixed_issn = how_many_mixed_issns > 0\n",
    "mixed_issn_df = pd.DataFrame([\n",
    "                    other_mixed_issns[has_mixed_issn]\n",
    "                        .apply(lambda x: set(x).pop())\n",
    "                        .rename(\"mixed_issn\"),\n",
    "                    issn_scielo[has_mixed_issn],\n",
    "                ]).T\n",
    "mixed_issn_df"
   ]
  },
  {
   "cell_type": "markdown",
   "metadata": {},
   "source": [
    "That small table above is exhaustive.\n",
    "We can select any of the columns to be the normalized ISSN,\n",
    "taking care of duplicated entries.\n",
    "The rows with the issues above are:"
   ]
  },
  {
   "cell_type": "code",
   "execution_count": 9,
   "metadata": {},
   "outputs": [
    {
     "data": {
      "text/html": [
       "<div>\n",
       "<style scoped>\n",
       "    .dataframe tbody tr th:only-of-type {\n",
       "        vertical-align: middle;\n",
       "    }\n",
       "\n",
       "    .dataframe tbody tr th {\n",
       "        vertical-align: top;\n",
       "    }\n",
       "\n",
       "    .dataframe thead th {\n",
       "        text-align: right;\n",
       "    }\n",
       "</style>\n",
       "<table border=\"1\" class=\"dataframe\">\n",
       "  <thead>\n",
       "    <tr style=\"text-align: right;\">\n",
       "      <th></th>\n",
       "      <th>collection</th>\n",
       "      <th>title at SciELO</th>\n",
       "      <th>title thematic areas</th>\n",
       "      <th>publisher name</th>\n",
       "      <th>issn_scielo</th>\n",
       "      <th>issns</th>\n",
       "    </tr>\n",
       "  </thead>\n",
       "  <tbody>\n",
       "    <tr>\n",
       "      <th>63</th>\n",
       "      <td>scl</td>\n",
       "      <td>Psicologia Clínica</td>\n",
       "      <td>Human Sciences</td>\n",
       "      <td>Departamento de Psicologia da Pontifícia Universidade Católica do Rio de Janeiro</td>\n",
       "      <td>0103-5665</td>\n",
       "      <td>{0103-5665, 1980-5438}</td>\n",
       "    </tr>\n",
       "    <tr>\n",
       "      <th>83</th>\n",
       "      <td>scl</td>\n",
       "      <td>Topoi (Rio de Janeiro)</td>\n",
       "      <td>Human Sciences</td>\n",
       "      <td>Programa de Pós-Graduação em História Social da Universidade Federal do Rio de Janeiro</td>\n",
       "      <td>2237-101X</td>\n",
       "      <td>{2237-101X, 1518-3319}</td>\n",
       "    </tr>\n",
       "    <tr>\n",
       "      <th>281</th>\n",
       "      <td>scl</td>\n",
       "      <td>Psicologia USP</td>\n",
       "      <td>Human Sciences</td>\n",
       "      <td>Instituto de Psicologia da Universidade de São Paulo</td>\n",
       "      <td>0103-6564</td>\n",
       "      <td>{0103-6564, 1678-5177}</td>\n",
       "    </tr>\n",
       "    <tr>\n",
       "      <th>380</th>\n",
       "      <td>arg</td>\n",
       "      <td>Interdisciplinaria</td>\n",
       "      <td>Human Sciences</td>\n",
       "      <td>Centro Interamericano de Investigaciones Psicológicas y Ciencias Afines (CIIPCA)</td>\n",
       "      <td>1668-7027</td>\n",
       "      <td>{1668-7027}</td>\n",
       "    </tr>\n",
       "    <tr>\n",
       "      <th>510</th>\n",
       "      <td>bol</td>\n",
       "      <td>Revista Ciencia y Cultura</td>\n",
       "      <td>Applied Social Sciences;Human Sciences;Linguistics, Letters and Arts</td>\n",
       "      <td>Universidad Católica Boliviana</td>\n",
       "      <td>2077-3323</td>\n",
       "      <td>{2077-3323}</td>\n",
       "    </tr>\n",
       "    <tr>\n",
       "      <th>512</th>\n",
       "      <td>bol</td>\n",
       "      <td>Revista Científica Ciencia Médica</td>\n",
       "      <td>Health Sciences</td>\n",
       "      <td>Facultad de Medicina, Universidad Mayor de San Simón.</td>\n",
       "      <td>1817-7433</td>\n",
       "      <td>{2077-3323}</td>\n",
       "    </tr>\n",
       "    <tr>\n",
       "      <th>1365</th>\n",
       "      <td>psi</td>\n",
       "      <td>Psicologia USP</td>\n",
       "      <td>Human Sciences</td>\n",
       "      <td>Instituto de Psicologia da Universidade de São Paulo</td>\n",
       "      <td>1678-5177</td>\n",
       "      <td>{1678-5177}</td>\n",
       "    </tr>\n",
       "    <tr>\n",
       "      <th>1421</th>\n",
       "      <td>psi</td>\n",
       "      <td>Ciencias Psicológicas</td>\n",
       "      <td>Human Sciences</td>\n",
       "      <td>Facultad de Psicología de la Universidad Católica del Uruguay, Damaso A. Larrañaga</td>\n",
       "      <td>1688-4094</td>\n",
       "      <td>{1688-4094}</td>\n",
       "    </tr>\n",
       "    <tr>\n",
       "      <th>1436</th>\n",
       "      <td>psi</td>\n",
       "      <td>Psicologia clínica (Rio de Janeiro. Online)</td>\n",
       "      <td>Applied Social Sciences</td>\n",
       "      <td>Pontifícia Universidade Católica do Rio de Janeiro, Departamento de Psicologia</td>\n",
       "      <td>1980-5438</td>\n",
       "      <td>{1980-5438}</td>\n",
       "    </tr>\n",
       "    <tr>\n",
       "      <th>1437</th>\n",
       "      <td>psi</td>\n",
       "      <td>Interdisciplinaria</td>\n",
       "      <td>Human Sciences</td>\n",
       "      <td>Centro Interamericano de Investigaciones Psicológicas y Ciencias Afines (CIIPCA)</td>\n",
       "      <td>0325-8203</td>\n",
       "      <td>{1668-7027, 0325-8203}</td>\n",
       "    </tr>\n",
       "    <tr>\n",
       "      <th>1449</th>\n",
       "      <td>psi</td>\n",
       "      <td>Journal of Human Growth and Development</td>\n",
       "      <td>Applied Social Sciences</td>\n",
       "      <td>Centro de Estudos do Crescimento e do Desenvolvimento do Ser Humano</td>\n",
       "      <td>2175-3598</td>\n",
       "      <td>{2175-3598}</td>\n",
       "    </tr>\n",
       "    <tr>\n",
       "      <th>1455</th>\n",
       "      <td>psi</td>\n",
       "      <td>Journal of Human Growth and Development</td>\n",
       "      <td>Applied Social Sciences</td>\n",
       "      <td>Centro de Estudos de Crescimento e Desenvolvimento do Ser Humano</td>\n",
       "      <td>0104-1282</td>\n",
       "      <td>{0104-1282, 2175-3598}</td>\n",
       "    </tr>\n",
       "    <tr>\n",
       "      <th>1459</th>\n",
       "      <td>psi</td>\n",
       "      <td>Psicologia Clínica</td>\n",
       "      <td>Applied Social Sciences</td>\n",
       "      <td>Departamento de Psicologia da Pontifícia Universidade Católica do Rio de Janeiro</td>\n",
       "      <td>0103-5665</td>\n",
       "      <td>{0103-5665, 1980-5438}</td>\n",
       "    </tr>\n",
       "    <tr>\n",
       "      <th>1556</th>\n",
       "      <td>sss</td>\n",
       "      <td>Revista Uruguaya de Ciencia Política</td>\n",
       "      <td>Applied Social Sciences</td>\n",
       "      <td>Instituto de Ciência Política</td>\n",
       "      <td>0797-9789</td>\n",
       "      <td>{0797-9789}</td>\n",
       "    </tr>\n",
       "    <tr>\n",
       "      <th>1562</th>\n",
       "      <td>sss</td>\n",
       "      <td>Topoi: Revista de História</td>\n",
       "      <td>Applied Social Sciences</td>\n",
       "      <td>Universidade Federal do Rio de Janeiro</td>\n",
       "      <td>1518-3319</td>\n",
       "      <td>{1518-3319}</td>\n",
       "    </tr>\n",
       "    <tr>\n",
       "      <th>1651</th>\n",
       "      <td>ury</td>\n",
       "      <td>Revista Uruguaya de Ciencia Política</td>\n",
       "      <td>Applied Social Sciences;Human Sciences</td>\n",
       "      <td>Universidad de la República. Facultad de Ciencias Sociales. Instituto de Ciencia Política.</td>\n",
       "      <td>1688-499X</td>\n",
       "      <td>{0797-9789, 1688-499X}</td>\n",
       "    </tr>\n",
       "    <tr>\n",
       "      <th>1661</th>\n",
       "      <td>ury</td>\n",
       "      <td>Ciencias Psicológicas</td>\n",
       "      <td>Applied Social Sciences;Human Sciences</td>\n",
       "      <td>Universidad Católica del Uruguay. Facultad de Psicología.</td>\n",
       "      <td>1688-4221</td>\n",
       "      <td>{1688-4094, 1688-4221}</td>\n",
       "    </tr>\n",
       "  </tbody>\n",
       "</table>\n",
       "</div>"
      ],
      "text/plain": [
       "     collection                              title at SciELO  \\\n",
       "63          scl                           Psicologia Clínica   \n",
       "83          scl                       Topoi (Rio de Janeiro)   \n",
       "281         scl                               Psicologia USP   \n",
       "380         arg                           Interdisciplinaria   \n",
       "510         bol                    Revista Ciencia y Cultura   \n",
       "512         bol            Revista Científica Ciencia Médica   \n",
       "1365        psi                               Psicologia USP   \n",
       "1421        psi                        Ciencias Psicológicas   \n",
       "1436        psi  Psicologia clínica (Rio de Janeiro. Online)   \n",
       "1437        psi                           Interdisciplinaria   \n",
       "1449        psi      Journal of Human Growth and Development   \n",
       "1455        psi      Journal of Human Growth and Development   \n",
       "1459        psi                           Psicologia Clínica   \n",
       "1556        sss         Revista Uruguaya de Ciencia Política   \n",
       "1562        sss                   Topoi: Revista de História   \n",
       "1651        ury         Revista Uruguaya de Ciencia Política   \n",
       "1661        ury                        Ciencias Psicológicas   \n",
       "\n",
       "                                                      title thematic areas  \\\n",
       "63                                                          Human Sciences   \n",
       "83                                                          Human Sciences   \n",
       "281                                                         Human Sciences   \n",
       "380                                                         Human Sciences   \n",
       "510   Applied Social Sciences;Human Sciences;Linguistics, Letters and Arts   \n",
       "512                                                        Health Sciences   \n",
       "1365                                                        Human Sciences   \n",
       "1421                                                        Human Sciences   \n",
       "1436                                               Applied Social Sciences   \n",
       "1437                                                        Human Sciences   \n",
       "1449                                               Applied Social Sciences   \n",
       "1455                                               Applied Social Sciences   \n",
       "1459                                               Applied Social Sciences   \n",
       "1556                                               Applied Social Sciences   \n",
       "1562                                               Applied Social Sciences   \n",
       "1651                                Applied Social Sciences;Human Sciences   \n",
       "1661                                Applied Social Sciences;Human Sciences   \n",
       "\n",
       "                                                                                  publisher name  \\\n",
       "63              Departamento de Psicologia da Pontifícia Universidade Católica do Rio de Janeiro   \n",
       "83        Programa de Pós-Graduação em História Social da Universidade Federal do Rio de Janeiro   \n",
       "281                                         Instituto de Psicologia da Universidade de São Paulo   \n",
       "380             Centro Interamericano de Investigaciones Psicológicas y Ciencias Afines (CIIPCA)   \n",
       "510                                                               Universidad Católica Boliviana   \n",
       "512                                        Facultad de Medicina, Universidad Mayor de San Simón.   \n",
       "1365                                        Instituto de Psicologia da Universidade de São Paulo   \n",
       "1421          Facultad de Psicología de la Universidad Católica del Uruguay, Damaso A. Larrañaga   \n",
       "1436              Pontifícia Universidade Católica do Rio de Janeiro, Departamento de Psicologia   \n",
       "1437            Centro Interamericano de Investigaciones Psicológicas y Ciencias Afines (CIIPCA)   \n",
       "1449                         Centro de Estudos do Crescimento e do Desenvolvimento do Ser Humano   \n",
       "1455                            Centro de Estudos de Crescimento e Desenvolvimento do Ser Humano   \n",
       "1459            Departamento de Psicologia da Pontifícia Universidade Católica do Rio de Janeiro   \n",
       "1556                                                               Instituto de Ciência Política   \n",
       "1562                                                      Universidade Federal do Rio de Janeiro   \n",
       "1651  Universidad de la República. Facultad de Ciencias Sociales. Instituto de Ciencia Política.   \n",
       "1661                                   Universidad Católica del Uruguay. Facultad de Psicología.   \n",
       "\n",
       "     issn_scielo                   issns  \n",
       "63     0103-5665  {0103-5665, 1980-5438}  \n",
       "83     2237-101X  {2237-101X, 1518-3319}  \n",
       "281    0103-6564  {0103-6564, 1678-5177}  \n",
       "380    1668-7027             {1668-7027}  \n",
       "510    2077-3323             {2077-3323}  \n",
       "512    1817-7433             {2077-3323}  \n",
       "1365   1678-5177             {1678-5177}  \n",
       "1421   1688-4094             {1688-4094}  \n",
       "1436   1980-5438             {1980-5438}  \n",
       "1437   0325-8203  {1668-7027, 0325-8203}  \n",
       "1449   2175-3598             {2175-3598}  \n",
       "1455   0104-1282  {0104-1282, 2175-3598}  \n",
       "1459   0103-5665  {0103-5665, 1980-5438}  \n",
       "1556   0797-9789             {0797-9789}  \n",
       "1562   1518-3319             {1518-3319}  \n",
       "1651   1688-499X  {0797-9789, 1688-499X}  \n",
       "1661   1688-4221  {1688-4094, 1688-4221}  "
      ]
     },
     "execution_count": 9,
     "metadata": {},
     "output_type": "execute_result"
    }
   ],
   "source": [
    "journals[[\"collection\", \"title at SciELO\",\n",
    "          \"title thematic areas\", \"publisher name\"]] \\\n",
    "    .assign(issn_scielo=issn_scielo,\n",
    "            issns=issns_set) \\\n",
    "    [issn_scielo.isin(mixed_issn_df.values.ravel())]"
   ]
  },
  {
   "cell_type": "markdown",
   "metadata": {},
   "source": [
    "The `1817-7433` entry in the `bol` collection\n",
    "has an incorrect secondary `2077-3323` ISSN\n",
    "(the entries are from distinct thematic areas),\n",
    "that won't give us any trouble\n",
    "as long as we don't use the `ISSN's` column afterwards,\n",
    "but for this normalization our goal is to fix that, as well."
   ]
  },
  {
   "cell_type": "markdown",
   "metadata": {},
   "source": [
    "The resulting mapping is:"
   ]
  },
  {
   "cell_type": "code",
   "execution_count": 10,
   "metadata": {},
   "outputs": [],
   "source": [
    "issn_scielo_fix = {\n",
    "    \"1980-5438\": \"0103-5665\", # psi -> scl/psi\n",
    "    \"2237-101X\": \"1518-3319\", # sss -> scl\n",
    "    \"1678-5177\": \"0103-6564\", # psi -> scl\n",
    "    \"0325-8203\": \"1668-7027\", # psi -> arg\n",
    "    \"2175-3598\": \"0104-1282\", # psi -> psi\n",
    "    \"0797-9789\": \"1688-499X\", # sss -> ury\n",
    "    \"1688-4094\": \"1688-4221\", # psi -> ury\n",
    "    \"0258-6444\": \"2215-3535\", # psi -> cri\n",
    "    \"0719-448x\": \"0719-448X\", # letter case normalization\n",
    "}"
   ]
  },
  {
   "cell_type": "markdown",
   "metadata": {},
   "source": [
    "Full normalization of the `ISSN SciELO` in a single step can be achieved with:"
   ]
  },
  {
   "cell_type": "code",
   "execution_count": 11,
   "metadata": {},
   "outputs": [],
   "source": [
    "issn_scielo_n = journals[\"ISSN SciELO\"].replace(issn_scielo_fix)"
   ]
  },
  {
   "cell_type": "markdown",
   "metadata": {},
   "source": [
    "## Summary"
   ]
  },
  {
   "cell_type": "code",
   "execution_count": 12,
   "metadata": {},
   "outputs": [],
   "source": [
    "from pprint import pprint"
   ]
  },
  {
   "cell_type": "markdown",
   "metadata": {},
   "source": [
    "### Normalizing the ISSN SciELO"
   ]
  },
  {
   "cell_type": "markdown",
   "metadata": {},
   "source": [
    "We can apply all the normalization\n",
    "from the `issn_scielo_fix` dictionary\n",
    "by updating the dataframe with:\n",
    "\n",
    "```python\n",
    "journals[\"ISSN SciELO\"].replace(issn_scielo_fix, inplace=True)\n",
    "```\n",
    "\n",
    "Where `issn_scielo_fix` should be the joined dictionary,\n",
    "as follows:"
   ]
  },
  {
   "cell_type": "code",
   "execution_count": 13,
   "metadata": {},
   "outputs": [
    {
     "name": "stdout",
     "output_type": "stream",
     "text": [
      "{'0258-6444': '2215-3535',\n",
      " '0325-8203': '1668-7027',\n",
      " '0719-448x': '0719-448X',\n",
      " '0797-9789': '1688-499X',\n",
      " '1678-5177': '0103-6564',\n",
      " '1688-4094': '1688-4221',\n",
      " '1980-5438': '0103-5665',\n",
      " '2175-3598': '0104-1282',\n",
      " '2237-101X': '1518-3319'}\n"
     ]
    }
   ],
   "source": [
    "pprint(issn_scielo_fix)"
   ]
  },
  {
   "cell_type": "markdown",
   "metadata": {},
   "source": [
    "### Beyond normalization"
   ]
  },
  {
   "cell_type": "markdown",
   "metadata": {},
   "source": [
    "The goal of this normalization\n",
    "is to analyze the data from `journals.csv`.\n",
    "For some contexts,\n",
    "you can keep the old values of your data,\n",
    "e.g. by adding a new column\n",
    "instead of replacing the raw one:\n",
    "\n",
    "```python\n",
    "journals[\"issn\"] = journals[\"ISSN SciELO\"].replace(issn_scielo_fix)\n",
    "```\n",
    "\n",
    "Or:\n",
    "\n",
    "```python\n",
    "# Usually, this syntax is more helpful for using the\n",
    "# \"assign\" expression, not as part of an assignment statement\n",
    "journals = journals.assign(\n",
    "    issn=journals[\"ISSN SciELO\"].replace(issn_scielo_fix),\n",
    ")\n",
    "```\n",
    "\n",
    "The goal of keeping the raw data\n",
    "is due to some external reference or some user input\n",
    "that might be looking for an invalid/inconsistent entry\n",
    "that no longer exists because of this normalization."
   ]
  }
 ],
 "metadata": {
  "kernelspec": {
   "display_name": "Python 3",
   "language": "python",
   "name": "python3"
  },
  "language_info": {
   "codemirror_mode": {
    "name": "ipython",
    "version": 3
   },
   "file_extension": ".py",
   "mimetype": "text/x-python",
   "name": "python",
   "nbconvert_exporter": "python",
   "pygments_lexer": "ipython3",
   "version": "3.7.0"
  }
 },
 "nbformat": 4,
 "nbformat_minor": 2
}
