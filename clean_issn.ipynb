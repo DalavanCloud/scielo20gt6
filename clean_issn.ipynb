{
 "cells": [
  {
   "cell_type": "markdown",
   "metadata": {},
   "source": [
    "# Cleaning / Normalizing the ISSN"
   ]
  },
  {
   "cell_type": "markdown",
   "metadata": {},
   "source": [
    "*This is the analysis of the full SciELO's network\n",
    "`journals.csv` report/spreadsheet/dataset\n",
    "as it was on its 2018-09-14 release,\n",
    "future versions will hopefully have pre-normalized ISSN fields.*"
   ]
  },
  {
   "cell_type": "markdown",
   "metadata": {},
   "source": [
    "Some journals might have more than one ISSN,\n",
    "since every medium (electronic/print/CD/etc.) have at least its own ISSN.\n",
    "However, in different collections, the ISSN might be different.\n",
    "We should find a way to normalize them,\n",
    "in order to know when two entries regard to the same journal."
   ]
  },
  {
   "cell_type": "code",
   "execution_count": 1,
   "metadata": {},
   "outputs": [],
   "source": [
    "import pandas as pd\n",
    "pd.options.display.max_colwidth = 400"
   ]
  },
  {
   "cell_type": "code",
   "execution_count": 2,
   "metadata": {},
   "outputs": [],
   "source": [
    "journals = pd.read_csv(\"tabs_network/journals.csv\")"
   ]
  },
  {
   "cell_type": "markdown",
   "metadata": {},
   "source": [
    "There are two columns regarding ISSN:"
   ]
  },
  {
   "cell_type": "code",
   "execution_count": 3,
   "metadata": {},
   "outputs": [
    {
     "data": {
      "text/plain": [
       "['ISSN SciELO', \"ISSN's\"]"
      ]
     },
     "execution_count": 3,
     "metadata": {},
     "output_type": "execute_result"
    }
   ],
   "source": [
    "[col for col in journals.columns if \"ISSN\" in col.upper()]"
   ]
  },
  {
   "cell_type": "markdown",
   "metadata": {},
   "source": [
    "The first, `ISSN SciELO`, has a selected ISSN\n",
    "to be something akin to a primary key,\n",
    "whereas the `ISSN's` has a list of other ISSNs\n",
    "regarding the same journal content,\n",
    "written as a single string\n",
    "where the ISSNs are separated by a `;` (semicolon) symbol."
   ]
  },
  {
   "cell_type": "markdown",
   "metadata": {},
   "source": [
    "## Detecting grossly invalid ISSNs"
   ]
  },
  {
   "cell_type": "markdown",
   "metadata": {},
   "source": [
    "The format of an ISSN is `NNNN-NNNC`,\n",
    "where `N` is a digit (from $0$ to $9$)\n",
    "and `C` is a check \"digit\" (from $0$ to $9$ or $X$).\n",
    "Is there any ISSN in the `ISSN SciELO` column\n",
    "that doesn't conform to that?"
   ]
  },
  {
   "cell_type": "code",
   "execution_count": 4,
   "metadata": {},
   "outputs": [
    {
     "data": {
      "text/html": [
       "<div>\n",
       "<style scoped>\n",
       "    .dataframe tbody tr th:only-of-type {\n",
       "        vertical-align: middle;\n",
       "    }\n",
       "\n",
       "    .dataframe tbody tr th {\n",
       "        vertical-align: top;\n",
       "    }\n",
       "\n",
       "    .dataframe thead th {\n",
       "        text-align: right;\n",
       "    }\n",
       "</style>\n",
       "<table border=\"1\" class=\"dataframe\">\n",
       "  <thead>\n",
       "    <tr style=\"text-align: right;\">\n",
       "      <th></th>\n",
       "      <th>ISSN SciELO</th>\n",
       "    </tr>\n",
       "  </thead>\n",
       "  <tbody>\n",
       "    <tr>\n",
       "      <th>1416</th>\n",
       "      <td>0719-448x</td>\n",
       "    </tr>\n",
       "  </tbody>\n",
       "</table>\n",
       "</div>"
      ],
      "text/plain": [
       "     ISSN SciELO\n",
       "1416   0719-448x"
      ]
     },
     "execution_count": 4,
     "metadata": {},
     "output_type": "execute_result"
    }
   ],
   "source": [
    "single_issn_regex = r\"^\\d{4}-\\d{3}[\\dX]$\"\n",
    "journals[[\"ISSN SciELO\"]][~journals[\"ISSN SciELO\"].str.contains(single_issn_regex)]"
   ]
  },
  {
   "cell_type": "markdown",
   "metadata": {},
   "source": [
    "It's not invalid,\n",
    "but we should always use the same letter case\n",
    "in order to work with the ISSN as a *matching index* or *primary key*.\n",
    "A proper normalization would use something like\n",
    "`journals[\"ISSN SciELO\"].str.upper()`."
   ]
  },
  {
   "cell_type": "markdown",
   "metadata": {},
   "source": [
    "How about the `ISSN's` column?"
   ]
  },
  {
   "cell_type": "code",
   "execution_count": 5,
   "metadata": {
    "scrolled": true
   },
   "outputs": [
    {
     "data": {
      "text/html": [
       "<div>\n",
       "<style scoped>\n",
       "    .dataframe tbody tr th:only-of-type {\n",
       "        vertical-align: middle;\n",
       "    }\n",
       "\n",
       "    .dataframe tbody tr th {\n",
       "        vertical-align: top;\n",
       "    }\n",
       "\n",
       "    .dataframe thead th {\n",
       "        text-align: right;\n",
       "    }\n",
       "</style>\n",
       "<table border=\"1\" class=\"dataframe\">\n",
       "  <thead>\n",
       "    <tr style=\"text-align: right;\">\n",
       "      <th></th>\n",
       "      <th>ISSN's</th>\n",
       "    </tr>\n",
       "  </thead>\n",
       "  <tbody>\n",
       "    <tr>\n",
       "      <th>98</th>\n",
       "      <td>NaN</td>\n",
       "    </tr>\n",
       "    <tr>\n",
       "      <th>99</th>\n",
       "      <td>NaN</td>\n",
       "    </tr>\n",
       "    <tr>\n",
       "      <th>502</th>\n",
       "      <td>24516600</td>\n",
       "    </tr>\n",
       "    <tr>\n",
       "      <th>665</th>\n",
       "      <td>ISSN;0252-8584</td>\n",
       "    </tr>\n",
       "    <tr>\n",
       "      <th>1416</th>\n",
       "      <td>0719-448x;0718-0446</td>\n",
       "    </tr>\n",
       "    <tr>\n",
       "      <th>1707</th>\n",
       "      <td>20030507;1315-6411</td>\n",
       "    </tr>\n",
       "  </tbody>\n",
       "</table>\n",
       "</div>"
      ],
      "text/plain": [
       "                   ISSN's\n",
       "98                    NaN\n",
       "99                    NaN\n",
       "502              24516600\n",
       "665        ISSN;0252-8584\n",
       "1416  0719-448x;0718-0446\n",
       "1707   20030507;1315-6411"
      ]
     },
     "execution_count": 5,
     "metadata": {},
     "output_type": "execute_result"
    }
   ],
   "source": [
    "multi_issn_regex = r\"^(?:\\d{4}-\\d{3}[\\dX])(?:;\\d{4}-\\d{3}[\\dX])*$\"\n",
    "journals[[\"ISSN's\"]][~journals[\"ISSN's\"].fillna(\"\").str.contains(multi_issn_regex)]"
   ]
  },
  {
   "cell_type": "markdown",
   "metadata": {},
   "source": [
    "Besides the `x` case issue and the empty `ISSN's` field,\n",
    "the date-like `20030507` and the `ISSN` text are invalid ISSN values,\n",
    "the latter being the only grossly invalid entry found.\n",
    "The date-like one was grabbed here because of the lack of `-`,\n",
    "but it's invalid due to its last digit,\n",
    "which should have been `9` in order to get a valid `ISSN` value,\n",
    "as discussed in the next session."
   ]
  },
  {
   "cell_type": "markdown",
   "metadata": {},
   "source": [
    "We can clean these issues\n",
    "by filling the `NaN` with the `ISSN SciELO` value from the same row,\n",
    "by taking the uppercase to get rid from the single small `x`,\n",
    "and by using a mapping to remove the undesired value.\n",
    "Before normalizing it all,\n",
    "let's check if there's no other invalid check digit."
   ]
  },
  {
   "cell_type": "markdown",
   "metadata": {},
   "source": [
    "## ISSN check digit"
   ]
  },
  {
   "cell_type": "markdown",
   "metadata": {},
   "source": [
    "### Equation"
   ]
  },
  {
   "cell_type": "markdown",
   "metadata": {},
   "source": [
    "The check digit is the modulo $11$,\n",
    "and the equation to get it frmo the first $7$ ISSN digits is\n",
    "(where $X$ means this equation yields $10$):\n",
    "\n",
    "$$\n",
    "S = \\text{ISSN7} \\cdot [8, 7, 6, 5, 4, 3, 2] \\\\\n",
    "\\text{check digit} = 11 \\left\\lceil \\frac{S}{11} \\right\\rceil - S\n",
    "$$\n",
    "\n",
    "The check digit can be obtained from the remainder of the $^{S}/_{11}$ division:\n",
    "if it's zero, the check digit is zero, else the check digit is $11 - remainder$.\n",
    "Proof:\n",
    "\n",
    "$$\n",
    "\\begin{array}{rcl}\n",
    " S &=& 11 \\times \\text{integer quotient} + \\text{remainder} \\\\\n",
    "{} &=& 11 \\left\\lfloor \\frac{S}{11} \\right\\rfloor + \\text{remainder} \\\\\n",
    "{} &=& 11 \\left\\lceil \\frac{S}{11} \\right\\rceil - \\text{check digit} \\\\\n",
    "\\end{array}\n",
    "\\\\\n",
    "\\therefore\\quad\n",
    "\\text{check digit} =\n",
    "11 \\left(\n",
    "  \\left\\lceil \\frac{S}{11} \\right\\rceil -\n",
    "  \\left\\lfloor \\frac{S}{11} \\right\\rfloor\n",
    "\\right) - \\text{remainder}\n",
    "$$"
   ]
  },
  {
   "cell_type": "markdown",
   "metadata": {},
   "source": [
    "### Example"
   ]
  },
  {
   "cell_type": "markdown",
   "metadata": {},
   "source": [
    "For example, `0103-6564` (regarding the *Psicologia USP* journal)\n",
    "is a valid ISSN, since the dot product $S$\n",
    "between its first $7$ digits and $[8, 7, 6, 5, 4, 3, 2]$ is:\n",
    "\n",
    "$$\n",
    "\\begin{array}{rccccccccl}\n",
    "  \\text{ISSN:} &  0 &  1 &  0 &  3 & - &  6 &  5 &  6 & (4) \\\\\n",
    "        \\times &  8 &  7 &  6 &  5 &   &  4 &  3 &  2 \\\\ \\hline\n",
    "      S = \\sum & \\{ 0,&  7,&  0,& 15,&   & 24,& 15,& 12 \\} & = 73\\\\\n",
    "\\end{array}\n",
    "$$\n",
    "\n",
    "The remainder is $7$ and $11 - 7 = 4$, the check digit:\n",
    "\n",
    "$$\n",
    "73 = 11 \\cdot 6 + {\\underset{\\uparrow}{7}} =\n",
    "     11 \\cdot 7 - {\\underset{\\uparrow}{4}}\n",
    "$$\n"
   ]
  },
  {
   "cell_type": "markdown",
   "metadata": {},
   "source": [
    "### ISSN digit checker function"
   ]
  },
  {
   "cell_type": "code",
   "execution_count": 6,
   "metadata": {},
   "outputs": [],
   "source": [
    "def issn_digit(issn7):\n",
    "    issn7_int = map(int, issn7)\n",
    "    dp_pairs = zip(issn7_int, [8, 7, 6, 5, 4, 3, 2])\n",
    "    dot_product = sum(a * b for a, b in dp_pairs)\n",
    "    rem_compl = (-dot_product) % 11\n",
    "    return \"X\" if rem_compl == 10 else str(rem_compl)"
   ]
  },
  {
   "cell_type": "code",
   "execution_count": 7,
   "metadata": {},
   "outputs": [],
   "source": [
    "def check_issn_digit(issn):\n",
    "    issn_clean = issn.replace(\"-\", \"\").strip().upper()\n",
    "    return len(issn_clean) == 8 \\\n",
    "       and issn_clean[-1] == issn_digit(issn_clean[:7])"
   ]
  },
  {
   "cell_type": "code",
   "execution_count": 8,
   "metadata": {},
   "outputs": [],
   "source": [
    "def issn_full2digit(issn):\n",
    "    return issn_digit(issn.replace(\"-\", \"\").strip()[:7])"
   ]
  },
  {
   "cell_type": "code",
   "execution_count": 9,
   "metadata": {},
   "outputs": [
    {
     "data": {
      "text/plain": [
       "'4'"
      ]
     },
     "execution_count": 9,
     "metadata": {},
     "output_type": "execute_result"
    }
   ],
   "source": [
    "issn_digit(\"0103656\") # The \"ISSN7\" input shouldn't include the \"-\""
   ]
  },
  {
   "cell_type": "code",
   "execution_count": 10,
   "metadata": {},
   "outputs": [
    {
     "data": {
      "text/plain": [
       "True"
      ]
     },
     "execution_count": 10,
     "metadata": {},
     "output_type": "execute_result"
    }
   ],
   "source": [
    "check_issn_digit(\"0103-6564\") # But here \"-\" is optional"
   ]
  },
  {
   "cell_type": "code",
   "execution_count": 11,
   "metadata": {},
   "outputs": [
    {
     "data": {
      "text/plain": [
       "'9'"
      ]
     },
     "execution_count": 11,
     "metadata": {},
     "output_type": "execute_result"
    }
   ],
   "source": [
    "issn_full2digit(\"2003-0507\") # And here, for convenience!"
   ]
  },
  {
   "cell_type": "code",
   "execution_count": 12,
   "metadata": {},
   "outputs": [
    {
     "data": {
      "text/plain": [
       "False"
      ]
     },
     "execution_count": 12,
     "metadata": {},
     "output_type": "execute_result"
    }
   ],
   "source": [
    "check_issn_digit(\"20030507\") # That's the invalid ISSN previously obtained"
   ]
  },
  {
   "cell_type": "code",
   "execution_count": 13,
   "metadata": {},
   "outputs": [
    {
     "data": {
      "text/plain": [
       "'9'"
      ]
     },
     "execution_count": 13,
     "metadata": {},
     "output_type": "execute_result"
    }
   ],
   "source": [
    "issn_digit(\"2003050\") # Its digit should had been 9 (as we've already seen)"
   ]
  },
  {
   "cell_type": "code",
   "execution_count": 14,
   "metadata": {},
   "outputs": [
    {
     "data": {
      "text/plain": [
       "True"
      ]
     },
     "execution_count": 14,
     "metadata": {},
     "output_type": "execute_result"
    }
   ],
   "source": [
    "check_issn_digit(\"24516600\") # The other ISSN without \"-\" seen previously"
   ]
  },
  {
   "cell_type": "markdown",
   "metadata": {},
   "source": [
    "### Validating the ISSN digits in the `tabs_network/journals.csv` dataset"
   ]
  },
  {
   "cell_type": "markdown",
   "metadata": {},
   "source": [
    "The ISSNs with invalid digits from the `ISSN SciELO` column are:"
   ]
  },
  {
   "cell_type": "code",
   "execution_count": 15,
   "metadata": {},
   "outputs": [
    {
     "data": {
      "text/html": [
       "<div>\n",
       "<style scoped>\n",
       "    .dataframe tbody tr th:only-of-type {\n",
       "        vertical-align: middle;\n",
       "    }\n",
       "\n",
       "    .dataframe tbody tr th {\n",
       "        vertical-align: top;\n",
       "    }\n",
       "\n",
       "    .dataframe thead th {\n",
       "        text-align: right;\n",
       "    }\n",
       "</style>\n",
       "<table border=\"1\" class=\"dataframe\">\n",
       "  <thead>\n",
       "    <tr style=\"text-align: right;\">\n",
       "      <th></th>\n",
       "      <th>title at SciELO</th>\n",
       "      <th>ISSN's</th>\n",
       "      <th>ISSN SciELO</th>\n",
       "      <th>digit</th>\n",
       "    </tr>\n",
       "  </thead>\n",
       "  <tbody>\n",
       "    <tr>\n",
       "      <th>509</th>\n",
       "      <td>Ajayu Órgano de Difusión Científica del Departamento de Psicología UCBSP</td>\n",
       "      <td>2077-2161</td>\n",
       "      <td>2077-2161</td>\n",
       "      <td>5</td>\n",
       "    </tr>\n",
       "    <tr>\n",
       "      <th>520</th>\n",
       "      <td>Acta Nova</td>\n",
       "      <td>1683-0789</td>\n",
       "      <td>1683-0789</td>\n",
       "      <td>4</td>\n",
       "    </tr>\n",
       "    <tr>\n",
       "      <th>961</th>\n",
       "      <td>Acta Médica Costarricense</td>\n",
       "      <td>0001-6012;0001-6002</td>\n",
       "      <td>0001-6002</td>\n",
       "      <td>4</td>\n",
       "    </tr>\n",
       "    <tr>\n",
       "      <th>1293</th>\n",
       "      <td>Revista Diacrítica</td>\n",
       "      <td>0807-8967</td>\n",
       "      <td>0807-8967</td>\n",
       "      <td>3</td>\n",
       "    </tr>\n",
       "    <tr>\n",
       "      <th>1705</th>\n",
       "      <td>Utopìa y Praxis Latinoamericana</td>\n",
       "      <td>1315-5216</td>\n",
       "      <td>1315-5216</td>\n",
       "      <td>0</td>\n",
       "    </tr>\n",
       "  </tbody>\n",
       "</table>\n",
       "</div>"
      ],
      "text/plain": [
       "                                                               title at SciELO  \\\n",
       "509   Ajayu Órgano de Difusión Científica del Departamento de Psicología UCBSP   \n",
       "520                                                                  Acta Nova   \n",
       "961                                                  Acta Médica Costarricense   \n",
       "1293                                                        Revista Diacrítica   \n",
       "1705                                           Utopìa y Praxis Latinoamericana   \n",
       "\n",
       "                   ISSN's ISSN SciELO digit  \n",
       "509             2077-2161   2077-2161     5  \n",
       "520             1683-0789   1683-0789     4  \n",
       "961   0001-6012;0001-6002   0001-6002     4  \n",
       "1293            0807-8967   0807-8967     3  \n",
       "1705            1315-5216   1315-5216     0  "
      ]
     },
     "execution_count": 15,
     "metadata": {},
     "output_type": "execute_result"
    }
   ],
   "source": [
    "icd_issn_scielo = journals[~journals[\"ISSN SciELO\"].apply(check_issn_digit)]\n",
    "icd_issn_scielo[[\"title at SciELO\", \"ISSN's\", \"ISSN SciELO\"]] \\\n",
    "    .assign(digit=icd_issn_scielo[\"ISSN SciELO\"].apply(issn_full2digit))"
   ]
  },
  {
   "cell_type": "markdown",
   "metadata": {},
   "source": [
    "The only one we can easily fix is the `0001-6002`,\n",
    "since its alternative in the `ISSN's` list is valid\n",
    "and is quite explicit in the\n",
    "[Acta medica costarricense's web site](http://www.actamedica.medicos.cr),\n",
    "besides being the only one there."
   ]
  },
  {
   "cell_type": "code",
   "execution_count": 16,
   "metadata": {},
   "outputs": [
    {
     "data": {
      "text/plain": [
       "'5'"
      ]
     },
     "execution_count": 16,
     "metadata": {},
     "output_type": "execute_result"
    }
   ],
   "source": [
    "issn_full2digit(\"2077-2161\")"
   ]
  },
  {
   "cell_type": "code",
   "execution_count": 17,
   "metadata": {},
   "outputs": [
    {
     "data": {
      "text/plain": [
       "True"
      ]
     },
     "execution_count": 17,
     "metadata": {},
     "output_type": "execute_result"
    }
   ],
   "source": [
    "check_issn_digit(\"0001-6012\")"
   ]
  },
  {
   "cell_type": "markdown",
   "metadata": {},
   "source": [
    "Fixing the remaining ones might be way more difficult than it might seem.\n",
    "The [Ajayu's web site](http://www.ucb.edu.bo/publicaciones/ajayu)\n",
    "gives us that very same ISSN: `2077-2161`.\n",
    "It seems that either the digit checking algorithm\n",
    "isn't taken on account for every assigned/granted ISSN,\n",
    "or there's some specific historical issue,\n",
    "like an assignment happening before that calculation was standardized,\n",
    "or some human mistake when performing the assignment.\n",
    "Or that's simply a mistake in the journal home page\n",
    "that had been copied to the database.\n",
    "Whichever the reason for that,\n",
    "we should stick with some inconsistent data as is\n",
    "for the time being,\n",
    "at least until someone fixes or confirms that information."
   ]
  },
  {
   "cell_type": "markdown",
   "metadata": {},
   "source": [
    "A similar analysis in the entries from the `ISSN's` column:"
   ]
  },
  {
   "cell_type": "code",
   "execution_count": 18,
   "metadata": {},
   "outputs": [
    {
     "data": {
      "text/html": [
       "<div>\n",
       "<style scoped>\n",
       "    .dataframe tbody tr th:only-of-type {\n",
       "        vertical-align: middle;\n",
       "    }\n",
       "\n",
       "    .dataframe tbody tr th {\n",
       "        vertical-align: top;\n",
       "    }\n",
       "\n",
       "    .dataframe thead th {\n",
       "        text-align: right;\n",
       "    }\n",
       "</style>\n",
       "<table border=\"1\" class=\"dataframe\">\n",
       "  <thead>\n",
       "    <tr style=\"text-align: right;\">\n",
       "      <th></th>\n",
       "      <th>title at SciELO</th>\n",
       "      <th>ISSN's</th>\n",
       "      <th>ISSN SciELO</th>\n",
       "    </tr>\n",
       "  </thead>\n",
       "  <tbody>\n",
       "    <tr>\n",
       "      <th>98</th>\n",
       "      <td>Revista Brasileira de Engenharia Biomédica</td>\n",
       "      <td>NaN</td>\n",
       "      <td>1517-3151</td>\n",
       "    </tr>\n",
       "    <tr>\n",
       "      <th>99</th>\n",
       "      <td>Revista Brasileira de Coloproctologia</td>\n",
       "      <td>NaN</td>\n",
       "      <td>0101-9880</td>\n",
       "    </tr>\n",
       "    <tr>\n",
       "      <th>402</th>\n",
       "      <td>SaberEs</td>\n",
       "      <td>1852-4418;1852-4222</td>\n",
       "      <td>1852-4222</td>\n",
       "    </tr>\n",
       "    <tr>\n",
       "      <th>488</th>\n",
       "      <td>Salud(i)ciencia</td>\n",
       "      <td>1667-8682;1667-8990</td>\n",
       "      <td>1667-8990</td>\n",
       "    </tr>\n",
       "    <tr>\n",
       "      <th>509</th>\n",
       "      <td>Ajayu Órgano de Difusión Científica del Departamento de Psicología UCBSP</td>\n",
       "      <td>2077-2161</td>\n",
       "      <td>2077-2161</td>\n",
       "    </tr>\n",
       "    <tr>\n",
       "      <th>520</th>\n",
       "      <td>Acta Nova</td>\n",
       "      <td>1683-0789</td>\n",
       "      <td>1683-0789</td>\n",
       "    </tr>\n",
       "    <tr>\n",
       "      <th>665</th>\n",
       "      <td>Economía y Desarrollo</td>\n",
       "      <td>ISSN;0252-8584</td>\n",
       "      <td>0252-8584</td>\n",
       "    </tr>\n",
       "    <tr>\n",
       "      <th>961</th>\n",
       "      <td>Acta Médica Costarricense</td>\n",
       "      <td>0001-6012;0001-6002</td>\n",
       "      <td>0001-6002</td>\n",
       "    </tr>\n",
       "    <tr>\n",
       "      <th>962</th>\n",
       "      <td>Actualidades en Psicología</td>\n",
       "      <td>0858-6444;2215-3535</td>\n",
       "      <td>2215-3535</td>\n",
       "    </tr>\n",
       "    <tr>\n",
       "      <th>1293</th>\n",
       "      <td>Revista Diacrítica</td>\n",
       "      <td>0807-8967</td>\n",
       "      <td>0807-8967</td>\n",
       "    </tr>\n",
       "    <tr>\n",
       "      <th>1391</th>\n",
       "      <td>A Peste : Revista de Psicanálise e Sociedade</td>\n",
       "      <td>1775-1851;2175-6104</td>\n",
       "      <td>2175-6104</td>\n",
       "    </tr>\n",
       "    <tr>\n",
       "      <th>1446</th>\n",
       "      <td>Liberabit</td>\n",
       "      <td>1729-4827;2233-7666</td>\n",
       "      <td>1729-4827</td>\n",
       "    </tr>\n",
       "    <tr>\n",
       "      <th>1705</th>\n",
       "      <td>Utopìa y Praxis Latinoamericana</td>\n",
       "      <td>1315-5216</td>\n",
       "      <td>1315-5216</td>\n",
       "    </tr>\n",
       "    <tr>\n",
       "      <th>1707</th>\n",
       "      <td>Revista Venezolana de Economía y Ciencias Sociales</td>\n",
       "      <td>20030507;1315-6411</td>\n",
       "      <td>1315-6411</td>\n",
       "    </tr>\n",
       "  </tbody>\n",
       "</table>\n",
       "</div>"
      ],
      "text/plain": [
       "                                                               title at SciELO  \\\n",
       "98                                  Revista Brasileira de Engenharia Biomédica   \n",
       "99                                       Revista Brasileira de Coloproctologia   \n",
       "402                                                                    SaberEs   \n",
       "488                                                            Salud(i)ciencia   \n",
       "509   Ajayu Órgano de Difusión Científica del Departamento de Psicología UCBSP   \n",
       "520                                                                  Acta Nova   \n",
       "665                                                      Economía y Desarrollo   \n",
       "961                                                  Acta Médica Costarricense   \n",
       "962                                                 Actualidades en Psicología   \n",
       "1293                                                        Revista Diacrítica   \n",
       "1391                              A Peste : Revista de Psicanálise e Sociedade   \n",
       "1446                                                                 Liberabit   \n",
       "1705                                           Utopìa y Praxis Latinoamericana   \n",
       "1707                        Revista Venezolana de Economía y Ciencias Sociales   \n",
       "\n",
       "                   ISSN's ISSN SciELO  \n",
       "98                    NaN   1517-3151  \n",
       "99                    NaN   0101-9880  \n",
       "402   1852-4418;1852-4222   1852-4222  \n",
       "488   1667-8682;1667-8990   1667-8990  \n",
       "509             2077-2161   2077-2161  \n",
       "520             1683-0789   1683-0789  \n",
       "665        ISSN;0252-8584   0252-8584  \n",
       "961   0001-6012;0001-6002   0001-6002  \n",
       "962   0858-6444;2215-3535   2215-3535  \n",
       "1293            0807-8967   0807-8967  \n",
       "1391  1775-1851;2175-6104   2175-6104  \n",
       "1446  1729-4827;2233-7666   1729-4827  \n",
       "1705            1315-5216   1315-5216  \n",
       "1707   20030507;1315-6411   1315-6411  "
      ]
     },
     "execution_count": 18,
     "metadata": {},
     "output_type": "execute_result"
    }
   ],
   "source": [
    "journals[[\"title at SciELO\", \"ISSN's\", \"ISSN SciELO\"]] \\\n",
    "        [journals[\"ISSN's\"].fillna(\"\").str.split(\";\")\n",
    "                           .apply(lambda issns: not all(check_issn_digit(issn)\n",
    "                                                        for issn in issns))]"
   ]
  },
  {
   "cell_type": "markdown",
   "metadata": {},
   "source": [
    "Some ISSNs there are valid:"
   ]
  },
  {
   "cell_type": "code",
   "execution_count": 19,
   "metadata": {},
   "outputs": [
    {
     "data": {
      "text/plain": [
       "True"
      ]
     },
     "execution_count": 19,
     "metadata": {},
     "output_type": "execute_result"
    }
   ],
   "source": [
    "all(check_issn_digit(issn)\n",
    "    for issn in [\"0252-8584\", \"1315-6411\", \"1667-8990\", \"1729-4827\",\n",
    "                 \"1852-4222\", \"2175-6104\", \"2215-3535\"])"
   ]
  },
  {
   "cell_type": "markdown",
   "metadata": {},
   "source": [
    "### Finding the correct ISSN for these few journals"
   ]
  },
  {
   "cell_type": "markdown",
   "metadata": {},
   "source": [
    "From [SaberEs's web page](http://saberes.fcecon.unr.edu.ar/index.php/revista),\n",
    "we find `1852-4418` should have been `1852-4184`.\n",
    "Likewise, from [Liberabit's web page](http://revistaliberabit.com),\n",
    "we find `2233-7666` has a typo, it's `2223-7666`.\n",
    "A similar typo is `0858-6444`, which should have been `0258-6444`,\n",
    "as it's written in the\n",
    "[Actualidades en Psicología's web page](https://revistas.ucr.ac.cr/index.php/actualidades).\n",
    "The `1667-8682` should have been `1667-8982`, as\n",
    "[this PDF of a Salud(i)ciencia article](https://www.ris.uu.nl/ws/files/41145926/sic_176_1.pdf)\n",
    "suggests and [its SJR entry](https://www.scimagojr.com/journalsearch.php?q=4100151617&tip=sid)\n",
    "seems to confirm.\n",
    "*Utopia y Praxis Latinoamericana* appears on\n",
    "[SJR](https://www.scimagojr.com/journalsearch.php?q=5700164382&tip=sid)\n",
    "with two ISSNs: `1316-5216` and `2477-9555`.\n",
    "[Acta Nova](https://www.ucbcba.edu.bo/universidad/publicaciones/revistas-2/acta-nova)'s\n",
    "printed version ISSN is `1683-0768`, not `1683-0789`.\n",
    "[Revista Diacrítica](http://diacritica.ilch.uminho.pt) on\n",
    "[26/2-2012](http://ceh.ilch.uminho.pt/publicacoes/Diacritica_26-2.pdf)\n",
    "wrote `0807-8967` as its ISSN, but that seems like a typo,\n",
    "as in its page the ISSN is explicitly written as\n",
    "`0870-8967 (printed version); 2183-9174 (electronic version)`.\n",
    "There's no information in [A Peste's web page](http://revistas.pucsp.br/apeste)\n",
    "regarding a printed version ISSN,\n",
    "but that `1775-1851` appeared\n",
    "in the description of the cover image:\n",
    "*The Fifth Plague of Egypt*\n",
    "by *Joseph Mallord William Turner (1775-1851)*;\n",
    "[his Wikipedia page](https://pt.wikipedia.org/wiki/William_Turner)\n",
    "states that's the year range of his life, it's not an ISSN.\n",
    "\n",
    "[Revista Uruguaya de Medicina Interna](http://www.medicinainterna.org.uy/revista-medicina-interna)\n",
    "on\n",
    "[No.3/Nov2017](http://www.medicinainterna.org.uy/wp-content/uploads/2016/06/RumiNo3_Nov_2017Ch.pdf)\n",
    "tells us the ISSN is `2393-6797`,\n",
    "not `2993-6797` as it used to be in the 2018-06 reports version,\n",
    "but it had been already corrected upstream.\n",
    "\n",
    "All these new ISSNs found have a valid check digit:"
   ]
  },
  {
   "cell_type": "code",
   "execution_count": 20,
   "metadata": {},
   "outputs": [
    {
     "data": {
      "text/plain": [
       "True"
      ]
     },
     "execution_count": 20,
     "metadata": {},
     "output_type": "execute_result"
    }
   ],
   "source": [
    "all(check_issn_digit(issn)\n",
    "    for issn in [\"0258-6444\", \"0870-8967\", \"1316-5216\", \"1667-8982\",\n",
    "                 \"1683-0768\", \"1852-4184\", \"2183-9174\", \"2223-7666\",\n",
    "                 \"2477-9555\"])"
   ]
  },
  {
   "cell_type": "code",
   "execution_count": 21,
   "metadata": {},
   "outputs": [
    {
     "data": {
      "text/html": [
       "<div>\n",
       "<style scoped>\n",
       "    .dataframe tbody tr th:only-of-type {\n",
       "        vertical-align: middle;\n",
       "    }\n",
       "\n",
       "    .dataframe tbody tr th {\n",
       "        vertical-align: top;\n",
       "    }\n",
       "\n",
       "    .dataframe thead th {\n",
       "        text-align: right;\n",
       "    }\n",
       "</style>\n",
       "<table border=\"1\" class=\"dataframe\">\n",
       "  <thead>\n",
       "    <tr style=\"text-align: right;\">\n",
       "      <th></th>\n",
       "      <th>title at SciELO</th>\n",
       "      <th>ISSN's</th>\n",
       "      <th>ISSN SciELO</th>\n",
       "    </tr>\n",
       "  </thead>\n",
       "  <tbody>\n",
       "    <tr>\n",
       "      <th>1672</th>\n",
       "      <td>Revista Uruguaya de Medicina Interna</td>\n",
       "      <td>2393-6797;2393-6797</td>\n",
       "      <td>2393-6797</td>\n",
       "    </tr>\n",
       "  </tbody>\n",
       "</table>\n",
       "</div>"
      ],
      "text/plain": [
       "                           title at SciELO               ISSN's ISSN SciELO\n",
       "1672  Revista Uruguaya de Medicina Interna  2393-6797;2393-6797   2393-6797"
      ]
     },
     "execution_count": 21,
     "metadata": {},
     "output_type": "execute_result"
    }
   ],
   "source": [
    "journals[[\"title at SciELO\", \"ISSN's\", \"ISSN SciELO\"]][\n",
    "    journals[\"ISSN's\"].str.contains(\"2393-6797\") |\n",
    "    (journals[\"ISSN SciELO\"] == \"2393-6797\")\n",
    "].drop_duplicates()"
   ]
  },
  {
   "cell_type": "markdown",
   "metadata": {},
   "source": [
    "*Note:*\n",
    "On the 2018-06 ZIP reports version,\n",
    "[Revista Uruguaya de Medicina Interna](http://www.medicinainterna.org.uy/revista-medicina-interna)\n",
    "had `2993-6797` as its ISSN, but its\n",
    "[No.3/Nov2017](http://www.medicinainterna.org.uy/wp-content/uploads/2016/06/RumiNo3_Nov_2017Ch.pdf)\n",
    "tells us the ISSN is `2393-6797`.\n",
    "This was corrected in the 2018-09 version."
   ]
  },
  {
   "cell_type": "markdown",
   "metadata": {},
   "source": [
    "From the remaining entries,\n",
    "the only invalid ISSN we couldn't fix\n",
    "was the one belonging to `Ajayu`.\n",
    "There's no evidence that its ISSN could be different\n",
    "besides the inconsistency regarding the check digit, and a\n",
    "[single article](https://www.scribd.com/document/152839301/Ruptura-Amorosa-y-Terapia-Narrativa)\n",
    "that had written `2011-2161` as the ISSN,\n",
    "but that alternative still need to have $5$ as its check digit\n",
    "(i.e., it's also invalid),\n",
    "and that's not a trusted source of information."
   ]
  },
  {
   "cell_type": "code",
   "execution_count": 22,
   "metadata": {},
   "outputs": [
    {
     "data": {
      "text/plain": [
       "'5'"
      ]
     },
     "execution_count": 22,
     "metadata": {},
     "output_type": "execute_result"
    }
   ],
   "source": [
    "issn_full2digit(\"2011-2161\")"
   ]
  },
  {
   "cell_type": "markdown",
   "metadata": {},
   "source": [
    "A summary of what should be done regarding these selected ISSNs:"
   ]
  },
  {
   "cell_type": "code",
   "execution_count": 23,
   "metadata": {},
   "outputs": [],
   "source": [
    "issns_fix = { # To replace all entries in ISSN SciELO and ISSN's\n",
    "    \"0001-6002\": \"0001-6012\", # Acta Médica Costarricense\n",
    "    \"0858-6444\": \"0258-6444\", # Actualidades en Psicología\n",
    "    \"1667-8682\": \"1667-8982\", # Salud(i)ciencia\n",
    "    \"1852-4418\": \"1852-4184\", # SaberEs\n",
    "    \"2233-7666\": \"2223-7666\", # Liberabit\n",
    "    \"0807-8967\": \"0870-8967\", # Revista Diacrítica\n",
    "    \"2993-6797\": \"2393-6797\", # Revista Uruguaya de Medicina Interna\n",
    "    \"1315-5216\": \"1316-5216\", # Utopia y Praxis Latinoamericana\n",
    "    \"1683-0789\": \"1683-0768\", # Acta Nova\n",
    "    \"24516600\": \"2451-6600\",\n",
    "    \"0719-448x\": \"0719-448X\",\n",
    "}\n",
    "extra_issns = { # To add as alternative ISSN's\n",
    "    \"0870-8967\": \"2183-9174\", # Revista Diacrítica\n",
    "    \"1316-5216\": \"2477-9555\", # Utopia y Praxis Latinoamericana\n",
    "}\n",
    "invalid_issns = [ # To remove from ISSN's\n",
    "    \"ISSN\",      # Economía y Desarrollo\n",
    "    \"20030507\",  # Revista Venezolana de Economía y Ciencias Sociales\n",
    "    \"1775-1851\", # A Peste : Revista de Psicanálise e Sociedade\n",
    "]"
   ]
  },
  {
   "cell_type": "markdown",
   "metadata": {},
   "source": [
    "And the `ISSN's` should always include the `ISSN SciELO` value.\n",
    "Let's do that!"
   ]
  },
  {
   "cell_type": "code",
   "execution_count": 24,
   "metadata": {},
   "outputs": [
    {
     "data": {
      "text/plain": [
       "1727    1012-2508\n",
       "1728    0254-0770\n",
       "1729    1316-0087\n",
       "1730    1317-5815\n",
       "1731    0367-4762\n",
       "Name: ISSN SciELO, dtype: object"
      ]
     },
     "execution_count": 24,
     "metadata": {},
     "output_type": "execute_result"
    }
   ],
   "source": [
    "issn_scielo = journals[\"ISSN SciELO\"].str.upper().replace(issns_fix)\n",
    "issn_scielo.tail() # `ISSN SciELO` solving every issue found so far"
   ]
  },
  {
   "cell_type": "code",
   "execution_count": 25,
   "metadata": {},
   "outputs": [
    {
     "data": {
      "text/plain": [
       "1727    {2443-468X, 1012-2508}\n",
       "1728               {0254-0770}\n",
       "1729               {1316-0087}\n",
       "1730               {1317-5815}\n",
       "1731               {0367-4762}\n",
       "Name: ISSN's, dtype: object"
      ]
     },
     "execution_count": 25,
     "metadata": {},
     "output_type": "execute_result"
    }
   ],
   "source": [
    "digitfix_issns = {k: {v, extra_issns[v]} if v in extra_issns else {v}\n",
    "                  for k, v in issns_fix.items()}\n",
    "issns_set = journals[\"ISSN's\"] \\\n",
    "    .fillna(issn_scielo) \\\n",
    "    .str.upper() \\\n",
    "    .str.split(\";\") \\\n",
    "    .apply(lambda items: set.union(*[digitfix_issns.get(item, {item})\n",
    "                                     for item in items\n",
    "                                     if item not in invalid_issns]))\n",
    "issns_set.tail() # `ISSN's` as a set, solving every issue found so far"
   ]
  },
  {
   "cell_type": "markdown",
   "metadata": {},
   "source": [
    "## Mixed ISSN in the `ISSN SciELO` field"
   ]
  },
  {
   "cell_type": "markdown",
   "metadata": {},
   "source": [
    "The `ISSN SciELO` should have a *primary* ISSN,\n",
    "in the *primary key* sense from databases,\n",
    "somewhat arbitrary but still required\n",
    "in order to avoid errors in analysis.\n",
    "Crossing the data with other tables\n",
    "should ideally not require any other ISSN,\n",
    "and that's the main goal:\n",
    "keep everything simple after this normalization."
   ]
  },
  {
   "cell_type": "markdown",
   "metadata": {},
   "source": [
    "There are at most one mixed ISSN for every ISSN list\n",
    "(that is, there's a single ISSN in the `ISSN's` field\n",
    " different from the `ISSN SciELO` of the same row\n",
    " that appears in the `ISSN SciELO` field of another row):"
   ]
  },
  {
   "cell_type": "code",
   "execution_count": 26,
   "metadata": {},
   "outputs": [
    {
     "data": {
      "text/plain": [
       "1"
      ]
     },
     "execution_count": 26,
     "metadata": {},
     "output_type": "execute_result"
    }
   ],
   "source": [
    "other_mixed_issns = (issns_set - issn_scielo.apply(lambda issn: {issn})) \\\n",
    "    .apply(lambda issn_set: {issn for issn in issn_set\n",
    "                             if issn in issn_scielo.values})\n",
    "how_many_mixed_issns = other_mixed_issns.apply(len)\n",
    "how_many_mixed_issns.max()"
   ]
  },
  {
   "cell_type": "markdown",
   "metadata": {},
   "source": [
    "If that number was greater than $1$,\n",
    "the technique below wouldn't work.\n",
    "Actually, our goal is just to find a mapping\n",
    "that would fix the mixed ISSN,\n",
    "i.e., for a set of ISSN values for a single journal,\n",
    "the `ISSN SciELO` should always have the same ISSN\n",
    "in every entry belonging to that same journal.\n",
    "Below is the mapping of\n",
    "what appears in both the `ISSN's` and `ISSN SciELO` columns\n",
    "and a distinct value that appears in the `ISSN SciELO`."
   ]
  },
  {
   "cell_type": "code",
   "execution_count": 27,
   "metadata": {},
   "outputs": [
    {
     "data": {
      "text/html": [
       "<div>\n",
       "<style scoped>\n",
       "    .dataframe tbody tr th:only-of-type {\n",
       "        vertical-align: middle;\n",
       "    }\n",
       "\n",
       "    .dataframe tbody tr th {\n",
       "        vertical-align: top;\n",
       "    }\n",
       "\n",
       "    .dataframe thead th {\n",
       "        text-align: right;\n",
       "    }\n",
       "</style>\n",
       "<table border=\"1\" class=\"dataframe\">\n",
       "  <thead>\n",
       "    <tr style=\"text-align: right;\">\n",
       "      <th></th>\n",
       "      <th>mixed_issn</th>\n",
       "      <th>ISSN SciELO</th>\n",
       "    </tr>\n",
       "  </thead>\n",
       "  <tbody>\n",
       "    <tr>\n",
       "      <th>60</th>\n",
       "      <td>1980-5438</td>\n",
       "      <td>0103-5665</td>\n",
       "    </tr>\n",
       "    <tr>\n",
       "      <th>79</th>\n",
       "      <td>1518-3319</td>\n",
       "      <td>2237-101X</td>\n",
       "    </tr>\n",
       "    <tr>\n",
       "      <th>263</th>\n",
       "      <td>1678-5177</td>\n",
       "      <td>0103-6564</td>\n",
       "    </tr>\n",
       "    <tr>\n",
       "      <th>515</th>\n",
       "      <td>2077-3323</td>\n",
       "      <td>1817-7433</td>\n",
       "    </tr>\n",
       "    <tr>\n",
       "      <th>962</th>\n",
       "      <td>0258-6444</td>\n",
       "      <td>2215-3535</td>\n",
       "    </tr>\n",
       "    <tr>\n",
       "      <th>1443</th>\n",
       "      <td>1668-7027</td>\n",
       "      <td>0325-8203</td>\n",
       "    </tr>\n",
       "    <tr>\n",
       "      <th>1461</th>\n",
       "      <td>1980-5438</td>\n",
       "      <td>0103-5665</td>\n",
       "    </tr>\n",
       "    <tr>\n",
       "      <th>1492</th>\n",
       "      <td>2175-3598</td>\n",
       "      <td>0104-1282</td>\n",
       "    </tr>\n",
       "    <tr>\n",
       "      <th>1656</th>\n",
       "      <td>0797-9789</td>\n",
       "      <td>1688-499X</td>\n",
       "    </tr>\n",
       "    <tr>\n",
       "      <th>1661</th>\n",
       "      <td>1688-4094</td>\n",
       "      <td>1688-4221</td>\n",
       "    </tr>\n",
       "  </tbody>\n",
       "</table>\n",
       "</div>"
      ],
      "text/plain": [
       "     mixed_issn ISSN SciELO\n",
       "60    1980-5438   0103-5665\n",
       "79    1518-3319   2237-101X\n",
       "263   1678-5177   0103-6564\n",
       "515   2077-3323   1817-7433\n",
       "962   0258-6444   2215-3535\n",
       "1443  1668-7027   0325-8203\n",
       "1461  1980-5438   0103-5665\n",
       "1492  2175-3598   0104-1282\n",
       "1656  0797-9789   1688-499X\n",
       "1661  1688-4094   1688-4221"
      ]
     },
     "execution_count": 27,
     "metadata": {},
     "output_type": "execute_result"
    }
   ],
   "source": [
    "has_mixed_issn = how_many_mixed_issns > 0\n",
    "mixed_issn_df = pd.DataFrame([\n",
    "                    other_mixed_issns[has_mixed_issn]\n",
    "                        .apply(lambda x: set(x).pop())\n",
    "                        .rename(\"mixed_issn\"),\n",
    "                    issn_scielo[has_mixed_issn],\n",
    "                ]).T\n",
    "mixed_issn_df"
   ]
  },
  {
   "cell_type": "markdown",
   "metadata": {},
   "source": [
    "That small table above is exhaustive.\n",
    "We can select any of the columns to be the normalized ISSN,\n",
    "taking care of duplicated entries.\n",
    "The rows with the issues above are:"
   ]
  },
  {
   "cell_type": "code",
   "execution_count": 28,
   "metadata": {},
   "outputs": [
    {
     "data": {
      "text/html": [
       "<div>\n",
       "<style scoped>\n",
       "    .dataframe tbody tr th:only-of-type {\n",
       "        vertical-align: middle;\n",
       "    }\n",
       "\n",
       "    .dataframe tbody tr th {\n",
       "        vertical-align: top;\n",
       "    }\n",
       "\n",
       "    .dataframe thead th {\n",
       "        text-align: right;\n",
       "    }\n",
       "</style>\n",
       "<table border=\"1\" class=\"dataframe\">\n",
       "  <thead>\n",
       "    <tr style=\"text-align: right;\">\n",
       "      <th></th>\n",
       "      <th>collection</th>\n",
       "      <th>title at SciELO</th>\n",
       "      <th>title thematic areas</th>\n",
       "      <th>publisher name</th>\n",
       "      <th>issn_scielo</th>\n",
       "      <th>issns</th>\n",
       "    </tr>\n",
       "  </thead>\n",
       "  <tbody>\n",
       "    <tr>\n",
       "      <th>60</th>\n",
       "      <td>scl</td>\n",
       "      <td>Psicologia Clínica</td>\n",
       "      <td>Human Sciences</td>\n",
       "      <td>Departamento de Psicologia da Pontifícia Universidade Católica do Rio de Janeiro</td>\n",
       "      <td>0103-5665</td>\n",
       "      <td>{0103-5665, 1980-5438}</td>\n",
       "    </tr>\n",
       "    <tr>\n",
       "      <th>79</th>\n",
       "      <td>scl</td>\n",
       "      <td>Topoi (Rio de Janeiro)</td>\n",
       "      <td>Human Sciences</td>\n",
       "      <td>Programa de Pós-Graduação em História Social da Universidade Federal do Rio de Janeiro</td>\n",
       "      <td>2237-101X</td>\n",
       "      <td>{2237-101X, 1518-3319}</td>\n",
       "    </tr>\n",
       "    <tr>\n",
       "      <th>263</th>\n",
       "      <td>scl</td>\n",
       "      <td>Psicologia USP</td>\n",
       "      <td>Human Sciences</td>\n",
       "      <td>Instituto de Psicologia da Universidade de São Paulo</td>\n",
       "      <td>0103-6564</td>\n",
       "      <td>{0103-6564, 1678-5177}</td>\n",
       "    </tr>\n",
       "    <tr>\n",
       "      <th>376</th>\n",
       "      <td>arg</td>\n",
       "      <td>Interdisciplinaria</td>\n",
       "      <td>Human Sciences</td>\n",
       "      <td>Centro Interamericano de Investigaciones Psicológicas y Ciencias Afines (CIIPCA)</td>\n",
       "      <td>1668-7027</td>\n",
       "      <td>{1668-7027}</td>\n",
       "    </tr>\n",
       "    <tr>\n",
       "      <th>513</th>\n",
       "      <td>bol</td>\n",
       "      <td>Revista Ciencia y Cultura</td>\n",
       "      <td>Applied Social Sciences;Human Sciences;Linguistics, Letters and Arts</td>\n",
       "      <td>Universidad Católica Boliviana</td>\n",
       "      <td>2077-3323</td>\n",
       "      <td>{2077-3323}</td>\n",
       "    </tr>\n",
       "    <tr>\n",
       "      <th>515</th>\n",
       "      <td>bol</td>\n",
       "      <td>Revista Científica Ciencia Médica</td>\n",
       "      <td>Health Sciences</td>\n",
       "      <td>Facultad de Medicina, Universidad Mayor de San Simón.</td>\n",
       "      <td>1817-7433</td>\n",
       "      <td>{2077-3323}</td>\n",
       "    </tr>\n",
       "    <tr>\n",
       "      <th>962</th>\n",
       "      <td>cri</td>\n",
       "      <td>Actualidades en Psicología</td>\n",
       "      <td>Applied Social Sciences;Health Sciences</td>\n",
       "      <td>Instituto de Investigaciones Psicológicas, Universidad de Costa Rica</td>\n",
       "      <td>2215-3535</td>\n",
       "      <td>{0258-6444, 2215-3535}</td>\n",
       "    </tr>\n",
       "    <tr>\n",
       "      <th>1373</th>\n",
       "      <td>psi</td>\n",
       "      <td>Psicologia USP</td>\n",
       "      <td>Human Sciences</td>\n",
       "      <td>Instituto de Psicologia da Universidade de São Paulo</td>\n",
       "      <td>1678-5177</td>\n",
       "      <td>{1678-5177}</td>\n",
       "    </tr>\n",
       "    <tr>\n",
       "      <th>1427</th>\n",
       "      <td>psi</td>\n",
       "      <td>Ciencias Psicológicas</td>\n",
       "      <td>Human Sciences</td>\n",
       "      <td>Facultad de Psicología de la Universidad Católica del Uruguay, Damaso A. Larrañaga</td>\n",
       "      <td>1688-4094</td>\n",
       "      <td>{1688-4094}</td>\n",
       "    </tr>\n",
       "    <tr>\n",
       "      <th>1428</th>\n",
       "      <td>psi</td>\n",
       "      <td>Actualidades en psicología</td>\n",
       "      <td>Applied Social Sciences</td>\n",
       "      <td>Universidad de Costa Rica. Facultad de Ciencias Sociales. Instituto de Investigaciones Psicológicas</td>\n",
       "      <td>0258-6444</td>\n",
       "      <td>{0258-6444}</td>\n",
       "    </tr>\n",
       "    <tr>\n",
       "      <th>1442</th>\n",
       "      <td>psi</td>\n",
       "      <td>Psicologia clínica (Rio de Janeiro. Online)</td>\n",
       "      <td>Applied Social Sciences</td>\n",
       "      <td>Pontifícia Universidade Católica do Rio de Janeiro, Departamento de Psicologia</td>\n",
       "      <td>1980-5438</td>\n",
       "      <td>{1980-5438}</td>\n",
       "    </tr>\n",
       "    <tr>\n",
       "      <th>1443</th>\n",
       "      <td>psi</td>\n",
       "      <td>Interdisciplinaria</td>\n",
       "      <td>Human Sciences</td>\n",
       "      <td>Centro Interamericano de Investigaciones Psicológicas y Ciencias Afines (CIIPCA)</td>\n",
       "      <td>0325-8203</td>\n",
       "      <td>{0325-8203, 1668-7027}</td>\n",
       "    </tr>\n",
       "    <tr>\n",
       "      <th>1455</th>\n",
       "      <td>psi</td>\n",
       "      <td>Journal of Human Growth and Development</td>\n",
       "      <td>Applied Social Sciences</td>\n",
       "      <td>Centro de Estudos do Crescimento e do Desenvolvimento do Ser Humano</td>\n",
       "      <td>2175-3598</td>\n",
       "      <td>{2175-3598}</td>\n",
       "    </tr>\n",
       "    <tr>\n",
       "      <th>1461</th>\n",
       "      <td>psi</td>\n",
       "      <td>Psicologia Clínica</td>\n",
       "      <td>Applied Social Sciences</td>\n",
       "      <td>Departamento de Psicologia da Pontifícia Universidade Católica do Rio de Janeiro</td>\n",
       "      <td>0103-5665</td>\n",
       "      <td>{0103-5665, 1980-5438}</td>\n",
       "    </tr>\n",
       "    <tr>\n",
       "      <th>1492</th>\n",
       "      <td>psi</td>\n",
       "      <td>Journal of Human Growth and Development</td>\n",
       "      <td>Applied Social Sciences</td>\n",
       "      <td>Centro de Estudos de Crescimento e Desenvolvimento do Ser Humano</td>\n",
       "      <td>0104-1282</td>\n",
       "      <td>{2175-3598, 0104-1282}</td>\n",
       "    </tr>\n",
       "    <tr>\n",
       "      <th>1564</th>\n",
       "      <td>sss</td>\n",
       "      <td>Revista Uruguaya de Ciencia Política</td>\n",
       "      <td>Applied Social Sciences</td>\n",
       "      <td>Instituto de Ciência Política</td>\n",
       "      <td>0797-9789</td>\n",
       "      <td>{0797-9789}</td>\n",
       "    </tr>\n",
       "    <tr>\n",
       "      <th>1570</th>\n",
       "      <td>sss</td>\n",
       "      <td>Topoi: Revista de História</td>\n",
       "      <td>Applied Social Sciences</td>\n",
       "      <td>Universidade Federal do Rio de Janeiro</td>\n",
       "      <td>1518-3319</td>\n",
       "      <td>{1518-3319}</td>\n",
       "    </tr>\n",
       "    <tr>\n",
       "      <th>1656</th>\n",
       "      <td>ury</td>\n",
       "      <td>Revista Uruguaya de Ciencia Política</td>\n",
       "      <td>Applied Social Sciences;Human Sciences</td>\n",
       "      <td>Universidad de la República. Facultad de Ciencias Sociales. Instituto de Ciencia Política.</td>\n",
       "      <td>1688-499X</td>\n",
       "      <td>{1688-499X, 0797-9789}</td>\n",
       "    </tr>\n",
       "    <tr>\n",
       "      <th>1661</th>\n",
       "      <td>ury</td>\n",
       "      <td>Ciencias Psicológicas</td>\n",
       "      <td>Applied Social Sciences;Human Sciences</td>\n",
       "      <td>Universidad Católica del Uruguay. Facultad de Psicología.</td>\n",
       "      <td>1688-4221</td>\n",
       "      <td>{1688-4221, 1688-4094}</td>\n",
       "    </tr>\n",
       "  </tbody>\n",
       "</table>\n",
       "</div>"
      ],
      "text/plain": [
       "     collection                              title at SciELO  \\\n",
       "60          scl                           Psicologia Clínica   \n",
       "79          scl                       Topoi (Rio de Janeiro)   \n",
       "263         scl                               Psicologia USP   \n",
       "376         arg                           Interdisciplinaria   \n",
       "513         bol                    Revista Ciencia y Cultura   \n",
       "515         bol            Revista Científica Ciencia Médica   \n",
       "962         cri                   Actualidades en Psicología   \n",
       "1373        psi                               Psicologia USP   \n",
       "1427        psi                        Ciencias Psicológicas   \n",
       "1428        psi                   Actualidades en psicología   \n",
       "1442        psi  Psicologia clínica (Rio de Janeiro. Online)   \n",
       "1443        psi                           Interdisciplinaria   \n",
       "1455        psi      Journal of Human Growth and Development   \n",
       "1461        psi                           Psicologia Clínica   \n",
       "1492        psi      Journal of Human Growth and Development   \n",
       "1564        sss         Revista Uruguaya de Ciencia Política   \n",
       "1570        sss                   Topoi: Revista de História   \n",
       "1656        ury         Revista Uruguaya de Ciencia Política   \n",
       "1661        ury                        Ciencias Psicológicas   \n",
       "\n",
       "                                                      title thematic areas  \\\n",
       "60                                                          Human Sciences   \n",
       "79                                                          Human Sciences   \n",
       "263                                                         Human Sciences   \n",
       "376                                                         Human Sciences   \n",
       "513   Applied Social Sciences;Human Sciences;Linguistics, Letters and Arts   \n",
       "515                                                        Health Sciences   \n",
       "962                                Applied Social Sciences;Health Sciences   \n",
       "1373                                                        Human Sciences   \n",
       "1427                                                        Human Sciences   \n",
       "1428                                               Applied Social Sciences   \n",
       "1442                                               Applied Social Sciences   \n",
       "1443                                                        Human Sciences   \n",
       "1455                                               Applied Social Sciences   \n",
       "1461                                               Applied Social Sciences   \n",
       "1492                                               Applied Social Sciences   \n",
       "1564                                               Applied Social Sciences   \n",
       "1570                                               Applied Social Sciences   \n",
       "1656                                Applied Social Sciences;Human Sciences   \n",
       "1661                                Applied Social Sciences;Human Sciences   \n",
       "\n",
       "                                                                                           publisher name  \\\n",
       "60                       Departamento de Psicologia da Pontifícia Universidade Católica do Rio de Janeiro   \n",
       "79                 Programa de Pós-Graduação em História Social da Universidade Federal do Rio de Janeiro   \n",
       "263                                                  Instituto de Psicologia da Universidade de São Paulo   \n",
       "376                      Centro Interamericano de Investigaciones Psicológicas y Ciencias Afines (CIIPCA)   \n",
       "513                                                                        Universidad Católica Boliviana   \n",
       "515                                                 Facultad de Medicina, Universidad Mayor de San Simón.   \n",
       "962                                  Instituto de Investigaciones Psicológicas, Universidad de Costa Rica   \n",
       "1373                                                 Instituto de Psicologia da Universidade de São Paulo   \n",
       "1427                   Facultad de Psicología de la Universidad Católica del Uruguay, Damaso A. Larrañaga   \n",
       "1428  Universidad de Costa Rica. Facultad de Ciencias Sociales. Instituto de Investigaciones Psicológicas   \n",
       "1442                       Pontifícia Universidade Católica do Rio de Janeiro, Departamento de Psicologia   \n",
       "1443                     Centro Interamericano de Investigaciones Psicológicas y Ciencias Afines (CIIPCA)   \n",
       "1455                                  Centro de Estudos do Crescimento e do Desenvolvimento do Ser Humano   \n",
       "1461                     Departamento de Psicologia da Pontifícia Universidade Católica do Rio de Janeiro   \n",
       "1492                                     Centro de Estudos de Crescimento e Desenvolvimento do Ser Humano   \n",
       "1564                                                                        Instituto de Ciência Política   \n",
       "1570                                                               Universidade Federal do Rio de Janeiro   \n",
       "1656           Universidad de la República. Facultad de Ciencias Sociales. Instituto de Ciencia Política.   \n",
       "1661                                            Universidad Católica del Uruguay. Facultad de Psicología.   \n",
       "\n",
       "     issn_scielo                   issns  \n",
       "60     0103-5665  {0103-5665, 1980-5438}  \n",
       "79     2237-101X  {2237-101X, 1518-3319}  \n",
       "263    0103-6564  {0103-6564, 1678-5177}  \n",
       "376    1668-7027             {1668-7027}  \n",
       "513    2077-3323             {2077-3323}  \n",
       "515    1817-7433             {2077-3323}  \n",
       "962    2215-3535  {0258-6444, 2215-3535}  \n",
       "1373   1678-5177             {1678-5177}  \n",
       "1427   1688-4094             {1688-4094}  \n",
       "1428   0258-6444             {0258-6444}  \n",
       "1442   1980-5438             {1980-5438}  \n",
       "1443   0325-8203  {0325-8203, 1668-7027}  \n",
       "1455   2175-3598             {2175-3598}  \n",
       "1461   0103-5665  {0103-5665, 1980-5438}  \n",
       "1492   0104-1282  {2175-3598, 0104-1282}  \n",
       "1564   0797-9789             {0797-9789}  \n",
       "1570   1518-3319             {1518-3319}  \n",
       "1656   1688-499X  {1688-499X, 0797-9789}  \n",
       "1661   1688-4221  {1688-4221, 1688-4094}  "
      ]
     },
     "execution_count": 28,
     "metadata": {},
     "output_type": "execute_result"
    }
   ],
   "source": [
    "journals[[\"collection\", \"title at SciELO\",\n",
    "          \"title thematic areas\", \"publisher name\"]] \\\n",
    "    .assign(issn_scielo=issn_scielo,\n",
    "            issns=issns_set) \\\n",
    "    [issn_scielo.isin(mixed_issn_df.values.ravel())]"
   ]
  },
  {
   "cell_type": "markdown",
   "metadata": {},
   "source": [
    "The `1817-7433` entry in the `bol` collection\n",
    "has an incorrect secondary `2077-3323` ISSN\n",
    "(the entries are from distinct thematic areas),\n",
    "that won't give us any trouble\n",
    "as long as we don't use the `ISSN's` column afterwards,\n",
    "but for this normalization our goal is to fix that, as well."
   ]
  },
  {
   "cell_type": "markdown",
   "metadata": {},
   "source": [
    "The resulting mapping is:"
   ]
  },
  {
   "cell_type": "code",
   "execution_count": 29,
   "metadata": {},
   "outputs": [],
   "source": [
    "issns_select = {\n",
    "    \"1980-5438\": \"0103-5665\", # psi -> scl/psi\n",
    "    \"2237-101X\": \"1518-3319\", # sss -> scl\n",
    "    \"1678-5177\": \"0103-6564\", # psi -> scl\n",
    "    \"0325-8203\": \"1668-7027\", # psi -> arg\n",
    "    \"2175-3598\": \"0104-1282\", # psi -> psi\n",
    "    \"0797-9789\": \"1688-499X\", # sss -> ury\n",
    "    \"1688-4094\": \"1688-4221\", # psi -> ury\n",
    "    \"0258-6444\": \"2215-3535\", # psi -> cri\n",
    "}"
   ]
  },
  {
   "cell_type": "markdown",
   "metadata": {},
   "source": [
    "Full normalization of the `ISSN SciELO` in a single step can be achieved with:"
   ]
  },
  {
   "cell_type": "code",
   "execution_count": 30,
   "metadata": {},
   "outputs": [],
   "source": [
    "issn_scielo_n = journals[\"ISSN SciELO\"].replace({**issns_fix, **issns_select})"
   ]
  },
  {
   "cell_type": "markdown",
   "metadata": {},
   "source": [
    "## Distinct sets in `ISSN's`"
   ]
  },
  {
   "cell_type": "markdown",
   "metadata": {},
   "source": [
    "With the `ISSN SciELO` column normalized,\n",
    "two rows with the same `ISSN` should have the same `ISSN's`.\n",
    "Is that what we've found?"
   ]
  },
  {
   "cell_type": "code",
   "execution_count": 31,
   "metadata": {},
   "outputs": [
    {
     "data": {
      "text/plain": [
       "ISSN SciELO\n",
       "0011-5258    [(1678-4588, 0011-5258), (0011-5258)]\n",
       "0100-512X    [(0100-512X, 1981-5336), (0100-512X)]\n",
       "0100-8587    [(1984-0438, 0100-8587), (0100-8587)]\n",
       "0101-3300    [(1980-5403, 0101-3300), (0101-3300)]\n",
       "0102-6909    [(0102-6909, 1806-9053), (0102-6909)]\n",
       "0102-7182    [(1807-0310, 0102-7182), (0102-7182)]\n",
       "0102-7972    [(1678-7153, 0102-7972), (0102-7972)]\n",
       "0103-166X    [(0103-166X, 1982-0275), (0103-166X)]\n",
       "0103-2070    [(1809-4554, 0103-2070), (0103-2070)]\n",
       "0103-5665    [(0103-5665, 1980-5438), (1980-5438)]\n",
       "0103-6564    [(0103-6564, 1678-5177), (1678-5177)]\n",
       "0103-863X    [(0103-863X, 1982-4327), (0103-863X)]\n",
       "0104-026X    [(0104-026X, 1806-9584), (0104-026X)]\n",
       "0104-1169    [(1518-8345), (1518-8345, 0104-1169)]\n",
       "0104-1282    [(2175-3598), (2175-3598, 0104-1282)]\n",
       "0104-4478    [(0104-4478, 1678-9873), (0104-4478)]\n",
       "0104-7183    [(1806-9983, 0104-7183), (0104-7183)]\n",
       "0104-8333    [(1809-4449, 0104-8333), (0104-8333)]\n",
       "0104-9313    [(0104-9313, 1678-4944), (0104-9313)]\n",
       "0123-417X    [(0123-417X, 2011-7485), (0123-417X)]\n",
       "1413-294X    [(1678-4669), (1413-294X, 1678-4669)]\n",
       "1413-8271               [(2175-3563), (1413-8271)]\n",
       "1413-8557               [(2175-3539), (1413-8557)]\n",
       "1414-3283    [(1807-5762, 1414-3283), (1414-3283)]\n",
       "1414-9893    [(1982-3703, 1414-9893), (1414-9893)]\n",
       "1415-4714    [(1984-0381, 1415-4714), (1415-4714)]\n",
       "1415-790X    [(1980-5497, 1415-790X), (1415-790X)]\n",
       "1516-1498    [(1809-4414, 1516-1498), (1516-1498)]\n",
       "1517-4522    [(1517-4522, 1807-0337), (1517-4522)]\n",
       "1518-3319    [(2237-101X, 1518-3319), (1518-3319)]\n",
       "1668-7027    [(1668-7027), (0325-8203, 1668-7027)]\n",
       "1688-4221    [(1688-4094), (1688-4221, 1688-4094)]\n",
       "1688-499X    [(0797-9789), (1688-499X, 0797-9789)]\n",
       "1726-4634    [(1726-4634), (1726-4642, 1726-4634)]\n",
       "1729-4827    [(1729-4827), (2223-7666, 1729-4827)]\n",
       "1806-6445    [(1983-3342, 1806-6445), (1806-6445)]\n",
       "1983-3288    [(1983-3288, 1984-3054), (1983-3288)]\n",
       "2215-3535    [(0258-6444, 2215-3535), (0258-6444)]\n",
       "2216-0973    [(2216-0973), (2216-0973, 2346-3414)]\n",
       "dtype: object"
      ]
     },
     "execution_count": 31,
     "metadata": {},
     "output_type": "execute_result"
    }
   ],
   "source": [
    "distinct_frozen_issns = \\\n",
    "    pd.DataFrame([issn_scielo_n,\n",
    "                  issns_set.apply(frozenset)]).T \\\n",
    "      .groupby(\"ISSN SciELO\") \\\n",
    "      .apply(lambda df: df[\"ISSN's\"].unique())\n",
    "distinct_frozen_issns[distinct_frozen_issns.apply(len) > 1]"
   ]
  },
  {
   "cell_type": "markdown",
   "metadata": {},
   "source": [
    "No, it's not. We've found more than one set,\n",
    "and some sets still don't include the `ISSN SciELO` value.\n",
    "Perhaps the easiest way to fix this\n",
    "is by creating a mapping of an ISSN to the set union of these frozensets,\n",
    "and then re-creating the `ISSN's` column."
   ]
  },
  {
   "cell_type": "code",
   "execution_count": 32,
   "metadata": {},
   "outputs": [],
   "source": [
    "issns_mapping = \\\n",
    "    pd.DataFrame([issn_scielo_n, journals[\"ISSN's\"].fillna(issn_scielo_n)]).T \\\n",
    "        .groupby(\"ISSN SciELO\").apply(lambda df: \";\".join(df.values.ravel())) \\\n",
    "        .str.split(\";\") \\\n",
    "        .apply(lambda items: set.union(*[digitfix_issns.get(item, {item})\n",
    "                                         for item in items\n",
    "                                         if item not in invalid_issns]))\n",
    "# It's an exception to the rule seen before, from\n",
    "# Revista Científica Ciencia Médica (bol)\n",
    "issns_mapping.loc[\"1817-7433\"] -= {\"2077-3323\"}"
   ]
  },
  {
   "cell_type": "code",
   "execution_count": 33,
   "metadata": {},
   "outputs": [
    {
     "data": {
      "text/plain": [
       "1727    {2443-468X, 1012-2508}\n",
       "1728               {0254-0770}\n",
       "1729               {1316-0087}\n",
       "1730               {1317-5815}\n",
       "1731               {0367-4762}\n",
       "Name: ISSN's, dtype: object"
      ]
     },
     "execution_count": 33,
     "metadata": {},
     "output_type": "execute_result"
    }
   ],
   "source": [
    "issns_set_n = issn_scielo_n.map(issns_mapping).rename(\"ISSN's\")\n",
    "issns_set_n.tail()"
   ]
  },
  {
   "cell_type": "markdown",
   "metadata": {},
   "source": [
    "Applying the same check as before:"
   ]
  },
  {
   "cell_type": "code",
   "execution_count": 34,
   "metadata": {},
   "outputs": [
    {
     "data": {
      "text/plain": [
       "Series([], dtype: object)"
      ]
     },
     "execution_count": 34,
     "metadata": {},
     "output_type": "execute_result"
    }
   ],
   "source": [
    "distinct_frozen_issns = \\\n",
    "    pd.DataFrame([issn_scielo_n,\n",
    "                  issns_set_n.apply(frozenset)]).T \\\n",
    "      .groupby(\"ISSN SciELO\") \\\n",
    "      .apply(lambda df: df[\"ISSN's\"].unique())\n",
    "distinct_frozen_issns[distinct_frozen_issns.apply(len) > 1]"
   ]
  },
  {
   "cell_type": "markdown",
   "metadata": {},
   "source": [
    "Normalized! =)"
   ]
  },
  {
   "cell_type": "markdown",
   "metadata": {},
   "source": [
    "## Summary"
   ]
  },
  {
   "cell_type": "code",
   "execution_count": 35,
   "metadata": {},
   "outputs": [],
   "source": [
    "from pprint import pprint"
   ]
  },
  {
   "cell_type": "markdown",
   "metadata": {},
   "source": [
    "### Only normalizing the ISSN SciELO"
   ]
  },
  {
   "cell_type": "markdown",
   "metadata": {},
   "source": [
    "We can apply all the normalization\n",
    "from the `issns_fix` and `issns_select` dictionaries\n",
    "by updating the dataframe with:\n",
    "\n",
    "```python\n",
    "journals[\"ISSN SciELO\"].replace(issn_scielo_fix, inplace=True)\n",
    "```\n",
    "\n",
    "Where `issn_scielo_fix` should be the joined dictionary,\n",
    "as follows:"
   ]
  },
  {
   "cell_type": "code",
   "execution_count": 36,
   "metadata": {},
   "outputs": [
    {
     "name": "stdout",
     "output_type": "stream",
     "text": [
      "{'0001-6002': '0001-6012',\n",
      " '0258-6444': '2215-3535',\n",
      " '0325-8203': '1668-7027',\n",
      " '0719-448x': '0719-448X',\n",
      " '0797-9789': '1688-499X',\n",
      " '0807-8967': '0870-8967',\n",
      " '0858-6444': '0258-6444',\n",
      " '1315-5216': '1316-5216',\n",
      " '1667-8682': '1667-8982',\n",
      " '1678-5177': '0103-6564',\n",
      " '1683-0789': '1683-0768',\n",
      " '1688-4094': '1688-4221',\n",
      " '1852-4418': '1852-4184',\n",
      " '1980-5438': '0103-5665',\n",
      " '2175-3598': '0104-1282',\n",
      " '2233-7666': '2223-7666',\n",
      " '2237-101X': '1518-3319',\n",
      " '24516600': '2451-6600',\n",
      " '2993-6797': '2393-6797'}\n"
     ]
    }
   ],
   "source": [
    "pprint({**issns_fix, **issns_select})"
   ]
  },
  {
   "cell_type": "markdown",
   "metadata": {},
   "source": [
    "### Normalizing the ISSN's"
   ]
  },
  {
   "cell_type": "markdown",
   "metadata": {},
   "source": [
    "It's not that simple,\n",
    "and it won't work the same way in a collection-specific report.\n",
    "If you're working on a single collection\n",
    "but you need the `ISSN's` column including any secondary ISSN\n",
    "that might available just on an entry from another collection,\n",
    "you should perform this normalization in the network report\n",
    "and filter the desired collection afterwards."
   ]
  },
  {
   "cell_type": "markdown",
   "metadata": {},
   "source": [
    "Given this dictionary of sets in the `digitfix_issns` variable:"
   ]
  },
  {
   "cell_type": "code",
   "execution_count": 37,
   "metadata": {},
   "outputs": [
    {
     "name": "stdout",
     "output_type": "stream",
     "text": [
      "{'0001-6002': {'0001-6012'},\n",
      " '0719-448x': {'0719-448X'},\n",
      " '0807-8967': {'0870-8967', '2183-9174'},\n",
      " '0858-6444': {'0258-6444'},\n",
      " '1315-5216': {'2477-9555', '1316-5216'},\n",
      " '1667-8682': {'1667-8982'},\n",
      " '1683-0789': {'1683-0768'},\n",
      " '1852-4418': {'1852-4184'},\n",
      " '2233-7666': {'2223-7666'},\n",
      " '24516600': {'2451-6600'},\n",
      " '2993-6797': {'2393-6797'}}\n"
     ]
    }
   ],
   "source": [
    "pprint(digitfix_issns)"
   ]
  },
  {
   "cell_type": "markdown",
   "metadata": {},
   "source": [
    "You can get the sets in an `issns_set_n` variable\n",
    "by copying and pasting this not-so-simple snippet\n",
    "(from a previous cell in this notebook):"
   ]
  },
  {
   "cell_type": "markdown",
   "metadata": {},
   "source": [
    "```python\n",
    "issn_scielo_n = journals[\"ISSN SciELO\"].replace(issn_scielo_fix)\n",
    "invalid_issns = [\"ISSN\", \"20030507\", \"1775-1851\"]\n",
    "issns_mapping = \\\n",
    "    pd.DataFrame([issn_scielo_n, journals[\"ISSN's\"].fillna(issn_scielo_n)]).T \\\n",
    "        .groupby(\"ISSN SciELO\").apply(lambda df: \";\".join(df.values.ravel())) \\\n",
    "        .str.split(\";\") \\\n",
    "        .apply(lambda items: set.union(*[digitfix_issns.get(item, {item})\n",
    "                                         for item in items\n",
    "                                         if item not in invalid_issns]))\n",
    "issns_mapping.loc[\"1817-7433\"] -= {\"2077-3323\"}\n",
    "issns_set_n = issn_scielo_n.map(issns_mapping).rename(\"ISSN's\")\n",
    "```"
   ]
  },
  {
   "cell_type": "markdown",
   "metadata": {},
   "source": [
    "There, `issn_scielo_n` is the normalized `ISSN SciELO` column,\n",
    "and `issn_set_n` is a normalized `ISSN's` column\n",
    "where the entries are set objects instead of `;` separated strings."
   ]
  },
  {
   "cell_type": "markdown",
   "metadata": {},
   "source": [
    "To put the `ISSN's` back in place, sorted and `;`-spea, you just need to:\n",
    "\n",
    "```python\n",
    "journals[\"ISSN's\"] = issns_set_n.apply(lambda s: \";\".join(sorted(s)))\n",
    "```"
   ]
  },
  {
   "cell_type": "markdown",
   "metadata": {},
   "source": [
    "### Beyond normalization"
   ]
  },
  {
   "cell_type": "markdown",
   "metadata": {},
   "source": [
    "The goal of this normalization\n",
    "is to analyze the data from `journals.csv`.\n",
    "For some contexts,\n",
    "you can keep the old values of your data,\n",
    "e.g. by adding new columns\n",
    "instead of replacing the raw ones:\n",
    "\n",
    "```python\n",
    "journals[\"issn\"] = issn_scielo_n\n",
    "journals[\"issns\"] = issns_set_n\n",
    "journals[\"issns_str\"] = issns_set_n.apply(lambda s: \";\".join(sorted(s)))\n",
    "```\n",
    "\n",
    "Or:\n",
    "\n",
    "```python\n",
    "# Usually, this syntax is more helpful for using the\n",
    "# \"assign\" expression, not as part of an assignment statement\n",
    "journals = journals.assign(\n",
    "    issn=issn_scielo_n,\n",
    "    issns=issns_set_n,\n",
    "    issns_str=issns_set_n.apply(lambda s: \";\".join(sorted(s))),\n",
    ")\n",
    "```\n",
    "\n",
    "The goal of keeping the raw data\n",
    "is due to some external reference or some user input\n",
    "that might be looking for an invalid/inconsistent entry\n",
    "that no longer exists because of this normalization."
   ]
  }
 ],
 "metadata": {
  "kernelspec": {
   "display_name": "Python 3",
   "language": "python",
   "name": "python3"
  },
  "language_info": {
   "codemirror_mode": {
    "name": "ipython",
    "version": 3
   },
   "file_extension": ".py",
   "mimetype": "text/x-python",
   "name": "python",
   "nbconvert_exporter": "python",
   "pygments_lexer": "ipython3",
   "version": "3.7.0"
  },
  "notebook_number": 5
 },
 "nbformat": 4,
 "nbformat_minor": 2
}
