{
 "cells": [
  {
   "cell_type": "markdown",
   "metadata": {},
   "source": [
    "# Downloading the reports/spreadsheets from SciELO Analytics"
   ]
  },
  {
   "cell_type": "markdown",
   "metadata": {},
   "source": [
    "The SciELO Project provides spreadsheets in a CSV format\n",
    "with the metadata of the articles stored/accessed in its database.\n",
    "These reports can be found at https://analytics.scielo.org/w/reports\n",
    "as ZIP packages that are monthly updated."
   ]
  },
  {
   "cell_type": "markdown",
   "metadata": {},
   "source": [
    "There's an easy way to download all the ZIP packages from that link\n",
    "on Linux or any environment with `wget` available:\n",
    "we just need to download that web page\n",
    "with a single \"crawl\" step,\n",
    "i.e., download all files that has some reference on that page.\n",
    "That can be done with:\n",
    "\n",
    "```shell\n",
    "wget -rcHl1 https://analytics.scielo.org/w/reports\n",
    "```\n",
    "\n",
    "It should create several directories, one for each host.\n",
    "The ZIP packages are in the `static.scielo.org/tabs` directory."
   ]
  },
  {
   "cell_type": "markdown",
   "metadata": {},
   "source": [
    "As of today, there are $22$ links:\n",
    "\n",
    "* https://static.scielo.org/tabs/tabs_arg.zip\n",
    "* https://static.scielo.org/tabs/tabs_bol.zip\n",
    "* https://static.scielo.org/tabs/tabs_bra.zip\n",
    "* https://static.scielo.org/tabs/tabs_chl.zip\n",
    "* https://static.scielo.org/tabs/tabs_col.zip\n",
    "* https://static.scielo.org/tabs/tabs_cri.zip\n",
    "* https://static.scielo.org/tabs/tabs_cub.zip\n",
    "* https://static.scielo.org/tabs/tabs_ecu.zip\n",
    "* https://static.scielo.org/tabs/tabs_esp.zip\n",
    "* https://static.scielo.org/tabs/tabs_mex.zip\n",
    "* https://static.scielo.org/tabs/tabs_network.zip\n",
    "* https://static.scielo.org/tabs/tabs_per.zip\n",
    "* https://static.scielo.org/tabs/tabs_prt.zip\n",
    "* https://static.scielo.org/tabs/tabs_pry.zip\n",
    "* https://static.scielo.org/tabs/tabs_psi.zip\n",
    "* https://static.scielo.org/tabs/tabs_rve.zip\n",
    "* https://static.scielo.org/tabs/tabs_rvt.zip\n",
    "* https://static.scielo.org/tabs/tabs_spa.zip\n",
    "* https://static.scielo.org/tabs/tabs_sss.zip\n",
    "* https://static.scielo.org/tabs/tabs_sza.zip\n",
    "* https://static.scielo.org/tabs/tabs_ury.zip\n",
    "* https://static.scielo.org/tabs/tabs_ven.zip"
   ]
  },
  {
   "cell_type": "markdown",
   "metadata": {},
   "source": [
    "The file names follows a `tabs_COLLECTION.zip` structure,\n",
    "that is, the file name suffix before the extension\n",
    "is usually the collection code.\n",
    "There are only $2$ exceptions to this rule:\n",
    "\n",
    "* `tabs_bra.zip`:\n",
    "  `Brazil` collection, the first `SciELO` collection\n",
    "  which has the `scl` code (legacy code).\n",
    "* `tabs_network.zip`:\n",
    "  All entries from all collection-specific reports together."
   ]
  },
  {
   "cell_type": "markdown",
   "metadata": {},
   "source": [
    "These ZIP packages have files with the following names:\n",
    "\n",
    "* `accesses_by_journals.csv`\n",
    "* `documents_affiliations.csv`\n",
    "* `documents_altmetrics.csv`\n",
    "* `documents_authors.csv`\n",
    "* `documents_counts.csv`\n",
    "* `documents_dates.csv`\n",
    "* `documents_languages.csv`\n",
    "* `documents_licenses.csv`\n",
    "* `journals.csv`\n",
    "* `journals_kbart.csv`\n",
    "* `journals_status_changes.csv`\n",
    "\n",
    "The CSV type is the name of the file without its extension,\n",
    "e.g. `documents_counts`."
   ]
  },
  {
   "cell_type": "markdown",
   "metadata": {},
   "source": [
    "The specs (in Portuguese) for all the CSV files can be found in\n",
    "http://docs.scielo.org/projects/scielo-processing/pt/latest/public_reports.html\n",
    "but the English-only reader should rely on the"
   ]
  },
  {
   "cell_type": "markdown",
   "metadata": {},
   "source": [
    "For the remaining notebooks,\n",
    "the contents of every file `tabs_COLLECTION.zip` had been extracted\n",
    "on the `tabs_COLLECTION/` directory.\n",
    "On a Linux shell that could be done with this command:\n",
    "\n",
    "```shell\n",
    "for f in tabs_*.zip ; do unzip -d $(basename ${f%%.zip}) $f ; done\n",
    "```"
   ]
  }
 ],
 "metadata": {
  "kernelspec": {
   "display_name": "Python 3",
   "language": "python",
   "name": "python3"
  },
  "language_info": {
   "codemirror_mode": {
    "name": "ipython",
    "version": 3
   },
   "file_extension": ".py",
   "mimetype": "text/x-python",
   "name": "python",
   "nbconvert_exporter": "python",
   "pygments_lexer": "ipython3",
   "version": "3.7.0"
  },
  "notebook_number": 2
 },
 "nbformat": 4,
 "nbformat_minor": 2
}
