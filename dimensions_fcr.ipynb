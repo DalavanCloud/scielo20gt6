{
 "cells": [
  {
   "cell_type": "markdown",
   "metadata": {},
   "source": [
    "# FCR in Dimensions"
   ]
  },
  {
   "cell_type": "markdown",
   "metadata": {},
   "source": [
    "The goal of this notebook is to analyze\n",
    "the FCR index data of a single journal\n",
    "based on the CSV reports\n",
    "from [Dimensions](https://app.dimensions.ai).\n",
    "We can get at most $500$ entries from its search system,\n",
    "which suffices in our case\n",
    "without an extra step of search splitting and CSV joining\n",
    "(sadly, we couldn't download the full data from some journals\n",
    " due to that limit on the number of rows\n",
    " and due to the constrained ways os manually splitting the data\n",
    " in the interface).\n",
    "\n",
    "*Note*: Be careful when downloading stuff from a single journal!\n",
    "As the Dimensions' web interface uses the journal name for filtering\n",
    "instead of its ISSN,\n",
    "sometimes we can grab a CSV from more than one journal\n",
    "because they happen to have the same name.\n",
    "As an example, *Topoi* can be either a\n",
    "[Brazilian journal of history](http://revistatopoi.org)\n",
    "and a\n",
    "[Dutch journal of philosophy](https://link.springer.com/journal/11245),\n",
    "but these journals are mixed together in that interface.\n",
    "\n",
    "There are two CSV formats available:\n",
    "a spreadsheet and a bibliometric mapping.\n",
    "Their first line in both formats is always\n",
    "a comment with some metadata regarding the downloaded CSV,\n",
    "including the date.\n",
    "The second line is the table header."
   ]
  },
  {
   "cell_type": "code",
   "execution_count": 1,
   "metadata": {},
   "outputs": [],
   "source": [
    "import csv"
   ]
  },
  {
   "cell_type": "code",
   "execution_count": 2,
   "metadata": {},
   "outputs": [],
   "source": [
    "import matplotlib.pyplot as plt\n",
    "import numpy as np\n",
    "import pandas as pd"
   ]
  },
  {
   "cell_type": "code",
   "execution_count": 3,
   "metadata": {},
   "outputs": [],
   "source": [
    "%matplotlib inline"
   ]
  },
  {
   "cell_type": "markdown",
   "metadata": {},
   "source": [
    "## Analyzing the FCR from the spreadsheet file"
   ]
  },
  {
   "cell_type": "markdown",
   "metadata": {},
   "source": [
    "There are $2$ bibliometric indices: `RCR` and `FCR`.\n",
    "The former is probably useless\n",
    "for anything that isn't a health science publication\n",
    "regarding the research going on in the U.S.A.,\n",
    "since its calculation\n",
    "[is based on the number of citations from publications funded by the\n",
    " NIH](https://support.dimensions.ai/support/solutions/articles/13000045404-what-is-the-rcr-how-is-the-rcr-score-calculated-)\n",
    "(*National Institutes of Health* in the U.S.A.).\n",
    "The latter is the *Field Citation Ratio*,\n",
    "[which is somehow normalized by both year and Field of\n",
    " Research](https://support.dimensions.ai/support/solutions/articles/13000045409-what-is-the-fcr-how-is-it-calculated-),\n",
    "and is the only one we're going to analyze here."
   ]
  },
  {
   "cell_type": "markdown",
   "metadata": {},
   "source": [
    "### Loading the data"
   ]
  },
  {
   "cell_type": "markdown",
   "metadata": {},
   "source": [
    "We should be explicit about the header line\n",
    "since the first line of the CSV files\n",
    "is a comment:"
   ]
  },
  {
   "cell_type": "code",
   "execution_count": 4,
   "metadata": {},
   "outputs": [
    {
     "name": "stdout",
     "output_type": "stream",
     "text": [
      "About the data: Exported on Sep 21, 2018. Criteria: Source title is Nauplius.\n",
      "About the data: Exported on Sep 22, 2018. Criteria: Source title is Brazilian Journal of Plant Physiology.\n"
     ]
    }
   ],
   "source": [
    "for fname in [\"nauplius.csv\", \"plant_physiology.csv\"]:\n",
    "    with open(fname) as f:\n",
    "        cr = csv.reader(f)\n",
    "        print(next(cr)[0])"
   ]
  },
  {
   "cell_type": "markdown",
   "metadata": {},
   "source": [
    "We're going to analyze the content from these two journals."
   ]
  },
  {
   "cell_type": "code",
   "execution_count": 5,
   "metadata": {},
   "outputs": [
    {
     "name": "stdout",
     "output_type": "stream",
     "text": [
      "Nauplius: (177, 27)\n",
      "Brazilian Journal of Plant Physiology: (361, 27)\n"
     ]
    },
    {
     "data": {
      "text/plain": [
       "Index(['Rank', 'Publication ID', 'DOI', 'PMID', 'PMCID', 'Title',\n",
       "       'Source title', 'Anthology title', 'PubYear', 'Volume', 'Issue',\n",
       "       'Pagination', 'Publication Type', 'Authors', 'Authors Affiliations',\n",
       "       'Times cited', 'Recent citations', 'RCR', 'FCR', 'Source Linkout',\n",
       "       'Dimensions URL', 'FOR (ANZSRC) Categories', 'FOR 1', 'FOR 2', 'FOR 3',\n",
       "       'FOR 4', 'FOR 5'],\n",
       "      dtype='object')"
      ]
     },
     "execution_count": 5,
     "metadata": {},
     "output_type": "execute_result"
    }
   ],
   "source": [
    "nauplius = pd.read_csv(\"nauplius.csv\", header=1)\n",
    "plantp = pd.read_csv(\"plant_physiology.csv\", header=1)\n",
    "print(\"Nauplius:\", nauplius.shape)\n",
    "print(\"Brazilian Journal of Plant Physiology:\", plantp.shape)\n",
    "nauplius.columns"
   ]
  },
  {
   "cell_type": "markdown",
   "metadata": {},
   "source": [
    "We can see the number of publications by year:"
   ]
  },
  {
   "cell_type": "code",
   "execution_count": 6,
   "metadata": {},
   "outputs": [
    {
     "data": {
      "text/html": [
       "<div>\n",
       "<style scoped>\n",
       "    .dataframe tbody tr th:only-of-type {\n",
       "        vertical-align: middle;\n",
       "    }\n",
       "\n",
       "    .dataframe tbody tr th {\n",
       "        vertical-align: top;\n",
       "    }\n",
       "\n",
       "    .dataframe thead th {\n",
       "        text-align: right;\n",
       "    }\n",
       "</style>\n",
       "<table border=\"1\" class=\"dataframe\">\n",
       "  <thead>\n",
       "    <tr style=\"text-align: right;\">\n",
       "      <th>PubYear</th>\n",
       "      <th>2002</th>\n",
       "      <th>2003</th>\n",
       "      <th>2004</th>\n",
       "      <th>2005</th>\n",
       "      <th>2006</th>\n",
       "      <th>2007</th>\n",
       "      <th>2008</th>\n",
       "      <th>2009</th>\n",
       "      <th>2010</th>\n",
       "      <th>2011</th>\n",
       "      <th>2012</th>\n",
       "      <th>2013</th>\n",
       "      <th>2014</th>\n",
       "      <th>2015</th>\n",
       "      <th>2016</th>\n",
       "      <th>2017</th>\n",
       "      <th>2018</th>\n",
       "    </tr>\n",
       "  </thead>\n",
       "  <tbody>\n",
       "    <tr>\n",
       "      <th>Brazilian Journal of Plant Physiology</th>\n",
       "      <td>24</td>\n",
       "      <td>23</td>\n",
       "      <td>24</td>\n",
       "      <td>41</td>\n",
       "      <td>46</td>\n",
       "      <td>38</td>\n",
       "      <td>32</td>\n",
       "      <td>33</td>\n",
       "      <td>32</td>\n",
       "      <td>35</td>\n",
       "      <td>32</td>\n",
       "      <td>1</td>\n",
       "      <td></td>\n",
       "      <td></td>\n",
       "      <td></td>\n",
       "      <td></td>\n",
       "      <td></td>\n",
       "    </tr>\n",
       "    <tr>\n",
       "      <th>Nauplius</th>\n",
       "      <td></td>\n",
       "      <td></td>\n",
       "      <td></td>\n",
       "      <td></td>\n",
       "      <td></td>\n",
       "      <td></td>\n",
       "      <td></td>\n",
       "      <td></td>\n",
       "      <td></td>\n",
       "      <td>19</td>\n",
       "      <td>21</td>\n",
       "      <td>22</td>\n",
       "      <td>16</td>\n",
       "      <td>18</td>\n",
       "      <td>30</td>\n",
       "      <td>33</td>\n",
       "      <td>18</td>\n",
       "    </tr>\n",
       "  </tbody>\n",
       "</table>\n",
       "</div>"
      ],
      "text/plain": [
       "PubYear                               2002 2003 2004 2005 2006 2007 2008 2009  \\\n",
       "Brazilian Journal of Plant Physiology   24   23   24   41   46   38   32   33   \n",
       "Nauplius                                                                        \n",
       "\n",
       "PubYear                               2010  2011  2012  2013 2014 2015 2016  \\\n",
       "Brazilian Journal of Plant Physiology   32    35    32     1                  \n",
       "Nauplius                                      19    21    22   16   18   30   \n",
       "\n",
       "PubYear                               2017 2018  \n",
       "Brazilian Journal of Plant Physiology            \n",
       "Nauplius                                33   18  "
      ]
     },
     "execution_count": 6,
     "metadata": {},
     "output_type": "execute_result"
    },
    {
     "data": {
      "image/png": "[encoded data removed]",
      "text/plain": [
       "<Figure size 1152x432 with 1 Axes>"
      ]
     },
     "metadata": {
      "needs_background": "light"
     },
     "output_type": "display_data"
    }
   ],
   "source": [
    "year_counts = pd.DataFrame([\n",
    "    plantp.groupby(\"PubYear\").size().rename(\"Brazilian Journal of Plant Physiology\"),\n",
    "    nauplius.groupby(\"PubYear\").size().rename(\"Nauplius\"),\n",
    "], dtype=int)\n",
    "year_counts.T.plot(title=\"Number of publications by year\",\n",
    "                   figsize=(16, 6))\n",
    "year_counts.fillna(\"\")"
   ]
  },
  {
   "cell_type": "markdown",
   "metadata": {},
   "source": [
    "Which shows that *Nauplius* is a quite new and currently active journal,\n",
    "whereas the *Brazilian Journal of Plant Physiology*\n",
    "is no longer publishing anything\n",
    "(actually, it had been renamed to\n",
    " *Theoretical and Experimental Plant Physiology*,\n",
    " with a new ISSN: 2197-0025).\n",
    "\n",
    "Due to the way the FCR is calculated and normalized\n",
    "(by the publication year in the document level),\n",
    "its behavior is quite different\n",
    "in these two distinct journal contexts."
   ]
  },
  {
   "cell_type": "markdown",
   "metadata": {},
   "source": [
    "### Proportion where the FCR is zero"
   ]
  },
  {
   "cell_type": "markdown",
   "metadata": {},
   "source": [
    "From the [FCR\n",
    " explanation](https://support.dimensions.ai/support/solutions/articles/13000045409-what-is-the-fcr-how-is-it-calculated-)\n",
    "page in the Dimensions support,\n",
    "we know that:\n",
    "\n",
    "> The FCR is calculated for all publications in Dimensions\n",
    "> which are at least 2 years old and were published in 2000 or later.\n",
    "\n",
    "FCR is zero when a document hadn't received any citation\n",
    "or when it was published in the last $2$ years.\n",
    "That's a quite common case, surely for new papers,\n",
    "which deserves its own analysis."
   ]
  },
  {
   "cell_type": "code",
   "execution_count": 7,
   "metadata": {},
   "outputs": [
    {
     "data": {
      "image/png": "[encoded data removed]",
      "text/plain": [
       "<Figure size 1152x216 with 2 Axes>"
      ]
     },
     "metadata": {
      "needs_background": "light"
     },
     "output_type": "display_data"
    }
   ],
   "source": [
    "fig, (ax1, ax2) = plt.subplots(ncols=2, figsize=(16, 3))\n",
    "(nauplius[\"FCR\"] == 0).value_counts().sort_index().plot.bar(ax=ax1,\n",
    "    title=\"FCR is zero (Nauplius)\"\n",
    ")\n",
    "(plantp[\"FCR\"] == 0).value_counts().sort_index().plot.bar(ax=ax2,\n",
    "    title=\"FCR is zero (Brazilian Journal of Plant Physiology)\",\n",
    ")\n",
    "for ax in [ax1, ax2]:\n",
    "    for rect in ax.patches:\n",
    "        value = rect.get_height()\n",
    "        ax.annotate(value, (rect.get_x() + rect.get_width() / 2,\n",
    "                            value / 1.05 if value > 50 else value * 1.05),\n",
    "                    ha=\"center\",\n",
    "                    va=\"bottom\" if value < 50 else \"top\",\n",
    "                    fontsize=20)"
   ]
  },
  {
   "cell_type": "markdown",
   "metadata": {},
   "source": [
    "For a recent journal, more than half of the entries have zero as its FCR.\n",
    "The FCR mean for this journal as a whole\n",
    "would be tainted if we count these entries as equal.\n",
    "For a journal that is no longer publishing,\n",
    "the FCR can only increase."
   ]
  },
  {
   "cell_type": "markdown",
   "metadata": {},
   "source": [
    "Most entries with zeroed FCR values are for $2017$ and $2018$,\n",
    "years where all entries are zero."
   ]
  },
  {
   "cell_type": "code",
   "execution_count": 8,
   "metadata": {},
   "outputs": [
    {
     "data": {
      "text/html": [
       "<div>\n",
       "<style scoped>\n",
       "    .dataframe tbody tr th:only-of-type {\n",
       "        vertical-align: middle;\n",
       "    }\n",
       "\n",
       "    .dataframe tbody tr th {\n",
       "        vertical-align: top;\n",
       "    }\n",
       "\n",
       "    .dataframe thead th {\n",
       "        text-align: right;\n",
       "    }\n",
       "</style>\n",
       "<table border=\"1\" class=\"dataframe\">\n",
       "  <thead>\n",
       "    <tr style=\"text-align: right;\">\n",
       "      <th>fcr_is_zero</th>\n",
       "      <th>False</th>\n",
       "      <th>True</th>\n",
       "    </tr>\n",
       "    <tr>\n",
       "      <th>PubYear</th>\n",
       "      <th></th>\n",
       "      <th></th>\n",
       "    </tr>\n",
       "  </thead>\n",
       "  <tbody>\n",
       "    <tr>\n",
       "      <th>2011</th>\n",
       "      <td>17</td>\n",
       "      <td>2</td>\n",
       "    </tr>\n",
       "    <tr>\n",
       "      <th>2012</th>\n",
       "      <td>14</td>\n",
       "      <td>7</td>\n",
       "    </tr>\n",
       "    <tr>\n",
       "      <th>2013</th>\n",
       "      <td>18</td>\n",
       "      <td>4</td>\n",
       "    </tr>\n",
       "    <tr>\n",
       "      <th>2014</th>\n",
       "      <td>11</td>\n",
       "      <td>5</td>\n",
       "    </tr>\n",
       "    <tr>\n",
       "      <th>2015</th>\n",
       "      <td>12</td>\n",
       "      <td>6</td>\n",
       "    </tr>\n",
       "    <tr>\n",
       "      <th>2016</th>\n",
       "      <td>14</td>\n",
       "      <td>16</td>\n",
       "    </tr>\n",
       "    <tr>\n",
       "      <th>2017</th>\n",
       "      <td>0</td>\n",
       "      <td>33</td>\n",
       "    </tr>\n",
       "    <tr>\n",
       "      <th>2018</th>\n",
       "      <td>0</td>\n",
       "      <td>18</td>\n",
       "    </tr>\n",
       "  </tbody>\n",
       "</table>\n",
       "</div>"
      ],
      "text/plain": [
       "fcr_is_zero  False  True \n",
       "PubYear                  \n",
       "2011            17      2\n",
       "2012            14      7\n",
       "2013            18      4\n",
       "2014            11      5\n",
       "2015            12      6\n",
       "2016            14     16\n",
       "2017             0     33\n",
       "2018             0     18"
      ]
     },
     "execution_count": 8,
     "metadata": {},
     "output_type": "execute_result"
    },
    {
     "data": {
      "image/png": "[encoded data removed]",
      "text/plain": [
       "<Figure size 1152x576 with 2 Axes>"
      ]
     },
     "metadata": {
      "needs_background": "light"
     },
     "output_type": "display_data"
    }
   ],
   "source": [
    "nauplius_counts = pd.DataFrame(\n",
    "    nauplius\n",
    "        .assign(fcr_is_zero=nauplius[\"FCR\"] == 0)\n",
    "        .groupby([\"fcr_is_zero\", \"PubYear\"])\n",
    "        .size()\n",
    "        .rename(\"count\")\n",
    "        .unstack(\"fcr_is_zero\")\n",
    "        .fillna(0),\n",
    "    dtype=int,\n",
    ")\n",
    "nauplius_counts.plot.barh(subplots=True,\n",
    "                          title=[\"FCR isn't zero (Nauplius)\",\n",
    "                                 \"FCR is zero (Nauplius)\"],\n",
    "                          legend=False,\n",
    "                          figsize=(16, 8))\n",
    "nauplius_counts"
   ]
  },
  {
   "cell_type": "markdown",
   "metadata": {},
   "source": [
    "As $2017$ was the publication peak for Nauplius,\n",
    "averaging the raw FCR number for every year is unfair."
   ]
  },
  {
   "cell_type": "markdown",
   "metadata": {},
   "source": [
    "For the Brazilian Journal of Plant Physiology,\n",
    "these are the ones from $2002$\n",
    "have something different going on."
   ]
  },
  {
   "cell_type": "code",
   "execution_count": 9,
   "metadata": {},
   "outputs": [
    {
     "data": {
      "text/html": [
       "<div>\n",
       "<style scoped>\n",
       "    .dataframe tbody tr th:only-of-type {\n",
       "        vertical-align: middle;\n",
       "    }\n",
       "\n",
       "    .dataframe tbody tr th {\n",
       "        vertical-align: top;\n",
       "    }\n",
       "\n",
       "    .dataframe thead th {\n",
       "        text-align: right;\n",
       "    }\n",
       "</style>\n",
       "<table border=\"1\" class=\"dataframe\">\n",
       "  <thead>\n",
       "    <tr style=\"text-align: right;\">\n",
       "      <th>fcr_is_zero</th>\n",
       "      <th>False</th>\n",
       "      <th>True</th>\n",
       "    </tr>\n",
       "    <tr>\n",
       "      <th>PubYear</th>\n",
       "      <th></th>\n",
       "      <th></th>\n",
       "    </tr>\n",
       "  </thead>\n",
       "  <tbody>\n",
       "    <tr>\n",
       "      <th>2002</th>\n",
       "      <td>11</td>\n",
       "      <td>13</td>\n",
       "    </tr>\n",
       "    <tr>\n",
       "      <th>2003</th>\n",
       "      <td>23</td>\n",
       "      <td>0</td>\n",
       "    </tr>\n",
       "    <tr>\n",
       "      <th>2004</th>\n",
       "      <td>23</td>\n",
       "      <td>1</td>\n",
       "    </tr>\n",
       "    <tr>\n",
       "      <th>2005</th>\n",
       "      <td>40</td>\n",
       "      <td>1</td>\n",
       "    </tr>\n",
       "    <tr>\n",
       "      <th>2006</th>\n",
       "      <td>44</td>\n",
       "      <td>2</td>\n",
       "    </tr>\n",
       "    <tr>\n",
       "      <th>2007</th>\n",
       "      <td>37</td>\n",
       "      <td>1</td>\n",
       "    </tr>\n",
       "    <tr>\n",
       "      <th>2008</th>\n",
       "      <td>31</td>\n",
       "      <td>1</td>\n",
       "    </tr>\n",
       "    <tr>\n",
       "      <th>2009</th>\n",
       "      <td>31</td>\n",
       "      <td>2</td>\n",
       "    </tr>\n",
       "    <tr>\n",
       "      <th>2010</th>\n",
       "      <td>30</td>\n",
       "      <td>2</td>\n",
       "    </tr>\n",
       "    <tr>\n",
       "      <th>2011</th>\n",
       "      <td>33</td>\n",
       "      <td>2</td>\n",
       "    </tr>\n",
       "    <tr>\n",
       "      <th>2012</th>\n",
       "      <td>26</td>\n",
       "      <td>6</td>\n",
       "    </tr>\n",
       "    <tr>\n",
       "      <th>2013</th>\n",
       "      <td>1</td>\n",
       "      <td>0</td>\n",
       "    </tr>\n",
       "  </tbody>\n",
       "</table>\n",
       "</div>"
      ],
      "text/plain": [
       "fcr_is_zero  False  True \n",
       "PubYear                  \n",
       "2002            11     13\n",
       "2003            23      0\n",
       "2004            23      1\n",
       "2005            40      1\n",
       "2006            44      2\n",
       "2007            37      1\n",
       "2008            31      1\n",
       "2009            31      2\n",
       "2010            30      2\n",
       "2011            33      2\n",
       "2012            26      6\n",
       "2013             1      0"
      ]
     },
     "execution_count": 9,
     "metadata": {},
     "output_type": "execute_result"
    },
    {
     "data": {
      "image/png": "[encoded data removed]",
      "text/plain": [
       "<Figure size 1152x576 with 2 Axes>"
      ]
     },
     "metadata": {
      "needs_background": "light"
     },
     "output_type": "display_data"
    }
   ],
   "source": [
    "plantp_counts = pd.DataFrame(\n",
    "    plantp\n",
    "        .assign(fcr_is_zero=plantp[\"FCR\"] == 0)\n",
    "        .groupby([\"fcr_is_zero\", \"PubYear\"])\n",
    "        .size()\n",
    "        .rename(\"count\")\n",
    "        .unstack(\"fcr_is_zero\")\n",
    "        .fillna(0),\n",
    "    dtype=int,\n",
    ")\n",
    "plantp_counts.plot.barh(subplots=True,\n",
    "                        title=[\"FCR isn't zero (Brazilian Journal of Plant Physiology)\",\n",
    "                               \"FCR is zero (Brazilian Journal of Plant Physiology)\"],\n",
    "                        legend=False,\n",
    "                        figsize=(16, 8))\n",
    "plantp_counts"
   ]
  },
  {
   "cell_type": "markdown",
   "metadata": {},
   "source": [
    "The reason is that the FCR can only be calculated\n",
    "if we know the *Field of Research* of every single document.\n",
    "However, from the same link as before,\n",
    "\n",
    "> Assigning FoR codes to publications in Dimensions is done automatically using machine learning emulations of the categorisation processes.\n",
    "\n",
    "The FCR can't be negative,\n",
    "but when a document lacks its category,\n",
    "the FCR is zero."
   ]
  },
  {
   "cell_type": "code",
   "execution_count": 10,
   "metadata": {},
   "outputs": [
    {
     "data": {
      "text/html": [
       "<div>\n",
       "<style scoped>\n",
       "    .dataframe tbody tr th:only-of-type {\n",
       "        vertical-align: middle;\n",
       "    }\n",
       "\n",
       "    .dataframe tbody tr th {\n",
       "        vertical-align: top;\n",
       "    }\n",
       "\n",
       "    .dataframe thead th {\n",
       "        text-align: right;\n",
       "    }\n",
       "</style>\n",
       "<table border=\"1\" class=\"dataframe\">\n",
       "  <thead>\n",
       "    <tr style=\"text-align: right;\">\n",
       "      <th></th>\n",
       "      <th>Entries lacking a field of research category</th>\n",
       "    </tr>\n",
       "  </thead>\n",
       "  <tbody>\n",
       "    <tr>\n",
       "      <th>Nauplius</th>\n",
       "      <td>14</td>\n",
       "    </tr>\n",
       "    <tr>\n",
       "      <th>Brazilian Journal of Plant Physiology</th>\n",
       "      <td>26</td>\n",
       "    </tr>\n",
       "  </tbody>\n",
       "</table>\n",
       "</div>"
      ],
      "text/plain": [
       "                                       Entries lacking a field of research category\n",
       "Nauplius                                                                         14\n",
       "Brazilian Journal of Plant Physiology                                            26"
      ]
     },
     "execution_count": 10,
     "metadata": {},
     "output_type": "execute_result"
    }
   ],
   "source": [
    "pd.DataFrame([\n",
    "    nauplius[\"FOR (ANZSRC) Categories\"].isna().sum(),\n",
    "    plantp[\"FOR (ANZSRC) Categories\"].isna().sum(),\n",
    "], index=[\"Nauplius\", \"Brazilian Journal of Plant Physiology\"],\n",
    "   columns=[\"Entries lacking a field of research category\"])"
   ]
  },
  {
   "cell_type": "markdown",
   "metadata": {},
   "source": [
    "As $\\text{FCR} \\ge 0$ and $\\sum \\text{FCR}_i = 0$,\n",
    "all these journals have $\\text{FCR} = 0$."
   ]
  },
  {
   "cell_type": "code",
   "execution_count": 11,
   "metadata": {},
   "outputs": [
    {
     "data": {
      "text/plain": [
       "0.0"
      ]
     },
     "execution_count": 11,
     "metadata": {},
     "output_type": "execute_result"
    }
   ],
   "source": [
    "plantp[plantp[\"FOR (ANZSRC) Categories\"].isna()][\"FCR\"].sum() + \\\n",
    "nauplius[nauplius[\"FOR (ANZSRC) Categories\"].isna()][\"FCR\"].sum()"
   ]
  },
  {
   "cell_type": "markdown",
   "metadata": {},
   "source": [
    "For the *Brazilian Journal of Plant Physiology*,\n",
    "it's clearly biased towards $2002$\n",
    "(half of the non-classified entries are from this year):"
   ]
  },
  {
   "cell_type": "code",
   "execution_count": 12,
   "metadata": {},
   "outputs": [
    {
     "data": {
      "text/plain": [
       "PubYear\n",
       "2002    13\n",
       "2004     1\n",
       "2005     1\n",
       "2006     2\n",
       "2008     1\n",
       "2009     2\n",
       "2010     1\n",
       "2011     2\n",
       "2012     3\n",
       "dtype: int64"
      ]
     },
     "execution_count": 12,
     "metadata": {},
     "output_type": "execute_result"
    }
   ],
   "source": [
    "plantp[plantp[\"FOR (ANZSRC) Categories\"].isna()].groupby(\"PubYear\").size()"
   ]
  },
  {
   "cell_type": "markdown",
   "metadata": {},
   "source": [
    "For Nauplius, it's less skewed."
   ]
  },
  {
   "cell_type": "code",
   "execution_count": 13,
   "metadata": {},
   "outputs": [
    {
     "data": {
      "text/plain": [
       "PubYear\n",
       "2011    1\n",
       "2012    2\n",
       "2013    3\n",
       "2015    2\n",
       "2016    2\n",
       "2017    1\n",
       "2018    3\n",
       "dtype: int64"
      ]
     },
     "execution_count": 13,
     "metadata": {},
     "output_type": "execute_result"
    }
   ],
   "source": [
    "nauplius[nauplius[\"FOR (ANZSRC) Categories\"].isna()].groupby(\"PubYear\").size()"
   ]
  },
  {
   "cell_type": "markdown",
   "metadata": {},
   "source": [
    "### Data cleaning"
   ]
  },
  {
   "cell_type": "markdown",
   "metadata": {},
   "source": [
    "The cleaning we're sure that must be done\n",
    "in order to have meaningful entries\n",
    "for further analysis regarding the FCR\n",
    "is that we should only use data up to $2016$\n",
    "and get rid from entries without a main field of research."
   ]
  },
  {
   "cell_type": "code",
   "execution_count": 14,
   "metadata": {},
   "outputs": [],
   "source": [
    "nauplius_valid = nauplius[nauplius[\"FOR (ANZSRC) Categories\"].notna() &\n",
    "                          (nauplius[\"PubYear\"] <= 2016)]\n",
    "plantp_valid = plantp[plantp[\"FOR (ANZSRC) Categories\"].notna()]"
   ]
  },
  {
   "cell_type": "markdown",
   "metadata": {},
   "source": [
    "In the CSV files, everything is an article,\n",
    "so we shouldn't remove any other row:"
   ]
  },
  {
   "cell_type": "code",
   "execution_count": 15,
   "metadata": {},
   "outputs": [
    {
     "data": {
      "text/plain": [
       "0    article\n",
       "Name: Publication Type, dtype: object"
      ]
     },
     "execution_count": 15,
     "metadata": {},
     "output_type": "execute_result"
    }
   ],
   "source": [
    "pd.concat([nauplius[\"Publication Type\"],\n",
    "           plantp[\"Publication Type\"]]).drop_duplicates()"
   ]
  },
  {
   "cell_type": "markdown",
   "metadata": {},
   "source": [
    "### Hirsch index"
   ]
  },
  {
   "cell_type": "markdown",
   "metadata": {},
   "source": [
    "As the total number of citations each document received is given,\n",
    "we can calculate the Hirsch index for these two journals\n",
    "based on the entire data."
   ]
  },
  {
   "cell_type": "code",
   "execution_count": 16,
   "metadata": {},
   "outputs": [
    {
     "data": {
      "image/png": "[encoded data removed]",
      "text/plain": [
       "<Figure size 1152x288 with 1 Axes>"
      ]
     },
     "metadata": {
      "needs_background": "light"
     },
     "output_type": "display_data"
    }
   ],
   "source": [
    "nauplius[\"Times cited\"].plot.hist(\n",
    "    bins=nauplius[\"Times cited\"].max(),\n",
    "    title=\"Number of citations (Nauplius)\",\n",
    "    figsize=(16, 4),\n",
    ");"
   ]
  },
  {
   "cell_type": "markdown",
   "metadata": {},
   "source": [
    "The Hirsch index for Nauplius is:"
   ]
  },
  {
   "cell_type": "code",
   "execution_count": 17,
   "metadata": {},
   "outputs": [
    {
     "data": {
      "text/plain": [
       "8"
      ]
     },
     "execution_count": 17,
     "metadata": {},
     "output_type": "execute_result"
    }
   ],
   "source": [
    "(nauplius[\"Times cited\"]\n",
    "    .value_counts()\n",
    "    .sort_index(ascending=False)\n",
    "    .cumsum()\n",
    "    .reset_index()\n",
    "    .values.min(axis=1)\n",
    "    .max()\n",
    ")"
   ]
  },
  {
   "cell_type": "code",
   "execution_count": 18,
   "metadata": {},
   "outputs": [
    {
     "data": {
      "image/png": "[encoded data removed]",
      "text/plain": [
       "<Figure size 1152x288 with 1 Axes>"
      ]
     },
     "metadata": {
      "needs_background": "light"
     },
     "output_type": "display_data"
    }
   ],
   "source": [
    "plantp[\"Times cited\"].plot.hist(\n",
    "    bins=plantp[\"Times cited\"].max(),\n",
    "    title=\"Number of citations (Brazilian Journal of Plant Physiology)\",\n",
    "    figsize=(16, 4),\n",
    ");"
   ]
  },
  {
   "cell_type": "markdown",
   "metadata": {},
   "source": [
    "The Hirsch index for the Brazilian Journal of Plant Physiology is:"
   ]
  },
  {
   "cell_type": "code",
   "execution_count": 19,
   "metadata": {},
   "outputs": [
    {
     "data": {
      "text/plain": [
       "37"
      ]
     },
     "execution_count": 19,
     "metadata": {},
     "output_type": "execute_result"
    }
   ],
   "source": [
    "(plantp[\"Times cited\"]\n",
    "    .value_counts()\n",
    "    .sort_index(ascending=False)\n",
    "    .cumsum()\n",
    "    .reset_index()\n",
    "    .values.min(axis=1)\n",
    "    .max()\n",
    ")"
   ]
  },
  {
   "cell_type": "markdown",
   "metadata": {},
   "source": [
    "The above is based on all citations since the publication,\n",
    "which is something that might lean toward older publications."
   ]
  },
  {
   "cell_type": "markdown",
   "metadata": {},
   "source": [
    "### Proportion where FCR isn't zero"
   ]
  },
  {
   "cell_type": "code",
   "execution_count": 20,
   "metadata": {},
   "outputs": [
    {
     "data": {
      "image/png": "[encoded data removed]",
      "text/plain": [
       "<Figure size 1152x288 with 1 Axes>"
      ]
     },
     "metadata": {
      "needs_background": "light"
     },
     "output_type": "display_data"
    }
   ],
   "source": [
    "nauplius[nauplius[\"FCR\"] != 0][\"FCR\"].plot.hist(\n",
    "    bins=100,\n",
    "    title=\"Histogram of not-zero FCR values (Nauplius)\",\n",
    "    figsize=(16, 4),\n",
    "    xticks=range(int(nauplius[\"FCR\"].max()) + 2),\n",
    ");"
   ]
  },
  {
   "cell_type": "code",
   "execution_count": 21,
   "metadata": {},
   "outputs": [
    {
     "data": {
      "image/png": "[encoded data removed]",
      "text/plain": [
       "<Figure size 1152x288 with 1 Axes>"
      ]
     },
     "metadata": {
      "needs_background": "light"
     },
     "output_type": "display_data"
    }
   ],
   "source": [
    "plantp[plantp[\"FCR\"] != 0][\"FCR\"].plot.hist(\n",
    "    bins=200,\n",
    "    title=\"Histogram of not-zero FCR values \"\n",
    "          \"(Brazilian Journal of Plant Physiology)\",\n",
    "    figsize=(16, 4),\n",
    "    xticks=range(int(plantp[\"FCR\"].max()) + 2),\n",
    ");"
   ]
  },
  {
   "cell_type": "markdown",
   "metadata": {},
   "source": [
    "All FCR values above $1$ received more citations than the average\n",
    "for the year of publication and for the field of research.\n",
    "That normalization makes FCR more fit than the raw number of citations\n",
    "when we're looking to summary data\n",
    "without knowing when each publication had been made."
   ]
  },
  {
   "cell_type": "markdown",
   "metadata": {},
   "source": [
    "### Average"
   ]
  },
  {
   "cell_type": "markdown",
   "metadata": {},
   "source": [
    "Dimensions tells us the average FCR for Nauplius is $0.49$.\n",
    "That means that the number of citations it received is,\n",
    "in average,\n",
    "about half of the average number of citations\n",
    "of its field of research area.\n",
    "For the Brazilian Journal of Plant Physiology,\n",
    "the average FCR is $1.07$.\n",
    "Each of these are called *FCR Mean* in the Dimensions' web site.\n",
    "\n",
    "The idea of *average* might be misleading here.\n",
    "As the mean value is highly influenced by extreme values,\n",
    "In the same link as before,\n",
    "Dimensions tells us they're using\n",
    "a shifted geometric mean with logarithmic formulation\n",
    "for everything regarding FCR.\n",
    "From their description,\n",
    "we know that:"
   ]
  },
  {
   "cell_type": "markdown",
   "metadata": {},
   "source": [
    "$$\n",
    "\\operatorname{geometric mean of} FCR =\n",
    "\\exp \\left[ \\frac{1}{N} \\sum_{i=1}^{N} \\ln(FCR_i + 1) \\right] - 1\n",
    "$$"
   ]
  },
  {
   "cell_type": "markdown",
   "metadata": {},
   "source": [
    "And the same idea applies for the average number of citations\n",
    "(by year and field of research)\n",
    "that is used to calculate the FCR.\n",
    "We can easily implement the above formula using Numpy:"
   ]
  },
  {
   "cell_type": "code",
   "execution_count": 22,
   "metadata": {},
   "outputs": [],
   "source": [
    "def sgm_average(series):\n",
    "    return np.exp(np.log(series.values + 1).mean()) - 1"
   ]
  },
  {
   "cell_type": "markdown",
   "metadata": {},
   "source": [
    "## Yearly mean and shifted geometric mean/average"
   ]
  },
  {
   "cell_type": "markdown",
   "metadata": {},
   "source": [
    "Here we'll calculate a \"cumulative\" mean and shifted geometric average,\n",
    "which means the mean or shifted geometric average of\n",
    "*all publications up to the year in analysis*,\n",
    "in contrast with the year-by-year statistics."
   ]
  },
  {
   "cell_type": "code",
   "execution_count": 23,
   "metadata": {},
   "outputs": [],
   "source": [
    "def get_yearly_stats(clean_dataset):\n",
    "    cum_groups = [\n",
    "        (year, clean_dataset[clean_dataset[\"PubYear\"] <= year][\"FCR\"])\n",
    "        for year in clean_dataset[\"PubYear\"].unique()\n",
    "    ]\n",
    "    return pd.DataFrame(\n",
    "        [(year, sgm_average(group), group.mean())\n",
    "         for year, group in cum_groups],\n",
    "        columns=[\"year\", \"cum_shifted_geom_average\", \"cum_mean\"]\n",
    "    ).set_index(\"year\").assign(\n",
    "        shifted_geom_average=clean_dataset.groupby(\"PubYear\")[\"FCR\"].apply(sgm_average),\n",
    "        mean=clean_dataset.groupby(\"PubYear\")[\"FCR\"].mean(),\n",
    "    )[[\"cum_mean\", \"mean\", \"cum_shifted_geom_average\", \"shifted_geom_average\"]]"
   ]
  },
  {
   "cell_type": "code",
   "execution_count": 24,
   "metadata": {},
   "outputs": [],
   "source": [
    "def plot_yearly_stats(stats, journal_name):\n",
    "    stats.plot(\n",
    "        figsize=(14, 6),\n",
    "        title=\"Mean and shifted geometric average of FCR, \"\n",
    "              f\"cumulative up to an year and isolated ({journal_name})\",\n",
    "    )\n",
    "    for line, marker in zip(plt.gca().get_lines(), \"xoDs\"):\n",
    "        line.set_marker(marker)\n",
    "    plt.gca().legend()"
   ]
  },
  {
   "cell_type": "code",
   "execution_count": 25,
   "metadata": {},
   "outputs": [
    {
     "data": {
      "text/html": [
       "<div>\n",
       "<style scoped>\n",
       "    .dataframe tbody tr th:only-of-type {\n",
       "        vertical-align: middle;\n",
       "    }\n",
       "\n",
       "    .dataframe tbody tr th {\n",
       "        vertical-align: top;\n",
       "    }\n",
       "\n",
       "    .dataframe thead th {\n",
       "        text-align: right;\n",
       "    }\n",
       "</style>\n",
       "<table border=\"1\" class=\"dataframe\">\n",
       "  <thead>\n",
       "    <tr style=\"text-align: right;\">\n",
       "      <th></th>\n",
       "      <th>cum_mean</th>\n",
       "      <th>mean</th>\n",
       "      <th>cum_shifted_geom_average</th>\n",
       "      <th>shifted_geom_average</th>\n",
       "    </tr>\n",
       "    <tr>\n",
       "      <th>year</th>\n",
       "      <th></th>\n",
       "      <th></th>\n",
       "      <th></th>\n",
       "      <th></th>\n",
       "    </tr>\n",
       "  </thead>\n",
       "  <tbody>\n",
       "    <tr>\n",
       "      <th>2016</th>\n",
       "      <td>0.647931</td>\n",
       "      <td>0.863571</td>\n",
       "      <td>0.484481</td>\n",
       "      <td>0.440366</td>\n",
       "    </tr>\n",
       "    <tr>\n",
       "      <th>2015</th>\n",
       "      <td>0.579318</td>\n",
       "      <td>0.562500</td>\n",
       "      <td>0.498798</td>\n",
       "      <td>0.473841</td>\n",
       "    </tr>\n",
       "    <tr>\n",
       "      <th>2014</th>\n",
       "      <td>0.583056</td>\n",
       "      <td>0.373750</td>\n",
       "      <td>0.504402</td>\n",
       "      <td>0.325564</td>\n",
       "    </tr>\n",
       "    <tr>\n",
       "      <th>2013</th>\n",
       "      <td>0.642857</td>\n",
       "      <td>0.826316</td>\n",
       "      <td>0.559795</td>\n",
       "      <td>0.721414</td>\n",
       "    </tr>\n",
       "    <tr>\n",
       "      <th>2012</th>\n",
       "      <td>0.548649</td>\n",
       "      <td>0.551579</td>\n",
       "      <td>0.482791</td>\n",
       "      <td>0.475847</td>\n",
       "    </tr>\n",
       "    <tr>\n",
       "      <th>2011</th>\n",
       "      <td>0.545556</td>\n",
       "      <td>0.545556</td>\n",
       "      <td>0.490157</td>\n",
       "      <td>0.490157</td>\n",
       "    </tr>\n",
       "  </tbody>\n",
       "</table>\n",
       "</div>"
      ],
      "text/plain": [
       "      cum_mean      mean  cum_shifted_geom_average  shifted_geom_average\n",
       "year                                                                    \n",
       "2016  0.647931  0.863571                  0.484481              0.440366\n",
       "2015  0.579318  0.562500                  0.498798              0.473841\n",
       "2014  0.583056  0.373750                  0.504402              0.325564\n",
       "2013  0.642857  0.826316                  0.559795              0.721414\n",
       "2012  0.548649  0.551579                  0.482791              0.475847\n",
       "2011  0.545556  0.545556                  0.490157              0.490157"
      ]
     },
     "execution_count": 25,
     "metadata": {},
     "output_type": "execute_result"
    },
    {
     "data": {
      "image/png": "[encoded data removed]",
      "text/plain": [
       "<Figure size 1008x432 with 1 Axes>"
      ]
     },
     "metadata": {
      "needs_background": "light"
     },
     "output_type": "display_data"
    }
   ],
   "source": [
    "nauplius_fcr_year = get_yearly_stats(nauplius_valid)\n",
    "plot_yearly_stats(nauplius_fcr_year, \"Nauplius\")\n",
    "nauplius_fcr_year"
   ]
  },
  {
   "cell_type": "code",
   "execution_count": 26,
   "metadata": {},
   "outputs": [
    {
     "data": {
      "text/html": [
       "<div>\n",
       "<style scoped>\n",
       "    .dataframe tbody tr th:only-of-type {\n",
       "        vertical-align: middle;\n",
       "    }\n",
       "\n",
       "    .dataframe tbody tr th {\n",
       "        vertical-align: top;\n",
       "    }\n",
       "\n",
       "    .dataframe thead th {\n",
       "        text-align: right;\n",
       "    }\n",
       "</style>\n",
       "<table border=\"1\" class=\"dataframe\">\n",
       "  <thead>\n",
       "    <tr style=\"text-align: right;\">\n",
       "      <th></th>\n",
       "      <th>cum_mean</th>\n",
       "      <th>mean</th>\n",
       "      <th>cum_shifted_geom_average</th>\n",
       "      <th>shifted_geom_average</th>\n",
       "    </tr>\n",
       "    <tr>\n",
       "      <th>year</th>\n",
       "      <th></th>\n",
       "      <th></th>\n",
       "      <th></th>\n",
       "      <th></th>\n",
       "    </tr>\n",
       "  </thead>\n",
       "  <tbody>\n",
       "    <tr>\n",
       "      <th>2013</th>\n",
       "      <td>1.663134</td>\n",
       "      <td>1.480000</td>\n",
       "      <td>1.072867</td>\n",
       "      <td>1.480000</td>\n",
       "    </tr>\n",
       "    <tr>\n",
       "      <th>2012</th>\n",
       "      <td>1.663683</td>\n",
       "      <td>0.821034</td>\n",
       "      <td>1.071754</td>\n",
       "      <td>0.718440</td>\n",
       "    </tr>\n",
       "    <tr>\n",
       "      <th>2011</th>\n",
       "      <td>1.743803</td>\n",
       "      <td>0.728182</td>\n",
       "      <td>1.108916</td>\n",
       "      <td>0.658116</td>\n",
       "    </tr>\n",
       "    <tr>\n",
       "      <th>2010</th>\n",
       "      <td>1.867022</td>\n",
       "      <td>1.048387</td>\n",
       "      <td>1.171355</td>\n",
       "      <td>0.923672</td>\n",
       "    </tr>\n",
       "    <tr>\n",
       "      <th>2009</th>\n",
       "      <td>1.972324</td>\n",
       "      <td>0.691613</td>\n",
       "      <td>1.205448</td>\n",
       "      <td>0.626536</td>\n",
       "    </tr>\n",
       "    <tr>\n",
       "      <th>2008</th>\n",
       "      <td>2.161381</td>\n",
       "      <td>1.404194</td>\n",
       "      <td>1.306837</td>\n",
       "      <td>1.111041</td>\n",
       "    </tr>\n",
       "    <tr>\n",
       "      <th>2007</th>\n",
       "      <td>2.292514</td>\n",
       "      <td>2.034211</td>\n",
       "      <td>1.342545</td>\n",
       "      <td>1.533903</td>\n",
       "    </tr>\n",
       "    <tr>\n",
       "      <th>2006</th>\n",
       "      <td>2.362128</td>\n",
       "      <td>2.202273</td>\n",
       "      <td>1.293493</td>\n",
       "      <td>1.333378</td>\n",
       "    </tr>\n",
       "    <tr>\n",
       "      <th>2005</th>\n",
       "      <td>2.434639</td>\n",
       "      <td>4.189500</td>\n",
       "      <td>1.275626</td>\n",
       "      <td>1.934488</td>\n",
       "    </tr>\n",
       "    <tr>\n",
       "      <th>2004</th>\n",
       "      <td>1.203158</td>\n",
       "      <td>1.445652</td>\n",
       "      <td>0.903729</td>\n",
       "      <td>1.088004</td>\n",
       "    </tr>\n",
       "    <tr>\n",
       "      <th>2003</th>\n",
       "      <td>1.039118</td>\n",
       "      <td>0.991739</td>\n",
       "      <td>0.788385</td>\n",
       "      <td>0.811272</td>\n",
       "    </tr>\n",
       "    <tr>\n",
       "      <th>2002</th>\n",
       "      <td>1.138182</td>\n",
       "      <td>1.138182</td>\n",
       "      <td>0.741460</td>\n",
       "      <td>0.741460</td>\n",
       "    </tr>\n",
       "  </tbody>\n",
       "</table>\n",
       "</div>"
      ],
      "text/plain": [
       "      cum_mean      mean  cum_shifted_geom_average  shifted_geom_average\n",
       "year                                                                    \n",
       "2013  1.663134  1.480000                  1.072867              1.480000\n",
       "2012  1.663683  0.821034                  1.071754              0.718440\n",
       "2011  1.743803  0.728182                  1.108916              0.658116\n",
       "2010  1.867022  1.048387                  1.171355              0.923672\n",
       "2009  1.972324  0.691613                  1.205448              0.626536\n",
       "2008  2.161381  1.404194                  1.306837              1.111041\n",
       "2007  2.292514  2.034211                  1.342545              1.533903\n",
       "2006  2.362128  2.202273                  1.293493              1.333378\n",
       "2005  2.434639  4.189500                  1.275626              1.934488\n",
       "2004  1.203158  1.445652                  0.903729              1.088004\n",
       "2003  1.039118  0.991739                  0.788385              0.811272\n",
       "2002  1.138182  1.138182                  0.741460              0.741460"
      ]
     },
     "execution_count": 26,
     "metadata": {},
     "output_type": "execute_result"
    },
    {
     "data": {
      "image/png": "[encoded data removed]",
      "text/plain": [
       "<Figure size 1008x432 with 1 Axes>"
      ]
     },
     "metadata": {
      "needs_background": "light"
     },
     "output_type": "display_data"
    }
   ],
   "source": [
    "plantp_fcr_year = get_yearly_stats(plantp_valid)\n",
    "plot_yearly_stats(plantp_fcr_year, \"Brazilian Journal of Plant Physiology\")\n",
    "plantp_fcr_year"
   ]
  },
  {
   "cell_type": "markdown",
   "metadata": {},
   "source": [
    "### Let's talk about the FCR..."
   ]
  },
  {
   "cell_type": "markdown",
   "metadata": {},
   "source": [
    "These values should be re-calculated by Dimensions\n",
    "to include the citations from new publications.\n",
    "We are just seeing a snapshot of this index.\n",
    "\n",
    "As a side effect of the normalization,\n",
    "an article that is no longer cited will get a lower FCR\n",
    "for each other article\n",
    "from the same year and field of research that gets a citation.\n",
    "\n",
    "Probably the most strange part of FCR\n",
    "is the \"field of research\" itself,\n",
    "which is found from some unknown \"machine learning\" algorithm and data.\n",
    "Do the fields make sense, at least?"
   ]
  },
  {
   "cell_type": "code",
   "execution_count": 27,
   "metadata": {},
   "outputs": [
    {
     "data": {
      "text/plain": [
       "FOR (ANZSRC) Categories\n",
       "0604 Genetics; 0602 Ecology; 0502 Environmental Science and Management                                         1\n",
       "1701 Psychology                                                                                                1\n",
       "0502 Environmental Science and Management; 0403 Geology; 0602 Ecology                                          1\n",
       "1117 Public Health and Health Services                                                                         1\n",
       "0502 Environmental Science and Management; 0602 Ecology; 0604 Genetics                                         1\n",
       "0502 Environmental Science and Management; 0604 Genetics                                                       1\n",
       "0502 Environmental Science and Management; 0907 Environmental Engineering; 0602 Ecology; 0405 Oceanography     1\n",
       "1108 Medical Microbiology                                                                                      1\n",
       "1103 Clinical Sciences                                                                                         1\n",
       "0602 Ecology; 0608 Zoology                                                                                     1\n",
       "1102 Cardiorespiratory Medicine and Haematology                                                                1\n",
       "1005 Communications Technologies                                                                               1\n",
       "2102 Curatorial and Related Studies                                                                            1\n",
       "0607 Plant Biology                                                                                             1\n",
       "0608 Zoology                                                                                                   1\n",
       "0704 Fisheries Sciences                                                                                        1\n",
       "0403 Geology                                                                                                   2\n",
       "2103 Historical Studies                                                                                        2\n",
       "0603 Evolutionary Biology                                                                                      4\n",
       "1114 Paediatrics and Reproductive Medicine                                                                     4\n",
       "0602 Ecology; 0502 Environmental Science and Management                                                        5\n",
       "0502 Environmental Science and Management; 0602 Ecology                                                        5\n",
       "0604 Genetics                                                                                                 17\n",
       "0502 Environmental Science and Management                                                                     51\n",
       "0602 Ecology                                                                                                  57\n",
       "dtype: int64"
      ]
     },
     "execution_count": 27,
     "metadata": {},
     "output_type": "execute_result"
    }
   ],
   "source": [
    "# Nauplius\n",
    "nauplius.groupby(\"FOR (ANZSRC) Categories\").size().sort_values()"
   ]
  },
  {
   "cell_type": "code",
   "execution_count": 28,
   "metadata": {},
   "outputs": [
    {
     "data": {
      "text/plain": [
       "FOR (ANZSRC) Categories\n",
       "0102 Applied Mathematics                                                                                     1\n",
       "0912 Materials Engineering                                                                                   1\n",
       "0904 Chemical Engineering                                                                                    1\n",
       "0699 Other Biological Sciences; 0607 Plant Biology                                                           1\n",
       "0607 Plant Biology; 0699 Other Biological Sciences; 0602 Ecology                                             1\n",
       "0607 Plant Biology; 0605 Microbiology                                                                        1\n",
       "0607 Plant Biology; 0602 Ecology; 0705 Forestry Sciences                                                     1\n",
       "0607 Plant Biology; 0602 Ecology; 0699 Other Biological Sciences; 0705 Forestry Sciences                     1\n",
       "0607 Plant Biology; 0601 Biochemistry and Cell Biology; 0604 Genetics; 0703 Crop and Pasture Production      1\n",
       "0607 Plant Biology; 0601 Biochemistry and Cell Biology; 0604 Genetics                                        1\n",
       "0607 Plant Biology; 0503 Soil Sciences; 0602 Ecology; 0703 Crop and Pasture Production                       1\n",
       "0605 Microbiology                                                                                            1\n",
       "0604 Genetics; 0601 Biochemistry and Cell Biology                                                            1\n",
       "0604 Genetics; 0502 Environmental Science and Management; 0602 Ecology; 0603 Evolutionary Biology            1\n",
       "0602 Ecology; 0705 Forestry Sciences; 0607 Plant Biology                                                     1\n",
       "1117 Public Health and Health Services; 0399 Other Chemical Sciences                                         1\n",
       "0306 Physical Chemistry (incl. Structural)                                                                   1\n",
       "0602 Ecology; 0607 Plant Biology; 0503 Soil Sciences; 0703 Crop and Pasture Production                       1\n",
       "0602 Ecology; 0607 Plant Biology                                                                             1\n",
       "0104 Statistics                                                                                              1\n",
       "0202 Atomic, Molecular, Nuclear, Particle and Plasma Physics                                                 1\n",
       "0206 Quantum Physics                                                                                         1\n",
       "0601 Biochemistry and Cell Biology; 0607 Plant Biology                                                       1\n",
       "0601 Biochemistry and Cell Biology; 0604 Genetics; 0607 Plant Biology                                        1\n",
       "0305 Organic Chemistry                                                                                       1\n",
       "0602 Ecology; 0607 Plant Biology; 0603 Evolutionary Biology                                                  1\n",
       "0907 Environmental Engineering                                                                               2\n",
       "0703 Crop and Pasture Production; 0607 Plant Biology                                                         2\n",
       "0607 Plant Biology; 0703 Crop and Pasture Production; 0602 Ecology                                           2\n",
       "0607 Plant Biology; 0703 Crop and Pasture Production; 0601 Biochemistry and Cell Biology                     2\n",
       "0607 Plant Biology; 0604 Genetics                                                                            2\n",
       "0607 Plant Biology; 0299 Other Physical Sciences                                                             2\n",
       "1103 Clinical Sciences                                                                                       2\n",
       "0604 Genetics; 0607 Plant Biology; 0601 Biochemistry and Cell Biology                                        2\n",
       "0604 Genetics; 0607 Plant Biology                                                                            2\n",
       "0607 Plant Biology; 0602 Ecology; 0699 Other Biological Sciences                                             2\n",
       "0301 Analytical Chemistry                                                                                    3\n",
       "0607 Plant Biology; 0503 Soil Sciences                                                                       3\n",
       "0703 Crop and Pasture Production                                                                             4\n",
       "0602 Ecology                                                                                                 4\n",
       "0302 Inorganic Chemistry                                                                                     5\n",
       "0607 Plant Biology; 0601 Biochemistry and Cell Biology                                                       7\n",
       "0607 Plant Biology; 0602 Ecology                                                                            10\n",
       "0607 Plant Biology; 0703 Crop and Pasture Production                                                        13\n",
       "0604 Genetics                                                                                               24\n",
       "0601 Biochemistry and Cell Biology                                                                          40\n",
       "0607 Plant Biology                                                                                         176\n",
       "dtype: int64"
      ]
     },
     "execution_count": 28,
     "metadata": {},
     "output_type": "execute_result"
    }
   ],
   "source": [
    "# Brazilian Journal of Plant Physiology\n",
    "plantp.groupby(\"FOR (ANZSRC) Categories\").size().sort_values()"
   ]
  },
  {
   "cell_type": "markdown",
   "metadata": {},
   "source": [
    "Multidisciplinary entries and misclassification\n",
    "regarding publications from this and other journals\n",
    "might be biasing the whole.\n",
    "The trustfulness and meaningfulness of the normalization procedure\n",
    "is rooted on the Dimensions' machine learning system.\n",
    "\n",
    "The citation count for a document as used in the FCR calculation\n",
    "doesn't take into account *which* other document had cited it.\n",
    "Though the normalization helps\n",
    "on comparing publications from different years,\n",
    "the magnitude of this index might be influenced\n",
    "by stuff like self-citations\n",
    "and scattered never-cited \\[perhaps auto-generated\\] publications.\n",
    "\n",
    "There's one important difference\n",
    "between the Hirsch index and the FCR average:\n",
    "not-cited publications are meaningless for the Hirsch index,\n",
    "yet they push down the FCR average,\n",
    "and faster than the common mean calculation\n",
    "because it's using a geometric mean instead.\n",
    "The geometric mean is less influenced\n",
    "by extreme values near to the maximum,\n",
    "but it's MORE influenced\n",
    "by extreme values near to the minimum.\n",
    "A single zero would weight hard on a journal\n",
    "with lots of highly cited documents.\n",
    "As a synthetic example:"
   ]
  },
  {
   "cell_type": "code",
   "execution_count": 29,
   "metadata": {},
   "outputs": [
    {
     "data": {
      "text/html": [
       "<div>\n",
       "<style scoped>\n",
       "    .dataframe tbody tr th:only-of-type {\n",
       "        vertical-align: middle;\n",
       "    }\n",
       "\n",
       "    .dataframe tbody tr th {\n",
       "        vertical-align: top;\n",
       "    }\n",
       "\n",
       "    .dataframe thead th {\n",
       "        text-align: right;\n",
       "    }\n",
       "</style>\n",
       "<table border=\"1\" class=\"dataframe\">\n",
       "  <thead>\n",
       "    <tr style=\"text-align: right;\">\n",
       "      <th></th>\n",
       "      <th></th>\n",
       "      <th>shifted_geom_average</th>\n",
       "      <th>mean</th>\n",
       "    </tr>\n",
       "    <tr>\n",
       "      <th>fifteen_count</th>\n",
       "      <th>zero_count</th>\n",
       "      <th></th>\n",
       "      <th></th>\n",
       "    </tr>\n",
       "  </thead>\n",
       "  <tbody>\n",
       "    <tr>\n",
       "      <th rowspan=\"11\" valign=\"top\">10</th>\n",
       "      <th>0</th>\n",
       "      <td>15.000000</td>\n",
       "      <td>15.000000</td>\n",
       "    </tr>\n",
       "    <tr>\n",
       "      <th>1</th>\n",
       "      <td>11.435250</td>\n",
       "      <td>13.636364</td>\n",
       "    </tr>\n",
       "    <tr>\n",
       "      <th>2</th>\n",
       "      <td>9.079368</td>\n",
       "      <td>12.500000</td>\n",
       "    </tr>\n",
       "    <tr>\n",
       "      <th>3</th>\n",
       "      <td>7.438129</td>\n",
       "      <td>11.538462</td>\n",
       "    </tr>\n",
       "    <tr>\n",
       "      <th>4</th>\n",
       "      <td>6.245789</td>\n",
       "      <td>10.714286</td>\n",
       "    </tr>\n",
       "    <tr>\n",
       "      <th>5</th>\n",
       "      <td>5.349604</td>\n",
       "      <td>10.000000</td>\n",
       "    </tr>\n",
       "    <tr>\n",
       "      <th>6</th>\n",
       "      <td>4.656854</td>\n",
       "      <td>9.375000</td>\n",
       "    </tr>\n",
       "    <tr>\n",
       "      <th>7</th>\n",
       "      <td>4.108647</td>\n",
       "      <td>8.823529</td>\n",
       "    </tr>\n",
       "    <tr>\n",
       "      <th>8</th>\n",
       "      <td>3.666116</td>\n",
       "      <td>8.333333</td>\n",
       "    </tr>\n",
       "    <tr>\n",
       "      <th>9</th>\n",
       "      <td>3.302762</td>\n",
       "      <td>7.894737</td>\n",
       "    </tr>\n",
       "    <tr>\n",
       "      <th>10</th>\n",
       "      <td>3.000000</td>\n",
       "      <td>7.500000</td>\n",
       "    </tr>\n",
       "  </tbody>\n",
       "</table>\n",
       "</div>"
      ],
      "text/plain": [
       "                          shifted_geom_average       mean\n",
       "fifteen_count zero_count                                 \n",
       "10            0                      15.000000  15.000000\n",
       "              1                      11.435250  13.636364\n",
       "              2                       9.079368  12.500000\n",
       "              3                       7.438129  11.538462\n",
       "              4                       6.245789  10.714286\n",
       "              5                       5.349604  10.000000\n",
       "              6                       4.656854   9.375000\n",
       "              7                       4.108647   8.823529\n",
       "              8                       3.666116   8.333333\n",
       "              9                       3.302762   7.894737\n",
       "              10                      3.000000   7.500000"
      ]
     },
     "execution_count": 29,
     "metadata": {},
     "output_type": "execute_result"
    },
    {
     "data": {
      "image/png": "[encoded data removed]",
      "text/plain": [
       "<Figure size 432x288 with 1 Axes>"
      ]
     },
     "metadata": {
      "needs_background": "light"
     },
     "output_type": "display_data"
    }
   ],
   "source": [
    "synth_data = pd.DataFrame([range(11)], index=[\"zero_count\"]).T\n",
    "synth_data[\"fifteen_count\"] = 10\n",
    "synth_data[\"shifted_geom_average\"] = [sgm_average(pd.Series([0] * a + [15] * b))\n",
    "                                      for a, b in synth_data.values.tolist()]\n",
    "synth_data[\"mean\"] = synth_data[\"fifteen_count\"] * 15 \\\n",
    "                   / (synth_data[\"fifteen_count\"] + synth_data[\"zero_count\"])\n",
    "synth_data.set_index([\"fifteen_count\", \"zero_count\"], inplace=True)\n",
    "synth_data.reset_index(0, drop=True).plot()\n",
    "synth_data"
   ]
  },
  {
   "cell_type": "markdown",
   "metadata": {},
   "source": [
    "This geometric mean of zero and $15$ is $3$.\n",
    "With $3$ zeros, even $10$ entries having $15$\n",
    "wouldn't be enough to get $7.5$ as the average result.\n",
    "\n",
    "This effectively means that the FCR average favors\n",
    "journals with a small number of uniformly cited publications,\n",
    "heavily pushing down a journal with even a single publication\n",
    "with zero citations.\n",
    "\n",
    "Due to that *pushing down* behavior\n",
    "of this alternative averaging calculation,\n",
    "FCR should be taken with a grain of salt\n",
    "when used to evaluate journals with recent publications."
   ]
  },
  {
   "cell_type": "markdown",
   "metadata": {},
   "source": [
    "## Bibliometric mapping"
   ]
  },
  {
   "cell_type": "markdown",
   "metadata": {},
   "source": [
    "Another file that can be downloaded from Dimensions\n",
    "is a bibliometric mapping CSV."
   ]
  },
  {
   "cell_type": "markdown",
   "metadata": {},
   "source": [
    "### Loading the data"
   ]
  },
  {
   "cell_type": "markdown",
   "metadata": {},
   "source": [
    "If follows a structure similar to the spreadsheet CSV file,\n",
    "like the metadata information in the first line."
   ]
  },
  {
   "cell_type": "code",
   "execution_count": 30,
   "metadata": {},
   "outputs": [
    {
     "name": "stdout",
     "output_type": "stream",
     "text": [
      "About the data: Exported on Sep 21, 2018. Criteria: Source title is Nauplius.\n",
      "About the data: Exported on Sep 22, 2018. Criteria: Source title is Brazilian Journal of Plant Physiology.\n"
     ]
    }
   ],
   "source": [
    "for fname in [\"nauplius_bibmap.csv\", \"plant_physiology_bibmap.csv\"]:\n",
    "    with open(fname) as f:\n",
    "        cr = csv.reader(f)\n",
    "        print(next(cr)[0])"
   ]
  },
  {
   "cell_type": "markdown",
   "metadata": {},
   "source": [
    "But have fewer columns:"
   ]
  },
  {
   "cell_type": "code",
   "execution_count": 31,
   "metadata": {},
   "outputs": [
    {
     "name": "stdout",
     "output_type": "stream",
     "text": [
      "Nauplius: (177, 14)\n",
      "Brazilian Journal of Plant Physiology: (361, 14)\n"
     ]
    },
    {
     "data": {
      "text/plain": [
       "Index(['Publication ID', 'DOI', 'Title', 'Source title/Anthology title',\n",
       "       'PubYear', 'Volume', 'Issue', 'Pagination', 'Authors',\n",
       "       'Authors Affiliations - Name of Research organization',\n",
       "       'Authors Affiliations - Country of Research organization',\n",
       "       'Dimensions URL', 'Times cited', 'Publication IDs of cited references'],\n",
       "      dtype='object')"
      ]
     },
     "execution_count": 31,
     "metadata": {},
     "output_type": "execute_result"
    }
   ],
   "source": [
    "nauplius_bibmap = pd.read_csv(\"nauplius_bibmap.csv\", header=1)\n",
    "plantp_bibmap = pd.read_csv(\"plant_physiology_bibmap.csv\", header=1)\n",
    "print(\"Nauplius:\", nauplius_bibmap.shape)\n",
    "print(\"Brazilian Journal of Plant Physiology:\", plantp_bibmap.shape)\n",
    "plantp_bibmap.columns"
   ]
  },
  {
   "cell_type": "markdown",
   "metadata": {},
   "source": [
    "Besides having less columns, the differences are:\n",
    "\n",
    "- *Authors Affiliations* had been splitted into two fields;\n",
    "- There's an extra *Publication IDs of cited references* field.\n",
    "\n",
    "We don't have a field like *Publication IDs citing this entry*,\n",
    "just the other way around.\n",
    "That is,\n",
    "from the directed graph of citations,\n",
    "these bibliometric mapping files have a partition of the graph\n",
    "including the nodes/articles from a journal and the outcoming edges,\n",
    "but not the incoming edges.\n",
    "It has the number of incoming edges in the *Times cited* field,\n",
    "but not the citations themselves."
   ]
  },
  {
   "cell_type": "markdown",
   "metadata": {},
   "source": [
    "The citations in a document\n",
    "are joined by *a semi-colon and a blank whitespace*:"
   ]
  },
  {
   "cell_type": "code",
   "execution_count": 32,
   "metadata": {},
   "outputs": [
    {
     "data": {
      "text/plain": [
       "['pub.1029197063',\n",
       " 'pub.1002374214',\n",
       " 'pub.1018747876',\n",
       " 'pub.1051616960',\n",
       " 'pub.1017805771',\n",
       " 'pub.1014161638',\n",
       " 'pub.1047379736',\n",
       " 'pub.1029350483',\n",
       " 'pub.1040183585',\n",
       " 'pub.1084353864',\n",
       " 'pub.1057031403',\n",
       " 'pub.1000284258',\n",
       " 'pub.1052431052',\n",
       " 'pub.1046335329',\n",
       " 'pub.1010113839',\n",
       " 'pub.1090336053',\n",
       " 'pub.1048696478',\n",
       " 'pub.1005549826',\n",
       " 'pub.1020510950',\n",
       " 'pub.1035956564',\n",
       " 'pub.1032912886',\n",
       " 'pub.1049807368',\n",
       " 'pub.1015284561',\n",
       " 'pub.1093107594',\n",
       " 'pub.1084353730']"
      ]
     },
     "execution_count": 32,
     "metadata": {},
     "output_type": "execute_result"
    }
   ],
   "source": [
    "nauplius_bibmap[\"Publication IDs of cited references\"].iloc[0].split(\"; \")"
   ]
  },
  {
   "cell_type": "markdown",
   "metadata": {},
   "source": [
    "From this, we can see an histogram of the overall number of citations\n",
    "of the papers:"
   ]
  },
  {
   "cell_type": "code",
   "execution_count": 33,
   "metadata": {},
   "outputs": [
    {
     "data": {
      "image/png": "[encoded data removed]",
      "text/plain": [
       "<Figure size 432x288 with 1 Axes>"
      ]
     },
     "metadata": {
      "needs_background": "light"
     },
     "output_type": "display_data"
    }
   ],
   "source": [
    "nauplius_out_cite = (nauplius_bibmap\n",
    "    [\"Publication IDs of cited references\"]\n",
    "    .fillna(\"\") # Unknown / empty citation list\n",
    "    .str.split(\"; \")\n",
    "    .apply(set) # Remove duplicated IDs, if any\n",
    ")\n",
    "nauplius_out_cite.apply(len).plot.hist(\n",
    "    bins=100,\n",
    "    title=\"Histogram of citations in documents (Nauplius)\",\n",
    ");"
   ]
  },
  {
   "cell_type": "code",
   "execution_count": 34,
   "metadata": {},
   "outputs": [
    {
     "data": {
      "image/png": "[encoded data removed]",
      "text/plain": [
       "<Figure size 432x288 with 1 Axes>"
      ]
     },
     "metadata": {
      "needs_background": "light"
     },
     "output_type": "display_data"
    }
   ],
   "source": [
    "plantp_out_cite = (plantp_bibmap\n",
    "    [\"Publication IDs of cited references\"]\n",
    "    .fillna(\"\") # Unknown / empty citation list\n",
    "    .str.split(\"; \")\n",
    "    .apply(set) # Remove duplicated IDs, if any\n",
    ")\n",
    "plantp_out_cite.apply(len).plot.hist(\n",
    "    bins=100,\n",
    "    title=\"Histogram of citations in documents \"\n",
    "          \"(Brazilian Journal of Plant Physiology)\",\n",
    ");"
   ]
  },
  {
   "cell_type": "markdown",
   "metadata": {},
   "source": [
    "As we have all the publication IDs,\n",
    "we can also see how many journal self-citation there are\n",
    "in these publications."
   ]
  },
  {
   "cell_type": "code",
   "execution_count": 35,
   "metadata": {},
   "outputs": [
    {
     "data": {
      "image/png": "[encoded data removed]",
      "text/plain": [
       "<Figure size 432x288 with 1 Axes>"
      ]
     },
     "metadata": {
      "needs_background": "light"
     },
     "output_type": "display_data"
    }
   ],
   "source": [
    "nauplius_ids = nauplius_bibmap[\"Publication ID\"].values\n",
    "nauplius_self_cites = \\\n",
    "    nauplius_out_cite.apply(lambda cites: sum(cite in nauplius_ids\n",
    "                                              for cite in cites))\n",
    "nauplius_self_cites[nauplius_self_cites > 0].value_counts().plot.bar()\n",
    "plt.gca().set(\n",
    "    title=\"Self-citations in Nauplius\",\n",
    "    xlabel=\"Number of self-citations from a single document\",\n",
    "    ylabel=\"Documents\",\n",
    ");"
   ]
  },
  {
   "cell_type": "code",
   "execution_count": 36,
   "metadata": {},
   "outputs": [
    {
     "data": {
      "image/png": "[encoded data removed]",
      "text/plain": [
       "<Figure size 432x288 with 1 Axes>"
      ]
     },
     "metadata": {
      "needs_background": "light"
     },
     "output_type": "display_data"
    }
   ],
   "source": [
    "plantp_ids = plantp_bibmap[\"Publication ID\"].values\n",
    "plantp_self_cites = \\\n",
    "    plantp_out_cite.apply(lambda cites: sum(cite in plantp_ids\n",
    "                                            for cite in cites))\n",
    "plantp_self_cites[plantp_self_cites > 0].value_counts().plot.bar()\n",
    "plt.gca().set(\n",
    "    title=\"Self-citations in the\"\n",
    "          \"Brazilian Journal of Plant Physiology\",\n",
    "    xlabel=\"Number of self-citations from a single document\",\n",
    "    ylabel=\"Documents\",\n",
    ");"
   ]
  }
 ],
 "metadata": {
  "kernelspec": {
   "display_name": "Python 3",
   "language": "python",
   "name": "python3"
  },
  "language_info": {
   "codemirror_mode": {
    "name": "ipython",
    "version": 3
   },
   "file_extension": ".py",
   "mimetype": "text/x-python",
   "name": "python",
   "nbconvert_exporter": "python",
   "pygments_lexer": "ipython3",
   "version": "3.7.0"
  },
  "notebook_number": 11
 },
 "nbformat": 4,
 "nbformat_minor": 2
}
