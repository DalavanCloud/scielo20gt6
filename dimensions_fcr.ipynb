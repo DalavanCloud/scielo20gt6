{
 "cells": [
  {
   "cell_type": "markdown",
   "metadata": {},
   "source": [
    "# FCR in Dimensions"
   ]
  },
  {
   "cell_type": "markdown",
   "metadata": {},
   "source": [
    "The goal of this notebook is to analyze\n",
    "the FCR index data of a single journal\n",
    "based on the CSV reports\n",
    "from [Dimensions](https://app.dimensions.ai).\n",
    "We can get at most $500$ entries from its search system,\n",
    "which suffices in our case\n",
    "without an extra step of search splitting and CSV joining\n",
    "(sadly, we couldn't download the full data from some journals\n",
    " due to that limit on the number of rows\n",
    " and due to the constrained ways os manually splitting the data\n",
    " in the interface).\n",
    "\n",
    "*Note*: Be careful when downloading stuff from a single journal!\n",
    "As the Dimensions' web interface uses the journal name for filtering\n",
    "instead of its ISSN,\n",
    "sometimes we can grab a CSV from more than one journal\n",
    "because they happen to have the same name.\n",
    "As an example, *Topoi* can be either a\n",
    "[Brazilian journal of history](http://revistatopoi.org)\n",
    "and a\n",
    "[Dutch journal of philosophy](https://link.springer.com/journal/11245),\n",
    "but these journals are mixed together in that interface.\n",
    "\n",
    "There are two CSV formats available:\n",
    "a spreadsheet and a bibliometric mapping.\n",
    "Their first line in both formats is always\n",
    "a comment with some metadata regarding the downloaded CSV,\n",
    "including the date.\n",
    "The second line is the table header."
   ]
  },
  {
   "cell_type": "code",
   "execution_count": 1,
   "metadata": {},
   "outputs": [],
   "source": [
    "import csv"
   ]
  },
  {
   "cell_type": "code",
   "execution_count": 2,
   "metadata": {},
   "outputs": [],
   "source": [
    "import matplotlib.pyplot as plt\n",
    "import numpy as np\n",
    "import pandas as pd"
   ]
  },
  {
   "cell_type": "code",
   "execution_count": 3,
   "metadata": {},
   "outputs": [],
   "source": [
    "%matplotlib inline"
   ]
  },
  {
   "cell_type": "markdown",
   "metadata": {},
   "source": [
    "## Analyzing the FCR from the spreadsheet file"
   ]
  },
  {
   "cell_type": "markdown",
   "metadata": {},
   "source": [
    "There are $2$ bibliometric indices: `RCR` and `FCR`.\n",
    "The former is probably useless\n",
    "for anything that isn't a health science publication\n",
    "regarding the research going on in the U.S.A.,\n",
    "since its calculation\n",
    "[is based on the number of citations from publications funded by the\n",
    " NIH](https://support.dimensions.ai/support/solutions/articles/13000045404-what-is-the-rcr-how-is-the-rcr-score-calculated-)\n",
    "(*National Institutes of Health* in the U.S.A.).\n",
    "The latter is the *Field Citation Ratio*,\n",
    "[which is somehow normalized by both year and Field of\n",
    " Research](https://support.dimensions.ai/support/solutions/articles/13000045409-what-is-the-fcr-how-is-it-calculated-),\n",
    "and is the only one we're going to analyze here."
   ]
  },
  {
   "cell_type": "markdown",
   "metadata": {},
   "source": [
    "### Loading the data"
   ]
  },
  {
   "cell_type": "markdown",
   "metadata": {},
   "source": [
    "We should be explicit about the header line\n",
    "since the first line of the CSV files\n",
    "is a comment:"
   ]
  },
  {
   "cell_type": "code",
   "execution_count": 4,
   "metadata": {},
   "outputs": [
    {
     "name": "stdout",
     "output_type": "stream",
     "text": [
      "About the data: Exported on Sep 21, 2018. Criteria: Source title is Nauplius.\n"
     ]
    }
   ],
   "source": [
    "with open(\"nauplius.csv\") as f:\n",
    "    cr = csv.reader(f)\n",
    "    print(next(cr)[0])"
   ]
  },
  {
   "cell_type": "markdown",
   "metadata": {},
   "source": [
    "We're going to analyze the content of this journal."
   ]
  },
  {
   "cell_type": "code",
   "execution_count": 5,
   "metadata": {},
   "outputs": [
    {
     "name": "stdout",
     "output_type": "stream",
     "text": [
      "(177, 27)\n"
     ]
    },
    {
     "data": {
      "text/plain": [
       "Index(['Rank', 'Publication ID', 'DOI', 'PMID', 'PMCID', 'Title',\n",
       "       'Source title', 'Anthology title', 'PubYear', 'Volume', 'Issue',\n",
       "       'Pagination', 'Publication Type', 'Authors', 'Authors Affiliations',\n",
       "       'Times cited', 'Recent citations', 'RCR', 'FCR', 'Source Linkout',\n",
       "       'Dimensions URL', 'FOR (ANZSRC) Categories', 'FOR 1', 'FOR 2', 'FOR 3',\n",
       "       'FOR 4', 'FOR 5'],\n",
       "      dtype='object')"
      ]
     },
     "execution_count": 5,
     "metadata": {},
     "output_type": "execute_result"
    }
   ],
   "source": [
    "nauplius = pd.read_csv(\"nauplius.csv\", header=1)\n",
    "print(nauplius.shape)\n",
    "nauplius.columns"
   ]
  },
  {
   "cell_type": "markdown",
   "metadata": {},
   "source": [
    "We can see the number of publications by year:"
   ]
  },
  {
   "cell_type": "code",
   "execution_count": 6,
   "metadata": {},
   "outputs": [
    {
     "data": {
      "text/html": [
       "<div>\n",
       "<style scoped>\n",
       "    .dataframe tbody tr th:only-of-type {\n",
       "        vertical-align: middle;\n",
       "    }\n",
       "\n",
       "    .dataframe tbody tr th {\n",
       "        vertical-align: top;\n",
       "    }\n",
       "\n",
       "    .dataframe thead th {\n",
       "        text-align: right;\n",
       "    }\n",
       "</style>\n",
       "<table border=\"1\" class=\"dataframe\">\n",
       "  <thead>\n",
       "    <tr style=\"text-align: right;\">\n",
       "      <th></th>\n",
       "      <th>count</th>\n",
       "    </tr>\n",
       "    <tr>\n",
       "      <th>PubYear</th>\n",
       "      <th></th>\n",
       "    </tr>\n",
       "  </thead>\n",
       "  <tbody>\n",
       "    <tr>\n",
       "      <th>2011</th>\n",
       "      <td>19</td>\n",
       "    </tr>\n",
       "    <tr>\n",
       "      <th>2012</th>\n",
       "      <td>21</td>\n",
       "    </tr>\n",
       "    <tr>\n",
       "      <th>2013</th>\n",
       "      <td>22</td>\n",
       "    </tr>\n",
       "    <tr>\n",
       "      <th>2014</th>\n",
       "      <td>16</td>\n",
       "    </tr>\n",
       "    <tr>\n",
       "      <th>2015</th>\n",
       "      <td>18</td>\n",
       "    </tr>\n",
       "    <tr>\n",
       "      <th>2016</th>\n",
       "      <td>30</td>\n",
       "    </tr>\n",
       "    <tr>\n",
       "      <th>2017</th>\n",
       "      <td>33</td>\n",
       "    </tr>\n",
       "    <tr>\n",
       "      <th>2018</th>\n",
       "      <td>18</td>\n",
       "    </tr>\n",
       "  </tbody>\n",
       "</table>\n",
       "</div>"
      ],
      "text/plain": [
       "         count\n",
       "PubYear       \n",
       "2011        19\n",
       "2012        21\n",
       "2013        22\n",
       "2014        16\n",
       "2015        18\n",
       "2016        30\n",
       "2017        33\n",
       "2018        18"
      ]
     },
     "execution_count": 6,
     "metadata": {},
     "output_type": "execute_result"
    },
    {
     "data": {
      "image/png": "[encoded data removed]",
      "text/plain": [
       "<Figure size 1152x432 with 1 Axes>"
      ]
     },
     "metadata": {
      "needs_background": "light"
     },
     "output_type": "display_data"
    }
   ],
   "source": [
    "year_counts = nauplius.groupby(\"PubYear\").size().rename(\"count\")\n",
    "year_counts.T.plot(title=\"Number of publications by year\",\n",
    "                   figsize=(16, 6))\n",
    "pd.DataFrame(year_counts)"
   ]
  },
  {
   "cell_type": "markdown",
   "metadata": {},
   "source": [
    "Which shows that *Nauplius* is a quite new and currently active journal."
   ]
  },
  {
   "cell_type": "markdown",
   "metadata": {},
   "source": [
    "### Proportion where the FCR is zero"
   ]
  },
  {
   "cell_type": "markdown",
   "metadata": {},
   "source": [
    "From the [FCR\n",
    " explanation](https://support.dimensions.ai/support/solutions/articles/13000045409-what-is-the-fcr-how-is-it-calculated-)\n",
    "page in the Dimensions support,\n",
    "we know that:\n",
    "\n",
    "> The FCR is calculated for all publications in Dimensions\n",
    "> which are at least 2 years old and were published in 2000 or later.\n",
    "\n",
    "FCR is zero when a document hadn't received any citation\n",
    "or when it was published in the last $2$ years.\n",
    "That's a quite common case, surely for new papers,\n",
    "which deserves its own analysis."
   ]
  },
  {
   "cell_type": "code",
   "execution_count": 7,
   "metadata": {},
   "outputs": [
    {
     "data": {
      "text/plain": [
       "True     91\n",
       "False    86\n",
       "Name: FCR, dtype: int64"
      ]
     },
     "execution_count": 7,
     "metadata": {},
     "output_type": "execute_result"
    },
    {
     "data": {
      "image/png": "[encoded data removed]",
      "text/plain": [
       "<Figure size 1152x288 with 1 Axes>"
      ]
     },
     "metadata": {
      "needs_background": "light"
     },
     "output_type": "display_data"
    }
   ],
   "source": [
    "fcr_is_zero = (nauplius[\"FCR\"] == 0).value_counts()\n",
    "fcr_is_zero.sort_index().plot.barh(\n",
    "    figsize=(16, 4),\n",
    "    title=\"FCR is zero (Nauplius)\"\n",
    ")\n",
    "fcr_is_zero"
   ]
  },
  {
   "cell_type": "markdown",
   "metadata": {},
   "source": [
    "For a recent journal, more than half of the entries have zero as its FCR.\n",
    "The FCR mean for this journal as a whole\n",
    "would be tainted if we count these entries as equal."
   ]
  },
  {
   "cell_type": "markdown",
   "metadata": {},
   "source": [
    "Most entries with zeroed FCR values are for $2017$ and $2018$,\n",
    "years where all entries are zero."
   ]
  },
  {
   "cell_type": "code",
   "execution_count": 8,
   "metadata": {},
   "outputs": [
    {
     "data": {
      "text/html": [
       "<div>\n",
       "<style scoped>\n",
       "    .dataframe tbody tr th:only-of-type {\n",
       "        vertical-align: middle;\n",
       "    }\n",
       "\n",
       "    .dataframe tbody tr th {\n",
       "        vertical-align: top;\n",
       "    }\n",
       "\n",
       "    .dataframe thead th {\n",
       "        text-align: right;\n",
       "    }\n",
       "</style>\n",
       "<table border=\"1\" class=\"dataframe\">\n",
       "  <thead>\n",
       "    <tr style=\"text-align: right;\">\n",
       "      <th>fcr_is_zero</th>\n",
       "      <th>False</th>\n",
       "      <th>True</th>\n",
       "    </tr>\n",
       "    <tr>\n",
       "      <th>PubYear</th>\n",
       "      <th></th>\n",
       "      <th></th>\n",
       "    </tr>\n",
       "  </thead>\n",
       "  <tbody>\n",
       "    <tr>\n",
       "      <th>2011</th>\n",
       "      <td>17</td>\n",
       "      <td>2</td>\n",
       "    </tr>\n",
       "    <tr>\n",
       "      <th>2012</th>\n",
       "      <td>14</td>\n",
       "      <td>7</td>\n",
       "    </tr>\n",
       "    <tr>\n",
       "      <th>2013</th>\n",
       "      <td>18</td>\n",
       "      <td>4</td>\n",
       "    </tr>\n",
       "    <tr>\n",
       "      <th>2014</th>\n",
       "      <td>11</td>\n",
       "      <td>5</td>\n",
       "    </tr>\n",
       "    <tr>\n",
       "      <th>2015</th>\n",
       "      <td>12</td>\n",
       "      <td>6</td>\n",
       "    </tr>\n",
       "    <tr>\n",
       "      <th>2016</th>\n",
       "      <td>14</td>\n",
       "      <td>16</td>\n",
       "    </tr>\n",
       "    <tr>\n",
       "      <th>2017</th>\n",
       "      <td>0</td>\n",
       "      <td>33</td>\n",
       "    </tr>\n",
       "    <tr>\n",
       "      <th>2018</th>\n",
       "      <td>0</td>\n",
       "      <td>18</td>\n",
       "    </tr>\n",
       "  </tbody>\n",
       "</table>\n",
       "</div>"
      ],
      "text/plain": [
       "fcr_is_zero  False  True \n",
       "PubYear                  \n",
       "2011            17      2\n",
       "2012            14      7\n",
       "2013            18      4\n",
       "2014            11      5\n",
       "2015            12      6\n",
       "2016            14     16\n",
       "2017             0     33\n",
       "2018             0     18"
      ]
     },
     "execution_count": 8,
     "metadata": {},
     "output_type": "execute_result"
    },
    {
     "data": {
      "image/png": "[encoded data removed]",
      "text/plain": [
       "<Figure size 1152x576 with 2 Axes>"
      ]
     },
     "metadata": {
      "needs_background": "light"
     },
     "output_type": "display_data"
    }
   ],
   "source": [
    "nauplius_counts = pd.DataFrame(\n",
    "    nauplius\n",
    "        .assign(fcr_is_zero=nauplius[\"FCR\"] == 0)\n",
    "        .groupby([\"fcr_is_zero\", \"PubYear\"])\n",
    "        .size()\n",
    "        .rename(\"count\")\n",
    "        .unstack(\"fcr_is_zero\")\n",
    "        .fillna(0),\n",
    "    dtype=int,\n",
    ")\n",
    "nauplius_counts.plot.barh(subplots=True,\n",
    "                          title=[\"FCR isn't zero\",\n",
    "                                 \"FCR is zero\"],\n",
    "                          legend=False,\n",
    "                          figsize=(16, 8))\n",
    "nauplius_counts"
   ]
  },
  {
   "cell_type": "markdown",
   "metadata": {},
   "source": [
    "As $2017$ was the publication peak for Nauplius,\n",
    "averaging the raw FCR number for every year is unfair."
   ]
  },
  {
   "cell_type": "markdown",
   "metadata": {},
   "source": [
    "Another reason for these zeros is that the FCR can only be calculated\n",
    "if we know the *Field of Research* of every single document.\n",
    "However, from the same link as before,\n",
    "\n",
    "> Assigning FoR codes to publications in Dimensions is done automatically using machine learning emulations of the categorisation processes.\n",
    "\n",
    "The FCR can't be negative,\n",
    "but when a document lacks its category,\n",
    "the FCR is zero."
   ]
  },
  {
   "cell_type": "code",
   "execution_count": 9,
   "metadata": {},
   "outputs": [
    {
     "data": {
      "text/plain": [
       "14"
      ]
     },
     "execution_count": 9,
     "metadata": {},
     "output_type": "execute_result"
    }
   ],
   "source": [
    "# Entries without any category\n",
    "nauplius[\"FOR (ANZSRC) Categories\"].isna().sum()"
   ]
  },
  {
   "cell_type": "markdown",
   "metadata": {},
   "source": [
    "As $\\text{FCR} \\ge 0$ and $\\sum \\text{FCR}_i = 0$,\n",
    "all these journals have $\\text{FCR} = 0$."
   ]
  },
  {
   "cell_type": "code",
   "execution_count": 10,
   "metadata": {},
   "outputs": [
    {
     "data": {
      "text/plain": [
       "0.0"
      ]
     },
     "execution_count": 10,
     "metadata": {},
     "output_type": "execute_result"
    }
   ],
   "source": [
    "nauplius[nauplius[\"FOR (ANZSRC) Categories\"].isna()][\"FCR\"].sum()"
   ]
  },
  {
   "cell_type": "markdown",
   "metadata": {},
   "source": [
    "The distribution of these zeros, by year:"
   ]
  },
  {
   "cell_type": "code",
   "execution_count": 11,
   "metadata": {},
   "outputs": [
    {
     "data": {
      "text/plain": [
       "PubYear\n",
       "2011    1\n",
       "2012    2\n",
       "2013    3\n",
       "2015    2\n",
       "2016    2\n",
       "2017    1\n",
       "2018    3\n",
       "dtype: int64"
      ]
     },
     "execution_count": 11,
     "metadata": {},
     "output_type": "execute_result"
    }
   ],
   "source": [
    "nauplius[nauplius[\"FOR (ANZSRC) Categories\"].isna()].groupby(\"PubYear\").size()"
   ]
  },
  {
   "cell_type": "markdown",
   "metadata": {},
   "source": [
    "### Data cleaning"
   ]
  },
  {
   "cell_type": "markdown",
   "metadata": {},
   "source": [
    "The cleaning we're sure that must be done\n",
    "in order to have meaningful entries\n",
    "for further analysis regarding the FCR\n",
    "is that we should only use data up to $2016$\n",
    "and get rid from entries without a main field of research."
   ]
  },
  {
   "cell_type": "code",
   "execution_count": 12,
   "metadata": {},
   "outputs": [],
   "source": [
    "nauplius_valid = nauplius[nauplius[\"FOR (ANZSRC) Categories\"].notna() &\n",
    "                          (nauplius[\"PubYear\"] <= 2016)]"
   ]
  },
  {
   "cell_type": "markdown",
   "metadata": {},
   "source": [
    "In the CSV file, everything is an article,\n",
    "so we shouldn't remove any other row:"
   ]
  },
  {
   "cell_type": "code",
   "execution_count": 13,
   "metadata": {},
   "outputs": [
    {
     "data": {
      "text/plain": [
       "0    article\n",
       "Name: Publication Type, dtype: object"
      ]
     },
     "execution_count": 13,
     "metadata": {},
     "output_type": "execute_result"
    }
   ],
   "source": [
    "nauplius[\"Publication Type\"].drop_duplicates()"
   ]
  },
  {
   "cell_type": "markdown",
   "metadata": {},
   "source": [
    "### Hirsch index"
   ]
  },
  {
   "cell_type": "markdown",
   "metadata": {},
   "source": [
    "As the total number of citations each document received is given,\n",
    "we can calculate the Hirsch index for this journal\n",
    "based on the entire data."
   ]
  },
  {
   "cell_type": "code",
   "execution_count": 14,
   "metadata": {},
   "outputs": [
    {
     "data": {
      "image/png": "[encoded data removed]",
      "text/plain": [
       "<Figure size 1152x288 with 1 Axes>"
      ]
     },
     "metadata": {
      "needs_background": "light"
     },
     "output_type": "display_data"
    }
   ],
   "source": [
    "nauplius[\"Times cited\"].plot.hist(\n",
    "    bins=nauplius[\"Times cited\"].max(),\n",
    "    title=\"Number of citations\",\n",
    "    figsize=(16, 4),\n",
    ");"
   ]
  },
  {
   "cell_type": "markdown",
   "metadata": {},
   "source": [
    "The Hirsch index for Nauplius is:"
   ]
  },
  {
   "cell_type": "code",
   "execution_count": 15,
   "metadata": {},
   "outputs": [
    {
     "data": {
      "text/plain": [
       "8"
      ]
     },
     "execution_count": 15,
     "metadata": {},
     "output_type": "execute_result"
    }
   ],
   "source": [
    "(nauplius[\"Times cited\"]\n",
    "    .value_counts()\n",
    "    .sort_index(ascending=False)\n",
    "    .cumsum()\n",
    "    .reset_index()\n",
    "    .values.min(axis=1)\n",
    "    .max()\n",
    ")"
   ]
  },
  {
   "cell_type": "markdown",
   "metadata": {},
   "source": [
    "The above is based on all citations since the publication,\n",
    "which is something that might lean toward\n",
    "journals with older publications."
   ]
  },
  {
   "cell_type": "markdown",
   "metadata": {},
   "source": [
    "### Proportion where FCR isn't zero"
   ]
  },
  {
   "cell_type": "code",
   "execution_count": 16,
   "metadata": {},
   "outputs": [
    {
     "data": {
      "image/png": "[encoded data removed]",
      "text/plain": [
       "<Figure size 1152x288 with 1 Axes>"
      ]
     },
     "metadata": {
      "needs_background": "light"
     },
     "output_type": "display_data"
    }
   ],
   "source": [
    "nauplius[nauplius[\"FCR\"] != 0][\"FCR\"].plot.hist(\n",
    "    bins=100,\n",
    "    title=\"Histogram of not-zero FCR values\",\n",
    "    figsize=(16, 4),\n",
    "    xticks=range(int(nauplius[\"FCR\"].max()) + 2),\n",
    ");"
   ]
  },
  {
   "cell_type": "markdown",
   "metadata": {},
   "source": [
    "All FCR values above $1$ received more citations than the average\n",
    "for the year of publication and for the field of research.\n",
    "That normalization makes FCR more fit than the raw number of citations\n",
    "when we're looking to summary data\n",
    "without knowing when each publication had been made."
   ]
  },
  {
   "cell_type": "markdown",
   "metadata": {},
   "source": [
    "### Average"
   ]
  },
  {
   "cell_type": "markdown",
   "metadata": {},
   "source": [
    "Dimensions tells us the average FCR for Nauplius is $0.49$.\n",
    "That means that the number of citations it received is,\n",
    "in average,\n",
    "about half of the average number of citations\n",
    "of its field of research area.\n",
    "That's called *FCR Mean* in the Dimensions' web site.\n",
    "\n",
    "The idea of *average* might be misleading here.\n",
    "As the mean value is highly influenced by extreme values,\n",
    "In the same link as before,\n",
    "Dimensions tells us they're using\n",
    "a shifted geometric mean with logarithmic formulation\n",
    "for everything regarding FCR.\n",
    "From their description,\n",
    "we know that:"
   ]
  },
  {
   "cell_type": "markdown",
   "metadata": {},
   "source": [
    "$$\n",
    "\\operatorname{geometric mean of} FCR =\n",
    "\\exp \\left[ \\frac{1}{N} \\sum_{i=1}^{N} \\ln(FCR_i + 1) \\right] - 1\n",
    "$$"
   ]
  },
  {
   "cell_type": "markdown",
   "metadata": {},
   "source": [
    "And the same idea applies for the average number of citations\n",
    "(by year and field of research)\n",
    "that is used to calculate the FCR."
   ]
  }
 ],
 "metadata": {
  "kernelspec": {
   "display_name": "Python 3",
   "language": "python",
   "name": "python3"
  },
  "language_info": {
   "codemirror_mode": {
    "name": "ipython",
    "version": 3
   },
   "file_extension": ".py",
   "mimetype": "text/x-python",
   "name": "python",
   "nbconvert_exporter": "python",
   "pygments_lexer": "ipython3",
   "version": "3.7.0"
  }
 },
 "nbformat": 4,
 "nbformat_minor": 2
}
