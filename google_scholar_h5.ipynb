{
 "cells": [
  {
   "cell_type": "markdown",
   "metadata": {},
   "source": [
    "# Hirsch indices from Google Scholar"
   ]
  },
  {
   "cell_type": "markdown",
   "metadata": {},
   "source": [
    "What's going on with the Google Scholar indices\n",
    "(h5-index or `h5`, h5-median or `m5`)\n",
    "of the journals in the SciELO network\n",
    "for each subject area?"
   ]
  },
  {
   "cell_type": "code",
   "execution_count": 1,
   "metadata": {},
   "outputs": [],
   "source": [
    "from collections import Counter\n",
    "from itertools import accumulate, chain\n",
    "from statistics import median"
   ]
  },
  {
   "cell_type": "code",
   "execution_count": 2,
   "metadata": {},
   "outputs": [],
   "source": [
    "import matplotlib.pyplot as plt\n",
    "import networkx as nx\n",
    "import numpy as np\n",
    "import pandas as pd\n",
    "import seaborn as sns"
   ]
  },
  {
   "cell_type": "code",
   "execution_count": 3,
   "metadata": {},
   "outputs": [],
   "source": [
    "pd.options.display.max_colwidth = 400\n",
    "pd.options.display.max_rows = 150\n",
    "%matplotlib inline"
   ]
  },
  {
   "cell_type": "markdown",
   "metadata": {},
   "source": [
    "## Loading the dataset"
   ]
  },
  {
   "cell_type": "markdown",
   "metadata": {},
   "source": [
    "Let's load the dataset with all journals in the SciELO network."
   ]
  },
  {
   "cell_type": "code",
   "execution_count": 4,
   "metadata": {},
   "outputs": [],
   "source": [
    "journals = pd.read_csv(\"tabs_network/journals.csv\")"
   ]
  },
  {
   "cell_type": "markdown",
   "metadata": {},
   "source": [
    "### Column normalization"
   ]
  },
  {
   "cell_type": "markdown",
   "metadata": {},
   "source": [
    "These are the column names in the raw CSV file:"
   ]
  },
  {
   "cell_type": "code",
   "execution_count": 5,
   "metadata": {},
   "outputs": [
    {
     "data": {
      "text/plain": [
       "Index(['extraction date', 'study unit', 'collection', 'ISSN SciELO', 'ISSN's',\n",
       "       'title at SciELO', 'title thematic areas',\n",
       "       'title is agricultural sciences', 'title is applied social sciences',\n",
       "       'title is biological sciences', 'title is engineering',\n",
       "       'title is exact and earth sciences', 'title is health sciences',\n",
       "       'title is human sciences', 'title is linguistics, letters and arts',\n",
       "       'title is multidisciplinary', 'title current status',\n",
       "       'title + subtitle SciELO', 'short title SciELO', 'short title ISO',\n",
       "       'title PubMed', 'publisher name', 'use license', 'alpha frequency',\n",
       "       'numeric frequency (in months)', 'inclusion year at SciELO',\n",
       "       'stopping year at SciELO', 'stopping reason',\n",
       "       'date of the first document', 'volume of the first document',\n",
       "       'issue of the first document', 'date of the last document',\n",
       "       'volume of the last document', 'issue of the last document',\n",
       "       'total of issues', 'issues at 2018', 'issues at 2017', 'issues at 2016',\n",
       "       'issues at 2015', 'issues at 2014', 'issues at 2013',\n",
       "       'total of regular issues', 'regular issues at 2018',\n",
       "       'regular issues at 2017', 'regular issues at 2016',\n",
       "       'regular issues at 2015', 'regular issues at 2014',\n",
       "       'regular issues at 2013', 'total of documents', 'documents at 2018',\n",
       "       'documents at 2017', 'documents at 2016', 'documents at 2015',\n",
       "       'documents at 2014', 'documents at 2013', 'citable documents',\n",
       "       'citable documents at 2018', 'citable documents at 2017',\n",
       "       'citable documents at 2016', 'citable documents at 2015',\n",
       "       'citable documents at 2014', 'citable documents at 2013',\n",
       "       'portuguese documents at 2018 ', 'portuguese documents at 2017 ',\n",
       "       'portuguese documents at 2016 ', 'portuguese documents at 2015 ',\n",
       "       'portuguese documents at 2014 ', 'portuguese documents at 2013 ',\n",
       "       'spanish documents at 2018 ', 'spanish documents at 2017 ',\n",
       "       'spanish documents at 2016 ', 'spanish documents at 2015 ',\n",
       "       'spanish documents at 2014 ', 'spanish documents at 2013 ',\n",
       "       'english documents at 2018 ', 'english documents at 2017 ',\n",
       "       'english documents at 2016 ', 'english documents at 2015 ',\n",
       "       'english documents at 2014 ', 'english documents at 2013 ',\n",
       "       'other language documents at 2018 ',\n",
       "       'other language documents at 2017 ',\n",
       "       'other language documents at 2016 ',\n",
       "       'other language documents at 2015 ',\n",
       "       'other language documents at 2014 ',\n",
       "       'other language documents at 2013 ', 'google scholar h5 2018 ',\n",
       "       'google scholar h5 2017 ', 'google scholar h5 2016 ',\n",
       "       'google scholar h5 2015 ', 'google scholar h5 2014 ',\n",
       "       'google scholar h5 2013 ', 'google scholar m5 2018 ',\n",
       "       'google scholar m5 2017 ', 'google scholar m5 2016 ',\n",
       "       'google scholar m5 2015 ', 'google scholar m5 2014 ',\n",
       "       'google scholar m5 2013 '],\n",
       "      dtype='object')"
      ]
     },
     "execution_count": 5,
     "metadata": {},
     "output_type": "execute_result"
    }
   ],
   "source": [
    "journals.columns"
   ]
  },
  {
   "cell_type": "markdown",
   "metadata": {},
   "source": [
    "The column names aren't helping us with all the small details\n",
    "like the trailing whitespace\n",
    "in the fields whose name starts with `google scholar`.\n",
    "The easiest approach is to run this normalization function\n",
    "from the column names simplification notebook:"
   ]
  },
  {
   "cell_type": "code",
   "execution_count": 6,
   "metadata": {},
   "outputs": [],
   "source": [
    "def normalize_column_title(name):\n",
    "    import re\n",
    "    name_unbracketed = re.sub(r\".*\\((.*)\\)\", r\"\\1\",\n",
    "                              name.replace(\"(in months)\", \"in_months\"))\n",
    "    words = re.sub(\"[^a-z0-9+_ ]\", \"\", name_unbracketed.lower()).split()\n",
    "    ignored_words = (\"at\", \"the\", \"of\", \"and\", \"google\", \"scholar\", \"+\")\n",
    "    replacements = {\n",
    "        \"document\": \"doc\",\n",
    "        \"documents\": \"docs\",\n",
    "        \"frequency\": \"freq\",\n",
    "        \"language\": \"lang\",\n",
    "    }\n",
    "    return \"_\".join(replacements.get(word, word)\n",
    "                    for word in words if word not in ignored_words) \\\n",
    "              .replace(\"title_is\", \"is\")"
   ]
  },
  {
   "cell_type": "markdown",
   "metadata": {},
   "source": [
    "Applying it is straightforward, and the order of the columns is kept as is."
   ]
  },
  {
   "cell_type": "code",
   "execution_count": 7,
   "metadata": {},
   "outputs": [
    {
     "data": {
      "text/plain": [
       "Index(['extraction_date', 'study_unit', 'collection', 'issn_scielo', 'issns',\n",
       "       'title_scielo', 'title_thematic_areas', 'is_agricultural_sciences',\n",
       "       'is_applied_social_sciences', 'is_biological_sciences',\n",
       "       'is_engineering', 'is_exact_earth_sciences', 'is_health_sciences',\n",
       "       'is_human_sciences', 'is_linguistics_letters_arts',\n",
       "       'is_multidisciplinary', 'title_current_status', 'title_subtitle_scielo',\n",
       "       'short_title_scielo', 'short_iso', 'title_pubmed', 'publisher_name',\n",
       "       'use_license', 'alpha_freq', 'numeric_freq_in_months',\n",
       "       'inclusion_year_scielo', 'stopping_year_scielo', 'stopping_reason',\n",
       "       'date_first_doc', 'volume_first_doc', 'issue_first_doc',\n",
       "       'date_last_doc', 'volume_last_doc', 'issue_last_doc', 'total_issues',\n",
       "       'issues_2018', 'issues_2017', 'issues_2016', 'issues_2015',\n",
       "       'issues_2014', 'issues_2013', 'total_regular_issues',\n",
       "       'regular_issues_2018', 'regular_issues_2017', 'regular_issues_2016',\n",
       "       'regular_issues_2015', 'regular_issues_2014', 'regular_issues_2013',\n",
       "       'total_docs', 'docs_2018', 'docs_2017', 'docs_2016', 'docs_2015',\n",
       "       'docs_2014', 'docs_2013', 'citable_docs', 'citable_docs_2018',\n",
       "       'citable_docs_2017', 'citable_docs_2016', 'citable_docs_2015',\n",
       "       'citable_docs_2014', 'citable_docs_2013', 'portuguese_docs_2018',\n",
       "       'portuguese_docs_2017', 'portuguese_docs_2016', 'portuguese_docs_2015',\n",
       "       'portuguese_docs_2014', 'portuguese_docs_2013', 'spanish_docs_2018',\n",
       "       'spanish_docs_2017', 'spanish_docs_2016', 'spanish_docs_2015',\n",
       "       'spanish_docs_2014', 'spanish_docs_2013', 'english_docs_2018',\n",
       "       'english_docs_2017', 'english_docs_2016', 'english_docs_2015',\n",
       "       'english_docs_2014', 'english_docs_2013', 'other_lang_docs_2018',\n",
       "       'other_lang_docs_2017', 'other_lang_docs_2016', 'other_lang_docs_2015',\n",
       "       'other_lang_docs_2014', 'other_lang_docs_2013', 'h5_2018', 'h5_2017',\n",
       "       'h5_2016', 'h5_2015', 'h5_2014', 'h5_2013', 'm5_2018', 'm5_2017',\n",
       "       'm5_2016', 'm5_2015', 'm5_2014', 'm5_2013'],\n",
       "      dtype='object')"
      ]
     },
     "execution_count": 7,
     "metadata": {},
     "output_type": "execute_result"
    }
   ],
   "source": [
    "journals.rename(columns=normalize_column_title, inplace=True)\n",
    "journals.columns"
   ]
  },
  {
   "cell_type": "markdown",
   "metadata": {},
   "source": [
    "### Thematic areas"
   ]
  },
  {
   "cell_type": "markdown",
   "metadata": {},
   "source": [
    "Based on the thematic area normalization notebook,\n",
    "these are the columns for each thematic area\n",
    "after column name normalization:"
   ]
  },
  {
   "cell_type": "code",
   "execution_count": 8,
   "metadata": {
    "scrolled": true
   },
   "outputs": [
    {
     "data": {
      "text/plain": [
       "['is_agricultural_sciences',\n",
       " 'is_applied_social_sciences',\n",
       " 'is_biological_sciences',\n",
       " 'is_engineering',\n",
       " 'is_exact_earth_sciences',\n",
       " 'is_health_sciences',\n",
       " 'is_human_sciences',\n",
       " 'is_linguistics_letters_arts']"
      ]
     },
     "execution_count": 8,
     "metadata": {},
     "output_type": "execute_result"
    }
   ],
   "source": [
    "areas_map = {\n",
    "    \"Agricultural Sciences\": \"is_agricultural_sciences\",\n",
    "    \"Applied Social Sciences\": \"is_applied_social_sciences\",\n",
    "    \"Biological Sciences\": \"is_biological_sciences\",\n",
    "    \"Engineering\": \"is_engineering\",\n",
    "    \"Exact and Earth Sciences\": \"is_exact_earth_sciences\",\n",
    "    \"Health Sciences\": \"is_health_sciences\",\n",
    "    \"Human Sciences\": \"is_human_sciences\",\n",
    "    \"Linguistics, Letters and Arts\": \"is_linguistics_letters_arts\",\n",
    "}\n",
    "areas = list(areas_map.values())\n",
    "areas"
   ]
  },
  {
   "cell_type": "markdown",
   "metadata": {},
   "source": [
    "One missing is the `is_multidisciplinary`,\n",
    "which is $1$\n",
    "if the journal has at least $3$ of the distinct thematic areas above,\n",
    "otherwise it's $0$."
   ]
  },
  {
   "cell_type": "code",
   "execution_count": 9,
   "metadata": {},
   "outputs": [],
   "source": [
    "areaswm = areas + [\"is_multidisciplinary\"]"
   ]
  },
  {
   "cell_type": "markdown",
   "metadata": {},
   "source": [
    "### Normalization"
   ]
  },
  {
   "cell_type": "markdown",
   "metadata": {},
   "source": [
    "We'll need the ISSN and the thematic areas,\n",
    "so these should be normalized.\n",
    "The code below follows the normalization notebooks for these fields."
   ]
  },
  {
   "cell_type": "code",
   "execution_count": 10,
   "metadata": {},
   "outputs": [],
   "source": [
    "# ISSN normalization\n",
    "issn_scielo_fix = {\"0001-6002\": \"0001-6012\",\n",
    "                   \"0258-6444\": \"2215-3535\",\n",
    "                   \"0325-8203\": \"1668-7027\",\n",
    "                   \"0719-448x\": \"0719-448X\",\n",
    "                   \"0797-9789\": \"1688-499X\",\n",
    "                   \"0807-8967\": \"0870-8967\",\n",
    "                   \"0858-6444\": \"0258-6444\",\n",
    "                   \"1315-5216\": \"1316-5216\",\n",
    "                   \"1667-8682\": \"1667-8982\",\n",
    "                   \"1678-5177\": \"0103-6564\",\n",
    "                   \"1683-0789\": \"1683-0768\",\n",
    "                   \"1688-4094\": \"1688-4221\",\n",
    "                   \"1852-4418\": \"1852-4184\",\n",
    "                   \"1980-5438\": \"0103-5665\",\n",
    "                   \"2175-3598\": \"0104-1282\",\n",
    "                   \"2233-7666\": \"2223-7666\",\n",
    "                   \"2237-101X\": \"1518-3319\",\n",
    "                   \"2993-6797\": \"2393-6797\"}\n",
    "journals[\"issn_scielo\"].replace(issn_scielo_fix, inplace=True)"
   ]
  },
  {
   "cell_type": "code",
   "execution_count": 11,
   "metadata": {},
   "outputs": [],
   "source": [
    "# Thematic area normalization\n",
    "tta_map = journals.groupby(\"issn_scielo\").apply(\n",
    "    lambda df: df.assign(title_thematic_areas=df[\"title_thematic_areas\"]\n",
    "                                              .replace(\"Psicanalise\",\n",
    "                                                       \"Human Sciences\")\n",
    "                                              .fillna(\"Human Sciences\"),\n",
    "                         order=df[\"collection\"].isin([\"sss\", \"psi\"]) |\n",
    "                               (df[\"title_thematic_areas\"] == \"Psicanalise\") |\n",
    "                               df[\"title_thematic_areas\"].isna())\n",
    "                 .sort_values(\"order\")[\"title_thematic_areas\"].iloc[0]\n",
    ")\n",
    "tta_text_n = journals[\"issn_scielo\"].map(tta_map) \\\n",
    "                                    .rename(\"title_thematic_areas\")\n",
    "tta_list_n = tta_text_n.str.split(\";\")\n",
    "tta_n = pd.DataFrame(tta_text_n).assign(**{\n",
    "    area: tta_list_n.apply((lambda n: lambda entries: int(n in entries))(name))\n",
    "    for name, area in areas_map.items()\n",
    "}).assign(is_multidisciplinary=lambda df: (df[areas].sum(axis=1) >= 3).map(int))\n",
    "journals = journals.assign(**tta_n)"
   ]
  },
  {
   "cell_type": "markdown",
   "metadata": {},
   "source": [
    "### Selecting the Google Scholar fields"
   ]
  },
  {
   "cell_type": "markdown",
   "metadata": {},
   "source": [
    "The fields regarding to the h5/m5 indices from Google Scholar are:"
   ]
  },
  {
   "cell_type": "code",
   "execution_count": 12,
   "metadata": {},
   "outputs": [
    {
     "data": {
      "text/plain": [
       "(['h5_2013', 'h5_2014', 'h5_2015', 'h5_2016', 'h5_2017', 'h5_2018'],\n",
       " ['m5_2013', 'm5_2014', 'm5_2015', 'm5_2016', 'm5_2017', 'm5_2018'])"
      ]
     },
     "execution_count": 12,
     "metadata": {},
     "output_type": "execute_result"
    }
   ],
   "source": [
    "h5_fields = sorted(k for k in journals.columns if k.startswith(\"h5\"))\n",
    "m5_fields = sorted(k for k in journals.columns if k.startswith(\"m5\"))\n",
    "h5_fields, m5_fields"
   ]
  },
  {
   "cell_type": "markdown",
   "metadata": {},
   "source": [
    "Are the h5/m5 fields consistent?"
   ]
  },
  {
   "cell_type": "code",
   "execution_count": 13,
   "metadata": {},
   "outputs": [
    {
     "data": {
      "text/plain": [
       "Series([], dtype: bool)"
      ]
     },
     "execution_count": 13,
     "metadata": {},
     "output_type": "execute_result"
    }
   ],
   "source": [
    "h5m5_inconsistency = journals.groupby(\"issn_scielo\")[h5_fields + m5_fields] \\\n",
    "    .apply(lambda df: df.apply(lambda col: set(col.dropna())).apply(len).max() > 1)\n",
    "h5m5_inconsistency[h5m5_inconsistency]"
   ]
  },
  {
   "cell_type": "markdown",
   "metadata": {},
   "source": [
    "Yes, they are!\n",
    "The only requirement we have regarding these fields\n",
    "is to ignore any possible `NaN` values."
   ]
  },
  {
   "cell_type": "markdown",
   "metadata": {},
   "source": [
    "Does every column have information?"
   ]
  },
  {
   "cell_type": "code",
   "execution_count": 14,
   "metadata": {},
   "outputs": [
    {
     "data": {
      "text/plain": [
       "['h5_2018', 'm5_2018']"
      ]
     },
     "execution_count": 14,
     "metadata": {},
     "output_type": "execute_result"
    }
   ],
   "source": [
    "h5m5_is_empty = journals[h5_fields + m5_fields].count() == 0\n",
    "h5m5_empty_list = list(h5m5_is_empty[h5m5_is_empty].index)\n",
    "h5m5_empty_list"
   ]
  },
  {
   "cell_type": "markdown",
   "metadata": {},
   "source": [
    "No! These two empty columns shown above have no use for us."
   ]
  },
  {
   "cell_type": "code",
   "execution_count": 15,
   "metadata": {},
   "outputs": [
    {
     "data": {
      "text/plain": [
       "['h5_2013',\n",
       " 'm5_2013',\n",
       " 'h5_2014',\n",
       " 'm5_2014',\n",
       " 'h5_2015',\n",
       " 'm5_2015',\n",
       " 'h5_2016',\n",
       " 'm5_2016',\n",
       " 'h5_2017',\n",
       " 'm5_2017']"
      ]
     },
     "execution_count": 15,
     "metadata": {},
     "output_type": "execute_result"
    }
   ],
   "source": [
    "h5_fields = [k for k in h5_fields if k not in h5m5_empty_list]\n",
    "m5_fields = [k for k in m5_fields if k not in h5m5_empty_list]\n",
    "gs_fields = list(chain(*zip(h5_fields, m5_fields)))\n",
    "gs_fields"
   ]
  },
  {
   "cell_type": "markdown",
   "metadata": {},
   "source": [
    "### Data de-duplication (building the dataset)"
   ]
  },
  {
   "cell_type": "markdown",
   "metadata": {},
   "source": [
    "A missing normalization step regards to this issue:\n",
    "there should be no more than a single entry for each journal.\n",
    "Since there are many journals that in more than one collection,\n",
    "we have data duplication.\n",
    "The normalization step already enforced\n",
    "that any of these rows have the same thematic area,\n",
    "besides a common `issn_scielo` that can be regarded as its *primary key*.\n",
    "As we've seen in the Google Scholar indices section,\n",
    "the indices are consistent, as long as we coalesce the `NaN` entries.\n",
    "\n",
    "Now that we're aware of that, let's remove the duplicate entries."
   ]
  },
  {
   "cell_type": "markdown",
   "metadata": {},
   "source": [
    "The renamed columns we'll need are\n",
    "(these names are the ones after the renaming step):"
   ]
  },
  {
   "cell_type": "code",
   "execution_count": 16,
   "metadata": {},
   "outputs": [
    {
     "data": {
      "text/plain": [
       "['issn_scielo',\n",
       " 'h5_2013',\n",
       " 'm5_2013',\n",
       " 'h5_2014',\n",
       " 'm5_2014',\n",
       " 'h5_2015',\n",
       " 'm5_2015',\n",
       " 'h5_2016',\n",
       " 'm5_2016',\n",
       " 'h5_2017',\n",
       " 'm5_2017',\n",
       " 'is_agricultural_sciences',\n",
       " 'is_applied_social_sciences',\n",
       " 'is_biological_sciences',\n",
       " 'is_engineering',\n",
       " 'is_exact_earth_sciences',\n",
       " 'is_health_sciences',\n",
       " 'is_human_sciences',\n",
       " 'is_linguistics_letters_arts',\n",
       " 'is_multidisciplinary']"
      ]
     },
     "execution_count": 16,
     "metadata": {},
     "output_type": "execute_result"
    }
   ],
   "source": [
    "columns = [\"issn_scielo\"] + gs_fields + areaswm\n",
    "columns"
   ]
  },
  {
   "cell_type": "markdown",
   "metadata": {},
   "source": [
    "Since everything is already normalized,\n",
    "getting the dataset is straightforward:"
   ]
  },
  {
   "cell_type": "code",
   "execution_count": 17,
   "metadata": {},
   "outputs": [
    {
     "data": {
      "text/html": [
       "<div>\n",
       "<style scoped>\n",
       "    .dataframe tbody tr th:only-of-type {\n",
       "        vertical-align: middle;\n",
       "    }\n",
       "\n",
       "    .dataframe tbody tr th {\n",
       "        vertical-align: top;\n",
       "    }\n",
       "\n",
       "    .dataframe thead th {\n",
       "        text-align: right;\n",
       "    }\n",
       "</style>\n",
       "<table border=\"1\" class=\"dataframe\">\n",
       "  <thead>\n",
       "    <tr style=\"text-align: right;\">\n",
       "      <th>issn_scielo</th>\n",
       "      <th>0001-3714</th>\n",
       "      <th>0001-3765</th>\n",
       "      <th>0001-6012</th>\n",
       "      <th>0001-6365</th>\n",
       "      <th>0002-0591</th>\n",
       "    </tr>\n",
       "  </thead>\n",
       "  <tbody>\n",
       "    <tr>\n",
       "      <th>h5_2013</th>\n",
       "      <td>NaN</td>\n",
       "      <td>19.0</td>\n",
       "      <td>NaN</td>\n",
       "      <td>NaN</td>\n",
       "      <td>3.0</td>\n",
       "    </tr>\n",
       "    <tr>\n",
       "      <th>m5_2013</th>\n",
       "      <td>NaN</td>\n",
       "      <td>28.0</td>\n",
       "      <td>NaN</td>\n",
       "      <td>NaN</td>\n",
       "      <td>5.0</td>\n",
       "    </tr>\n",
       "    <tr>\n",
       "      <th>h5_2014</th>\n",
       "      <td>NaN</td>\n",
       "      <td>19.0</td>\n",
       "      <td>NaN</td>\n",
       "      <td>NaN</td>\n",
       "      <td>3.0</td>\n",
       "    </tr>\n",
       "    <tr>\n",
       "      <th>m5_2014</th>\n",
       "      <td>NaN</td>\n",
       "      <td>31.0</td>\n",
       "      <td>NaN</td>\n",
       "      <td>NaN</td>\n",
       "      <td>5.0</td>\n",
       "    </tr>\n",
       "    <tr>\n",
       "      <th>h5_2015</th>\n",
       "      <td>NaN</td>\n",
       "      <td>19.0</td>\n",
       "      <td>NaN</td>\n",
       "      <td>NaN</td>\n",
       "      <td>4.0</td>\n",
       "    </tr>\n",
       "    <tr>\n",
       "      <th>m5_2015</th>\n",
       "      <td>NaN</td>\n",
       "      <td>24.0</td>\n",
       "      <td>NaN</td>\n",
       "      <td>NaN</td>\n",
       "      <td>4.0</td>\n",
       "    </tr>\n",
       "    <tr>\n",
       "      <th>h5_2016</th>\n",
       "      <td>NaN</td>\n",
       "      <td>18.0</td>\n",
       "      <td>6.0</td>\n",
       "      <td>NaN</td>\n",
       "      <td>5.0</td>\n",
       "    </tr>\n",
       "    <tr>\n",
       "      <th>m5_2016</th>\n",
       "      <td>NaN</td>\n",
       "      <td>25.0</td>\n",
       "      <td>7.0</td>\n",
       "      <td>NaN</td>\n",
       "      <td>5.0</td>\n",
       "    </tr>\n",
       "    <tr>\n",
       "      <th>h5_2017</th>\n",
       "      <td>NaN</td>\n",
       "      <td>16.0</td>\n",
       "      <td>7.0</td>\n",
       "      <td>NaN</td>\n",
       "      <td>5.0</td>\n",
       "    </tr>\n",
       "    <tr>\n",
       "      <th>m5_2017</th>\n",
       "      <td>NaN</td>\n",
       "      <td>19.0</td>\n",
       "      <td>11.0</td>\n",
       "      <td>NaN</td>\n",
       "      <td>6.0</td>\n",
       "    </tr>\n",
       "    <tr>\n",
       "      <th>is_agricultural_sciences</th>\n",
       "      <td>1.0</td>\n",
       "      <td>1.0</td>\n",
       "      <td>0.0</td>\n",
       "      <td>0.0</td>\n",
       "      <td>0.0</td>\n",
       "    </tr>\n",
       "    <tr>\n",
       "      <th>is_applied_social_sciences</th>\n",
       "      <td>0.0</td>\n",
       "      <td>0.0</td>\n",
       "      <td>0.0</td>\n",
       "      <td>0.0</td>\n",
       "      <td>0.0</td>\n",
       "    </tr>\n",
       "    <tr>\n",
       "      <th>is_biological_sciences</th>\n",
       "      <td>1.0</td>\n",
       "      <td>1.0</td>\n",
       "      <td>0.0</td>\n",
       "      <td>0.0</td>\n",
       "      <td>0.0</td>\n",
       "    </tr>\n",
       "    <tr>\n",
       "      <th>is_engineering</th>\n",
       "      <td>0.0</td>\n",
       "      <td>1.0</td>\n",
       "      <td>0.0</td>\n",
       "      <td>0.0</td>\n",
       "      <td>0.0</td>\n",
       "    </tr>\n",
       "    <tr>\n",
       "      <th>is_exact_earth_sciences</th>\n",
       "      <td>0.0</td>\n",
       "      <td>1.0</td>\n",
       "      <td>0.0</td>\n",
       "      <td>0.0</td>\n",
       "      <td>0.0</td>\n",
       "    </tr>\n",
       "    <tr>\n",
       "      <th>is_health_sciences</th>\n",
       "      <td>0.0</td>\n",
       "      <td>1.0</td>\n",
       "      <td>1.0</td>\n",
       "      <td>1.0</td>\n",
       "      <td>0.0</td>\n",
       "    </tr>\n",
       "    <tr>\n",
       "      <th>is_human_sciences</th>\n",
       "      <td>0.0</td>\n",
       "      <td>1.0</td>\n",
       "      <td>1.0</td>\n",
       "      <td>0.0</td>\n",
       "      <td>1.0</td>\n",
       "    </tr>\n",
       "    <tr>\n",
       "      <th>is_linguistics_letters_arts</th>\n",
       "      <td>0.0</td>\n",
       "      <td>0.0</td>\n",
       "      <td>0.0</td>\n",
       "      <td>0.0</td>\n",
       "      <td>0.0</td>\n",
       "    </tr>\n",
       "    <tr>\n",
       "      <th>is_multidisciplinary</th>\n",
       "      <td>0.0</td>\n",
       "      <td>1.0</td>\n",
       "      <td>0.0</td>\n",
       "      <td>0.0</td>\n",
       "      <td>0.0</td>\n",
       "    </tr>\n",
       "  </tbody>\n",
       "</table>\n",
       "</div>"
      ],
      "text/plain": [
       "issn_scielo                  0001-3714  0001-3765  0001-6012  0001-6365  \\\n",
       "h5_2013                            NaN       19.0        NaN        NaN   \n",
       "m5_2013                            NaN       28.0        NaN        NaN   \n",
       "h5_2014                            NaN       19.0        NaN        NaN   \n",
       "m5_2014                            NaN       31.0        NaN        NaN   \n",
       "h5_2015                            NaN       19.0        NaN        NaN   \n",
       "m5_2015                            NaN       24.0        NaN        NaN   \n",
       "h5_2016                            NaN       18.0        6.0        NaN   \n",
       "m5_2016                            NaN       25.0        7.0        NaN   \n",
       "h5_2017                            NaN       16.0        7.0        NaN   \n",
       "m5_2017                            NaN       19.0       11.0        NaN   \n",
       "is_agricultural_sciences           1.0        1.0        0.0        0.0   \n",
       "is_applied_social_sciences         0.0        0.0        0.0        0.0   \n",
       "is_biological_sciences             1.0        1.0        0.0        0.0   \n",
       "is_engineering                     0.0        1.0        0.0        0.0   \n",
       "is_exact_earth_sciences            0.0        1.0        0.0        0.0   \n",
       "is_health_sciences                 0.0        1.0        1.0        1.0   \n",
       "is_human_sciences                  0.0        1.0        1.0        0.0   \n",
       "is_linguistics_letters_arts        0.0        0.0        0.0        0.0   \n",
       "is_multidisciplinary               0.0        1.0        0.0        0.0   \n",
       "\n",
       "issn_scielo                  0002-0591  \n",
       "h5_2013                            3.0  \n",
       "m5_2013                            5.0  \n",
       "h5_2014                            3.0  \n",
       "m5_2014                            5.0  \n",
       "h5_2015                            4.0  \n",
       "m5_2015                            4.0  \n",
       "h5_2016                            5.0  \n",
       "m5_2016                            5.0  \n",
       "h5_2017                            5.0  \n",
       "m5_2017                            6.0  \n",
       "is_agricultural_sciences           0.0  \n",
       "is_applied_social_sciences         0.0  \n",
       "is_biological_sciences             0.0  \n",
       "is_engineering                     0.0  \n",
       "is_exact_earth_sciences            0.0  \n",
       "is_health_sciences                 0.0  \n",
       "is_human_sciences                  1.0  \n",
       "is_linguistics_letters_arts        0.0  \n",
       "is_multidisciplinary               0.0  "
      ]
     },
     "execution_count": 17,
     "metadata": {},
     "output_type": "execute_result"
    }
   ],
   "source": [
    "dataset = journals[columns].groupby(\"issn_scielo\").agg(\"max\")\n",
    "dataset.head().T"
   ]
  },
  {
   "cell_type": "markdown",
   "metadata": {},
   "source": [
    "There's a lot of `NaN`s!\n",
    "Let's see what we can do with that information."
   ]
  },
  {
   "cell_type": "markdown",
   "metadata": {},
   "source": [
    "## Understanding the Hirsch index"
   ]
  },
  {
   "cell_type": "markdown",
   "metadata": {},
   "source": [
    "The dataset is ready,\n",
    "but before we start exploring the data,\n",
    "it makes sense to know\n",
    "what's the meaning of the Google Scholar indices columns."
   ]
  },
  {
   "cell_type": "markdown",
   "metadata": {},
   "source": [
    "### Definition"
   ]
  },
  {
   "cell_type": "markdown",
   "metadata": {},
   "source": [
    "In the\n",
    "[Google Scholar top publications web page](https://scholar.google.com/citations?view_op=top_venues)\n",
    "we can see the definition of the *h5-index* and *h5-median*\n",
    "(the `h5_*` and `m5_*` columns of the dataset, respectively).\n",
    "It defines:\n",
    "\n",
    "> h5-index is the h-index for articles published in the last 5 complete years. It is the largest number h such that h articles published in 2013-2017 have at least h citations each.\n",
    "\n",
    "> h5-median for a publication is the median number of citations for the articles that make up its h5-index."
   ]
  },
  {
   "cell_type": "markdown",
   "metadata": {},
   "source": [
    "The Hirsch index for a graph is:\n",
    "\n",
    "$$\n",
    "h_{journal} =\n",
    "  \\max_{node_i \\in journal} \\left\\{\n",
    "    \\min \\left[\n",
    "      \\operatorname{in-degree}(node_i),\n",
    "      \\sum_{\\substack{\n",
    "        node_j \\in journal \\\\\n",
    "        \\operatorname{in-degree}(node_j) \\ge\n",
    "        \\operatorname{in-degree}(node_i)\n",
    "      }} 1\n",
    "    \\right]\n",
    "  \\right\\}\n",
    "$$\n",
    "\n",
    "Where the Google Scholar's `h5-index` is just the Hirsch index for a journal\n",
    "in the directed graph of articles (nodes) connected by citations (edges)\n",
    "in the last completed $5$ years,\n",
    "including the edges coming from other journals.\n",
    "The *in-degree* of an article\n",
    "is the number of citations it received in the network."
   ]
  },
  {
   "cell_type": "markdown",
   "metadata": {},
   "source": [
    "And, by the above definition, the Google Scholar's `h5-median` is:\n",
    "\n",
    "$$\n",
    "\\underset{_{\\substack{\n",
    "  node_i \\in journal \\\\\n",
    "  \\operatorname{in-degree}(node_i) \\ge h_{journal}\n",
    "}}}{\\operatorname{median}}\n",
    "\\left[ \\operatorname{in-degree}(node_i) \\right]\n",
    "$$\n",
    "\n",
    "Which means that $\\text{h5-median} \\ge \\text{h5-index}$."
   ]
  },
  {
   "cell_type": "markdown",
   "metadata": {},
   "source": [
    "### Simplified explanation of the Hirsch index definition"
   ]
  },
  {
   "cell_type": "markdown",
   "metadata": {},
   "source": [
    "The mathematical definition of the index might *look* complicated,\n",
    "but thinking on it iteratively\n",
    "and avoiding the graph theory jargon (*degree* and *node*)\n",
    "might make its logic quite straightforward:\n",
    "\n",
    "* The context is the citation network of all articles\n",
    "  from $2013$ to $2017$ in Google Scholar.\n",
    "* Let's select the nodes of a specific journal $J$;\n",
    "* The Hirsch index couldn't be less than $0$, so let's say it's at least $0$;\n",
    "* Is there at least $1$ article from $J$\n",
    "  receiving at least $1$ citation in the network?\n",
    "  If yes, then the Hirsch index is at least $1$;\n",
    "* Are there at least $2$ articles from $J$\n",
    "  receiving at least $2$ citations in the network?\n",
    "  If yes, then the Hirsch index is at least $2$;\n",
    "* ...\n",
    "* Are there at least $h$ articles from $J$\n",
    "  receiving at least $h$ citations in the network?\n",
    "  If yes, then the Hirsch index is at least $h$;\n",
    "* Are there at least $h+1$ articles from $J$\n",
    "  receiving at least $h+1$ citations in the network?\n",
    "  If not, then the Hirsch index is smaller than $h+1$,\n",
    "  and since it's a whole number,\n",
    "  it's the last ceiling we've found: $h$.\n"
   ]
  },
  {
   "cell_type": "markdown",
   "metadata": {},
   "source": [
    "### Implementation using a NetworkX directed graph"
   ]
  },
  {
   "cell_type": "markdown",
   "metadata": {},
   "source": [
    "Given the citation graph as an instance of `nx.DiGraph`\n",
    "and a selected set of nodes\n",
    "(the journal's articles in the graph),\n",
    "the following functions calculate the `h5-index` and `h5-median`."
   ]
  },
  {
   "cell_type": "code",
   "execution_count": 18,
   "metadata": {},
   "outputs": [],
   "source": [
    "def h_index(graph, nodes=None):\n",
    "    if nodes is None:\n",
    "        nodes = graph.nodes\n",
    "    degree_counts = Counter(degree for node, degree in graph.in_degree\n",
    "                                   if node in nodes)\n",
    "    degrees, counts = zip(*sorted(degree_counts.items(), reverse=True))\n",
    "    cum_counts = accumulate(counts)\n",
    "    return max(min(degree, cc) for degree, cc in zip(degrees, cum_counts))"
   ]
  },
  {
   "cell_type": "code",
   "execution_count": 19,
   "metadata": {},
   "outputs": [],
   "source": [
    "def h_median(graph, nodes=None, h=None):\n",
    "    if nodes is None:\n",
    "        nodes = graph.nodes\n",
    "    if h is None:\n",
    "        h = h_index(graph, nodes)\n",
    "    return median(degree for node, degree in graph.in_degree\n",
    "                         if node in nodes and degree >= h)"
   ]
  },
  {
   "cell_type": "markdown",
   "metadata": {},
   "source": [
    "By default, these functions use all nodes in the graph,\n",
    "and since the median calculation depends on the Hirsch index,\n",
    "it's also an optional input (by default, it'll calculate the index)."
   ]
  },
  {
   "cell_type": "markdown",
   "metadata": {},
   "source": [
    "### Example"
   ]
  },
  {
   "cell_type": "markdown",
   "metadata": {},
   "source": [
    "This dataset doesn't have a full citation graph\n",
    "including citations from external journals,\n",
    "so we will just create arbitrary/random graphs\n",
    "as examples for the calculation of these indices.\n",
    "\n",
    "Suppose we have a citation network of a single journal,\n",
    "like this:"
   ]
  },
  {
   "cell_type": "code",
   "execution_count": 20,
   "metadata": {},
   "outputs": [
    {
     "name": "stdout",
     "output_type": "stream",
     "text": [
      "h5-index: 1\n",
      "h5-median: 2.5\n"
     ]
    },
    {
     "data": {
      "image/png": "[encoded data removed]",
      "text/plain": [
       "<Figure size 432x288 with 1 Axes>"
      ]
     },
     "metadata": {},
     "output_type": "display_data"
    }
   ],
   "source": [
    "arbitrary_citation_graph = nx.DiGraph([(1, 0), (2, 1), (3, 0), (4, 0), (5, 0)])\n",
    "nx.draw(arbitrary_citation_graph,\n",
    "        pos=nx.spring_layout(arbitrary_citation_graph, random_state=42),\n",
    "        font_color=\"w\",\n",
    "        with_labels=True)\n",
    "print(f\"h5-index: {h_index(arbitrary_citation_graph)}\")\n",
    "print(f\"h5-median: {h_median(arbitrary_citation_graph)}\")"
   ]
  },
  {
   "cell_type": "markdown",
   "metadata": {},
   "source": [
    "The number of citations for each numbered node from $0$ to $5$ is:"
   ]
  },
  {
   "cell_type": "code",
   "execution_count": 21,
   "metadata": {},
   "outputs": [
    {
     "data": {
      "text/plain": [
       "[4, 1, 0, 0, 0, 0]"
      ]
     },
     "execution_count": 21,
     "metadata": {},
     "output_type": "execute_result"
    }
   ],
   "source": [
    "[degree for node, degree in sorted(arbitrary_citation_graph.in_degree)]"
   ]
  },
  {
   "cell_type": "markdown",
   "metadata": {},
   "source": [
    "The Hirsch index couldn't be $2$\n",
    "as there's only a single article with more than a single citation."
   ]
  },
  {
   "cell_type": "markdown",
   "metadata": {},
   "source": [
    "Another example:"
   ]
  },
  {
   "cell_type": "code",
   "execution_count": 22,
   "metadata": {},
   "outputs": [
    {
     "name": "stdout",
     "output_type": "stream",
     "text": [
      "h5-index: 2\n",
      "h5-median: 4\n"
     ]
    },
    {
     "data": {
      "image/png": "[encoded data removed]",
      "text/plain": [
       "<Figure size 432x288 with 1 Axes>"
      ]
     },
     "metadata": {},
     "output_type": "display_data"
    }
   ],
   "source": [
    "random_citation_graph = nx.gn_graph(15, seed=0)\n",
    "nx.draw(random_citation_graph,\n",
    "        pos=nx.spring_layout(random_citation_graph, random_state=42),\n",
    "        font_color=\"w\",\n",
    "        with_labels=True)\n",
    "print(f\"h5-index: {h_index(random_citation_graph)}\")\n",
    "print(f\"h5-median: {h_median(random_citation_graph)}\")"
   ]
  },
  {
   "cell_type": "markdown",
   "metadata": {},
   "source": [
    "For each numbered node sorted in ascending order,\n",
    "the number of citations is:"
   ]
  },
  {
   "cell_type": "code",
   "execution_count": 23,
   "metadata": {},
   "outputs": [
    {
     "data": {
      "text/plain": [
       "[1, 5, 4, 2, 1, 0, 0, 0, 0, 1, 0, 0, 0, 0, 0]"
      ]
     },
     "execution_count": 23,
     "metadata": {},
     "output_type": "execute_result"
    }
   ],
   "source": [
    "[degree for node, degree in sorted(random_citation_graph.in_degree)]"
   ]
  },
  {
   "cell_type": "markdown",
   "metadata": {},
   "source": [
    "The only entries greater or equal to $2$ (the Hirsch index)\n",
    "are $[5, 4, 2]$, whose median is $4$.\n",
    "If that entry with $2$ citations had been received $3$ citations instead,\n",
    "this graph would have an Hirsch index of $3$.\n",
    "\n",
    "Let the even and odd indexed nodes be from two distinct journals,\n",
    "then this analysis of each journal would be:\n",
    "\n",
    "* $[1, 4, 1, 0, 0, 0, 0, 0]$ citations for each article,\n",
    "  $\\text{h5-index} = 1$ and $\\text{h5-median} = 1$;\n",
    "* $[5, 2, 0, 0, 1, 0, 0]$ citations for each article,\n",
    "  $\\text{h5-index} = 2$ and $\\text{h5-median} = 3.5$."
   ]
  },
  {
   "cell_type": "markdown",
   "metadata": {},
   "source": [
    "## Exploratory data analysis"
   ]
  },
  {
   "cell_type": "markdown",
   "metadata": {},
   "source": [
    "Though we have information about every thematic area,\n",
    "we don't have the Google Scholar indices\n",
    "for all the documents/articles:"
   ]
  },
  {
   "cell_type": "code",
   "execution_count": 24,
   "metadata": {},
   "outputs": [
    {
     "name": "stdout",
     "output_type": "stream",
     "text": [
      "(1642, 19)\n"
     ]
    },
    {
     "data": {
      "text/plain": [
       "h5_2013                         265\n",
       "m5_2013                         265\n",
       "h5_2014                         266\n",
       "m5_2014                         266\n",
       "h5_2015                         803\n",
       "m5_2015                         803\n",
       "h5_2016                         772\n",
       "m5_2016                         772\n",
       "h5_2017                         923\n",
       "m5_2017                         923\n",
       "is_agricultural_sciences       1642\n",
       "is_applied_social_sciences     1642\n",
       "is_biological_sciences         1642\n",
       "is_engineering                 1642\n",
       "is_exact_earth_sciences        1642\n",
       "is_health_sciences             1642\n",
       "is_human_sciences              1642\n",
       "is_linguistics_letters_arts    1642\n",
       "is_multidisciplinary           1642\n",
       "dtype: int64"
      ]
     },
     "execution_count": 24,
     "metadata": {},
     "output_type": "execute_result"
    }
   ],
   "source": [
    "print(dataset.shape)\n",
    "dataset.count()"
   ]
  },
  {
   "cell_type": "markdown",
   "metadata": {},
   "source": [
    "The `h5` and `m5` are pairs, having one means we have the other one.\n",
    "\n",
    "We have that index for $\\approx 56.2\\%$ of the data in $2017$."
   ]
  },
  {
   "cell_type": "code",
   "execution_count": 25,
   "metadata": {},
   "outputs": [
    {
     "data": {
      "text/plain": [
       "0.5621193666260658"
      ]
     },
     "execution_count": 25,
     "metadata": {},
     "output_type": "execute_result"
    }
   ],
   "source": [
    "dataset[\"h5_2017\"].count() / dataset.shape[0]"
   ]
  },
  {
   "cell_type": "markdown",
   "metadata": {},
   "source": [
    "We should emphasize the $2017$ data,\n",
    "as it has way more information than the remaining of the data."
   ]
  }
 ],
 "metadata": {
  "kernelspec": {
   "display_name": "Python 3",
   "language": "python",
   "name": "python3"
  },
  "language_info": {
   "codemirror_mode": {
    "name": "ipython",
    "version": 3
   },
   "file_extension": ".py",
   "mimetype": "text/x-python",
   "name": "python",
   "nbconvert_exporter": "python",
   "pygments_lexer": "ipython3",
   "version": "3.7.0"
  }
 },
 "nbformat": 4,
 "nbformat_minor": 2
}
