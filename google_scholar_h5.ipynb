{
 "cells": [
  {
   "cell_type": "markdown",
   "metadata": {},
   "source": [
    "# Hirsch indices from Google Scholar"
   ]
  },
  {
   "cell_type": "markdown",
   "metadata": {},
   "source": [
    "What's going on with the Google Scholar indices\n",
    "(h5-index or `h5`, h5-median or `m5`)\n",
    "of the journals in the SciELO network\n",
    "for each subject area?"
   ]
  },
  {
   "cell_type": "code",
   "execution_count": 1,
   "metadata": {},
   "outputs": [],
   "source": [
    "from collections import Counter\n",
    "from itertools import accumulate, chain\n",
    "from statistics import median"
   ]
  },
  {
   "cell_type": "code",
   "execution_count": 2,
   "metadata": {},
   "outputs": [],
   "source": [
    "import matplotlib.pyplot as plt\n",
    "import networkx as nx\n",
    "import numpy as np\n",
    "import pandas as pd\n",
    "import seaborn as sns"
   ]
  },
  {
   "cell_type": "code",
   "execution_count": 3,
   "metadata": {},
   "outputs": [],
   "source": [
    "pd.options.display.max_colwidth = 400\n",
    "pd.options.display.max_rows = 150\n",
    "%matplotlib inline"
   ]
  },
  {
   "cell_type": "markdown",
   "metadata": {},
   "source": [
    "## Loading the dataset"
   ]
  },
  {
   "cell_type": "markdown",
   "metadata": {},
   "source": [
    "Let's load the dataset with all journals in the SciELO network."
   ]
  },
  {
   "cell_type": "code",
   "execution_count": 4,
   "metadata": {},
   "outputs": [],
   "source": [
    "journals = pd.read_csv(\"tabs_network/journals.csv\")"
   ]
  },
  {
   "cell_type": "markdown",
   "metadata": {},
   "source": [
    "### Column normalization"
   ]
  },
  {
   "cell_type": "markdown",
   "metadata": {},
   "source": [
    "These are the column names in the raw CSV file:"
   ]
  },
  {
   "cell_type": "code",
   "execution_count": 5,
   "metadata": {},
   "outputs": [
    {
     "data": {
      "text/plain": [
       "Index(['extraction date', 'study unit', 'collection', 'ISSN SciELO', 'ISSN's',\n",
       "       'title at SciELO', 'title thematic areas',\n",
       "       'title is agricultural sciences', 'title is applied social sciences',\n",
       "       'title is biological sciences', 'title is engineering',\n",
       "       'title is exact and earth sciences', 'title is health sciences',\n",
       "       'title is human sciences', 'title is linguistics, letters and arts',\n",
       "       'title is multidisciplinary', 'title current status',\n",
       "       'title + subtitle SciELO', 'short title SciELO', 'short title ISO',\n",
       "       'title PubMed', 'publisher name', 'use license', 'alpha frequency',\n",
       "       'numeric frequency (in months)', 'inclusion year at SciELO',\n",
       "       'stopping year at SciELO', 'stopping reason',\n",
       "       'date of the first document', 'volume of the first document',\n",
       "       'issue of the first document', 'date of the last document',\n",
       "       'volume of the last document', 'issue of the last document',\n",
       "       'total of issues', 'issues at 2018', 'issues at 2017', 'issues at 2016',\n",
       "       'issues at 2015', 'issues at 2014', 'issues at 2013',\n",
       "       'total of regular issues', 'regular issues at 2018',\n",
       "       'regular issues at 2017', 'regular issues at 2016',\n",
       "       'regular issues at 2015', 'regular issues at 2014',\n",
       "       'regular issues at 2013', 'total of documents', 'documents at 2018',\n",
       "       'documents at 2017', 'documents at 2016', 'documents at 2015',\n",
       "       'documents at 2014', 'documents at 2013', 'citable documents',\n",
       "       'citable documents at 2018', 'citable documents at 2017',\n",
       "       'citable documents at 2016', 'citable documents at 2015',\n",
       "       'citable documents at 2014', 'citable documents at 2013',\n",
       "       'portuguese documents at 2018 ', 'portuguese documents at 2017 ',\n",
       "       'portuguese documents at 2016 ', 'portuguese documents at 2015 ',\n",
       "       'portuguese documents at 2014 ', 'portuguese documents at 2013 ',\n",
       "       'spanish documents at 2018 ', 'spanish documents at 2017 ',\n",
       "       'spanish documents at 2016 ', 'spanish documents at 2015 ',\n",
       "       'spanish documents at 2014 ', 'spanish documents at 2013 ',\n",
       "       'english documents at 2018 ', 'english documents at 2017 ',\n",
       "       'english documents at 2016 ', 'english documents at 2015 ',\n",
       "       'english documents at 2014 ', 'english documents at 2013 ',\n",
       "       'other language documents at 2018 ',\n",
       "       'other language documents at 2017 ',\n",
       "       'other language documents at 2016 ',\n",
       "       'other language documents at 2015 ',\n",
       "       'other language documents at 2014 ',\n",
       "       'other language documents at 2013 ', 'google scholar h5 2018 ',\n",
       "       'google scholar h5 2017 ', 'google scholar h5 2016 ',\n",
       "       'google scholar h5 2015 ', 'google scholar h5 2014 ',\n",
       "       'google scholar h5 2013 ', 'google scholar m5 2018 ',\n",
       "       'google scholar m5 2017 ', 'google scholar m5 2016 ',\n",
       "       'google scholar m5 2015 ', 'google scholar m5 2014 ',\n",
       "       'google scholar m5 2013 '],\n",
       "      dtype='object')"
      ]
     },
     "execution_count": 5,
     "metadata": {},
     "output_type": "execute_result"
    }
   ],
   "source": [
    "journals.columns"
   ]
  },
  {
   "cell_type": "markdown",
   "metadata": {},
   "source": [
    "The column names aren't helping us with all the small details\n",
    "like the trailing whitespace\n",
    "in the fields whose name starts with `google scholar`.\n",
    "The easiest approach is to run this normalization function\n",
    "from the column names simplification notebook:"
   ]
  },
  {
   "cell_type": "code",
   "execution_count": 6,
   "metadata": {},
   "outputs": [],
   "source": [
    "def normalize_column_title(name):\n",
    "    import re\n",
    "    name_unbracketed = re.sub(r\".*\\((.*)\\)\", r\"\\1\",\n",
    "                              name.replace(\"(in months)\", \"in_months\"))\n",
    "    words = re.sub(\"[^a-z0-9+_ ]\", \"\", name_unbracketed.lower()).split()\n",
    "    ignored_words = (\"at\", \"the\", \"of\", \"and\", \"google\", \"scholar\", \"+\")\n",
    "    replacements = {\n",
    "        \"document\": \"doc\",\n",
    "        \"documents\": \"docs\",\n",
    "        \"frequency\": \"freq\",\n",
    "        \"language\": \"lang\",\n",
    "    }\n",
    "    return \"_\".join(replacements.get(word, word)\n",
    "                    for word in words if word not in ignored_words) \\\n",
    "              .replace(\"title_is\", \"is\")"
   ]
  },
  {
   "cell_type": "markdown",
   "metadata": {},
   "source": [
    "Applying it is straightforward, and the order of the columns is kept as is."
   ]
  },
  {
   "cell_type": "code",
   "execution_count": 7,
   "metadata": {},
   "outputs": [
    {
     "data": {
      "text/plain": [
       "Index(['extraction_date', 'study_unit', 'collection', 'issn_scielo', 'issns',\n",
       "       'title_scielo', 'title_thematic_areas', 'is_agricultural_sciences',\n",
       "       'is_applied_social_sciences', 'is_biological_sciences',\n",
       "       'is_engineering', 'is_exact_earth_sciences', 'is_health_sciences',\n",
       "       'is_human_sciences', 'is_linguistics_letters_arts',\n",
       "       'is_multidisciplinary', 'title_current_status', 'title_subtitle_scielo',\n",
       "       'short_title_scielo', 'short_iso', 'title_pubmed', 'publisher_name',\n",
       "       'use_license', 'alpha_freq', 'numeric_freq_in_months',\n",
       "       'inclusion_year_scielo', 'stopping_year_scielo', 'stopping_reason',\n",
       "       'date_first_doc', 'volume_first_doc', 'issue_first_doc',\n",
       "       'date_last_doc', 'volume_last_doc', 'issue_last_doc', 'total_issues',\n",
       "       'issues_2018', 'issues_2017', 'issues_2016', 'issues_2015',\n",
       "       'issues_2014', 'issues_2013', 'total_regular_issues',\n",
       "       'regular_issues_2018', 'regular_issues_2017', 'regular_issues_2016',\n",
       "       'regular_issues_2015', 'regular_issues_2014', 'regular_issues_2013',\n",
       "       'total_docs', 'docs_2018', 'docs_2017', 'docs_2016', 'docs_2015',\n",
       "       'docs_2014', 'docs_2013', 'citable_docs', 'citable_docs_2018',\n",
       "       'citable_docs_2017', 'citable_docs_2016', 'citable_docs_2015',\n",
       "       'citable_docs_2014', 'citable_docs_2013', 'portuguese_docs_2018',\n",
       "       'portuguese_docs_2017', 'portuguese_docs_2016', 'portuguese_docs_2015',\n",
       "       'portuguese_docs_2014', 'portuguese_docs_2013', 'spanish_docs_2018',\n",
       "       'spanish_docs_2017', 'spanish_docs_2016', 'spanish_docs_2015',\n",
       "       'spanish_docs_2014', 'spanish_docs_2013', 'english_docs_2018',\n",
       "       'english_docs_2017', 'english_docs_2016', 'english_docs_2015',\n",
       "       'english_docs_2014', 'english_docs_2013', 'other_lang_docs_2018',\n",
       "       'other_lang_docs_2017', 'other_lang_docs_2016', 'other_lang_docs_2015',\n",
       "       'other_lang_docs_2014', 'other_lang_docs_2013', 'h5_2018', 'h5_2017',\n",
       "       'h5_2016', 'h5_2015', 'h5_2014', 'h5_2013', 'm5_2018', 'm5_2017',\n",
       "       'm5_2016', 'm5_2015', 'm5_2014', 'm5_2013'],\n",
       "      dtype='object')"
      ]
     },
     "execution_count": 7,
     "metadata": {},
     "output_type": "execute_result"
    }
   ],
   "source": [
    "journals.rename(columns=normalize_column_title, inplace=True)\n",
    "journals.columns"
   ]
  },
  {
   "cell_type": "markdown",
   "metadata": {},
   "source": [
    "### Thematic areas"
   ]
  },
  {
   "cell_type": "markdown",
   "metadata": {},
   "source": [
    "Based on the thematic area normalization notebook,\n",
    "these are the columns for each thematic area\n",
    "after column name normalization:"
   ]
  },
  {
   "cell_type": "code",
   "execution_count": 8,
   "metadata": {
    "scrolled": true
   },
   "outputs": [
    {
     "data": {
      "text/plain": [
       "['is_agricultural_sciences',\n",
       " 'is_applied_social_sciences',\n",
       " 'is_biological_sciences',\n",
       " 'is_engineering',\n",
       " 'is_exact_earth_sciences',\n",
       " 'is_health_sciences',\n",
       " 'is_human_sciences',\n",
       " 'is_linguistics_letters_arts']"
      ]
     },
     "execution_count": 8,
     "metadata": {},
     "output_type": "execute_result"
    }
   ],
   "source": [
    "areas_map = {\n",
    "    \"Agricultural Sciences\": \"is_agricultural_sciences\",\n",
    "    \"Applied Social Sciences\": \"is_applied_social_sciences\",\n",
    "    \"Biological Sciences\": \"is_biological_sciences\",\n",
    "    \"Engineering\": \"is_engineering\",\n",
    "    \"Exact and Earth Sciences\": \"is_exact_earth_sciences\",\n",
    "    \"Health Sciences\": \"is_health_sciences\",\n",
    "    \"Human Sciences\": \"is_human_sciences\",\n",
    "    \"Linguistics, Letters and Arts\": \"is_linguistics_letters_arts\",\n",
    "}\n",
    "areas = list(areas_map.values())\n",
    "areas"
   ]
  },
  {
   "cell_type": "markdown",
   "metadata": {},
   "source": [
    "One missing is the `is_multidisciplinary`,\n",
    "which is $1$\n",
    "if the journal has at least $3$ of the distinct thematic areas above,\n",
    "otherwise it's $0$."
   ]
  },
  {
   "cell_type": "code",
   "execution_count": 9,
   "metadata": {},
   "outputs": [],
   "source": [
    "areaswm = areas + [\"is_multidisciplinary\"]"
   ]
  },
  {
   "cell_type": "markdown",
   "metadata": {},
   "source": [
    "### Normalization"
   ]
  },
  {
   "cell_type": "markdown",
   "metadata": {},
   "source": [
    "The code below follows the normalization notebook for\n",
    "cleaning/normalizing the ISSN."
   ]
  },
  {
   "cell_type": "code",
   "execution_count": 10,
   "metadata": {},
   "outputs": [],
   "source": [
    "# ISSN normalization\n",
    "issn_scielo_fix = {\"0001-6002\": \"0001-6012\",\n",
    "                   \"0258-6444\": \"2215-3535\",\n",
    "                   \"0325-8203\": \"1668-7027\",\n",
    "                   \"0719-448x\": \"0719-448X\",\n",
    "                   \"0797-9789\": \"1688-499X\",\n",
    "                   \"0807-8967\": \"0870-8967\",\n",
    "                   \"0858-6444\": \"0258-6444\",\n",
    "                   \"1315-5216\": \"1316-5216\",\n",
    "                   \"1667-8682\": \"1667-8982\",\n",
    "                   \"1678-5177\": \"0103-6564\",\n",
    "                   \"1683-0789\": \"1683-0768\",\n",
    "                   \"1688-4094\": \"1688-4221\",\n",
    "                   \"1852-4418\": \"1852-4184\",\n",
    "                   \"1980-5438\": \"0103-5665\",\n",
    "                   \"2175-3598\": \"0104-1282\",\n",
    "                   \"2233-7666\": \"2223-7666\",\n",
    "                   \"2237-101X\": \"1518-3319\",\n",
    "                   \"2993-6797\": \"2393-6797\"}\n",
    "journals[\"issn_scielo\"].replace(issn_scielo_fix, inplace=True)"
   ]
  },
  {
   "cell_type": "markdown",
   "metadata": {},
   "source": [
    "### Selecting the Google Scholar fields"
   ]
  },
  {
   "cell_type": "markdown",
   "metadata": {},
   "source": [
    "The fields regarding to the h5/m5 indices from Google Scholar are:"
   ]
  },
  {
   "cell_type": "code",
   "execution_count": 11,
   "metadata": {},
   "outputs": [
    {
     "data": {
      "text/plain": [
       "(['h5_2013', 'h5_2014', 'h5_2015', 'h5_2016', 'h5_2017', 'h5_2018'],\n",
       " ['m5_2013', 'm5_2014', 'm5_2015', 'm5_2016', 'm5_2017', 'm5_2018'])"
      ]
     },
     "execution_count": 11,
     "metadata": {},
     "output_type": "execute_result"
    }
   ],
   "source": [
    "h5_fields = sorted(k for k in journals.columns if k.startswith(\"h5\"))\n",
    "m5_fields = sorted(k for k in journals.columns if k.startswith(\"m5\"))\n",
    "h5_fields, m5_fields"
   ]
  },
  {
   "cell_type": "markdown",
   "metadata": {},
   "source": [
    "Are the h5/m5 fields consistent?"
   ]
  },
  {
   "cell_type": "code",
   "execution_count": 12,
   "metadata": {},
   "outputs": [
    {
     "data": {
      "text/plain": [
       "Series([], dtype: bool)"
      ]
     },
     "execution_count": 12,
     "metadata": {},
     "output_type": "execute_result"
    }
   ],
   "source": [
    "h5m5_inconsistency = journals.groupby(\"issn_scielo\")[h5_fields + m5_fields] \\\n",
    "    .apply(lambda df: df.apply(lambda col: set(col.dropna())).apply(len).max() > 1)\n",
    "h5m5_inconsistency[h5m5_inconsistency]"
   ]
  },
  {
   "cell_type": "markdown",
   "metadata": {},
   "source": [
    "Yes, they are!\n",
    "The only requirement we have regarding these fields\n",
    "is to ignore any possible `NaN` values."
   ]
  },
  {
   "cell_type": "markdown",
   "metadata": {},
   "source": [
    "Does every column have information?"
   ]
  },
  {
   "cell_type": "code",
   "execution_count": 13,
   "metadata": {},
   "outputs": [
    {
     "data": {
      "text/plain": [
       "['h5_2018', 'm5_2018']"
      ]
     },
     "execution_count": 13,
     "metadata": {},
     "output_type": "execute_result"
    }
   ],
   "source": [
    "h5m5_is_empty = journals[h5_fields + m5_fields].count() == 0\n",
    "h5m5_empty_list = list(h5m5_is_empty[h5m5_is_empty].index)\n",
    "h5m5_empty_list"
   ]
  },
  {
   "cell_type": "markdown",
   "metadata": {},
   "source": [
    "No! These two empty columns shown above have no use for us."
   ]
  },
  {
   "cell_type": "code",
   "execution_count": 14,
   "metadata": {},
   "outputs": [
    {
     "data": {
      "text/plain": [
       "['h5_2013',\n",
       " 'm5_2013',\n",
       " 'h5_2014',\n",
       " 'm5_2014',\n",
       " 'h5_2015',\n",
       " 'm5_2015',\n",
       " 'h5_2016',\n",
       " 'm5_2016',\n",
       " 'h5_2017',\n",
       " 'm5_2017']"
      ]
     },
     "execution_count": 14,
     "metadata": {},
     "output_type": "execute_result"
    }
   ],
   "source": [
    "h5_fields = [k for k in h5_fields if k not in h5m5_empty_list]\n",
    "m5_fields = [k for k in m5_fields if k not in h5m5_empty_list]\n",
    "gs_fields = list(chain(*zip(h5_fields, m5_fields)))\n",
    "gs_fields"
   ]
  },
  {
   "cell_type": "markdown",
   "metadata": {},
   "source": [
    "### Data de-duplication (building the dataset)"
   ]
  },
  {
   "cell_type": "markdown",
   "metadata": {},
   "source": [
    "A missing normalization step regards to this issue:\n",
    "there should be no more than a single entry for each journal.\n",
    "Since there are many journals that in more than one collection,\n",
    "we have data duplication.\n",
    "As we've seen in the Google Scholar indices section,\n",
    "the indices are consistent, as long as we coalesce the `NaN` entries.\n",
    "\n",
    "Now that we're aware of that, let's remove the duplicate entries."
   ]
  },
  {
   "cell_type": "markdown",
   "metadata": {},
   "source": [
    "The renamed columns we'll need are\n",
    "(these names are the ones after the renaming step):"
   ]
  },
  {
   "cell_type": "code",
   "execution_count": 15,
   "metadata": {},
   "outputs": [
    {
     "data": {
      "text/plain": [
       "['issn_scielo',\n",
       " 'h5_2013',\n",
       " 'm5_2013',\n",
       " 'h5_2014',\n",
       " 'm5_2014',\n",
       " 'h5_2015',\n",
       " 'm5_2015',\n",
       " 'h5_2016',\n",
       " 'm5_2016',\n",
       " 'h5_2017',\n",
       " 'm5_2017',\n",
       " 'is_agricultural_sciences',\n",
       " 'is_applied_social_sciences',\n",
       " 'is_biological_sciences',\n",
       " 'is_engineering',\n",
       " 'is_exact_earth_sciences',\n",
       " 'is_health_sciences',\n",
       " 'is_human_sciences',\n",
       " 'is_linguistics_letters_arts',\n",
       " 'is_multidisciplinary']"
      ]
     },
     "execution_count": 15,
     "metadata": {},
     "output_type": "execute_result"
    }
   ],
   "source": [
    "columns = [\"issn_scielo\"] + gs_fields + areaswm\n",
    "columns"
   ]
  },
  {
   "cell_type": "markdown",
   "metadata": {},
   "source": [
    "Assuming that the columns regarding thematic areas are clean/consistent,\n",
    "getting the dataset is straightforward:"
   ]
  },
  {
   "cell_type": "code",
   "execution_count": 16,
   "metadata": {},
   "outputs": [
    {
     "data": {
      "text/html": [
       "<div>\n",
       "<style scoped>\n",
       "    .dataframe tbody tr th:only-of-type {\n",
       "        vertical-align: middle;\n",
       "    }\n",
       "\n",
       "    .dataframe tbody tr th {\n",
       "        vertical-align: top;\n",
       "    }\n",
       "\n",
       "    .dataframe thead th {\n",
       "        text-align: right;\n",
       "    }\n",
       "</style>\n",
       "<table border=\"1\" class=\"dataframe\">\n",
       "  <thead>\n",
       "    <tr style=\"text-align: right;\">\n",
       "      <th>issn_scielo</th>\n",
       "      <th>0001-3714</th>\n",
       "      <th>0001-3765</th>\n",
       "      <th>0001-6012</th>\n",
       "      <th>0001-6365</th>\n",
       "      <th>0002-0591</th>\n",
       "    </tr>\n",
       "  </thead>\n",
       "  <tbody>\n",
       "    <tr>\n",
       "      <th>h5_2013</th>\n",
       "      <td>NaN</td>\n",
       "      <td>19.0</td>\n",
       "      <td>NaN</td>\n",
       "      <td>NaN</td>\n",
       "      <td>3.0</td>\n",
       "    </tr>\n",
       "    <tr>\n",
       "      <th>m5_2013</th>\n",
       "      <td>NaN</td>\n",
       "      <td>28.0</td>\n",
       "      <td>NaN</td>\n",
       "      <td>NaN</td>\n",
       "      <td>5.0</td>\n",
       "    </tr>\n",
       "    <tr>\n",
       "      <th>h5_2014</th>\n",
       "      <td>NaN</td>\n",
       "      <td>19.0</td>\n",
       "      <td>NaN</td>\n",
       "      <td>NaN</td>\n",
       "      <td>3.0</td>\n",
       "    </tr>\n",
       "    <tr>\n",
       "      <th>m5_2014</th>\n",
       "      <td>NaN</td>\n",
       "      <td>31.0</td>\n",
       "      <td>NaN</td>\n",
       "      <td>NaN</td>\n",
       "      <td>5.0</td>\n",
       "    </tr>\n",
       "    <tr>\n",
       "      <th>h5_2015</th>\n",
       "      <td>NaN</td>\n",
       "      <td>19.0</td>\n",
       "      <td>NaN</td>\n",
       "      <td>NaN</td>\n",
       "      <td>4.0</td>\n",
       "    </tr>\n",
       "    <tr>\n",
       "      <th>m5_2015</th>\n",
       "      <td>NaN</td>\n",
       "      <td>24.0</td>\n",
       "      <td>NaN</td>\n",
       "      <td>NaN</td>\n",
       "      <td>4.0</td>\n",
       "    </tr>\n",
       "    <tr>\n",
       "      <th>h5_2016</th>\n",
       "      <td>NaN</td>\n",
       "      <td>18.0</td>\n",
       "      <td>6.0</td>\n",
       "      <td>NaN</td>\n",
       "      <td>5.0</td>\n",
       "    </tr>\n",
       "    <tr>\n",
       "      <th>m5_2016</th>\n",
       "      <td>NaN</td>\n",
       "      <td>25.0</td>\n",
       "      <td>7.0</td>\n",
       "      <td>NaN</td>\n",
       "      <td>5.0</td>\n",
       "    </tr>\n",
       "    <tr>\n",
       "      <th>h5_2017</th>\n",
       "      <td>NaN</td>\n",
       "      <td>16.0</td>\n",
       "      <td>7.0</td>\n",
       "      <td>NaN</td>\n",
       "      <td>5.0</td>\n",
       "    </tr>\n",
       "    <tr>\n",
       "      <th>m5_2017</th>\n",
       "      <td>NaN</td>\n",
       "      <td>19.0</td>\n",
       "      <td>11.0</td>\n",
       "      <td>NaN</td>\n",
       "      <td>6.0</td>\n",
       "    </tr>\n",
       "    <tr>\n",
       "      <th>is_agricultural_sciences</th>\n",
       "      <td>1.0</td>\n",
       "      <td>1.0</td>\n",
       "      <td>0.0</td>\n",
       "      <td>0.0</td>\n",
       "      <td>0.0</td>\n",
       "    </tr>\n",
       "    <tr>\n",
       "      <th>is_applied_social_sciences</th>\n",
       "      <td>0.0</td>\n",
       "      <td>0.0</td>\n",
       "      <td>0.0</td>\n",
       "      <td>0.0</td>\n",
       "      <td>0.0</td>\n",
       "    </tr>\n",
       "    <tr>\n",
       "      <th>is_biological_sciences</th>\n",
       "      <td>1.0</td>\n",
       "      <td>1.0</td>\n",
       "      <td>0.0</td>\n",
       "      <td>0.0</td>\n",
       "      <td>0.0</td>\n",
       "    </tr>\n",
       "    <tr>\n",
       "      <th>is_engineering</th>\n",
       "      <td>0.0</td>\n",
       "      <td>1.0</td>\n",
       "      <td>0.0</td>\n",
       "      <td>0.0</td>\n",
       "      <td>0.0</td>\n",
       "    </tr>\n",
       "    <tr>\n",
       "      <th>is_exact_earth_sciences</th>\n",
       "      <td>0.0</td>\n",
       "      <td>1.0</td>\n",
       "      <td>0.0</td>\n",
       "      <td>0.0</td>\n",
       "      <td>0.0</td>\n",
       "    </tr>\n",
       "    <tr>\n",
       "      <th>is_health_sciences</th>\n",
       "      <td>0.0</td>\n",
       "      <td>1.0</td>\n",
       "      <td>1.0</td>\n",
       "      <td>1.0</td>\n",
       "      <td>0.0</td>\n",
       "    </tr>\n",
       "    <tr>\n",
       "      <th>is_human_sciences</th>\n",
       "      <td>0.0</td>\n",
       "      <td>1.0</td>\n",
       "      <td>1.0</td>\n",
       "      <td>0.0</td>\n",
       "      <td>1.0</td>\n",
       "    </tr>\n",
       "    <tr>\n",
       "      <th>is_linguistics_letters_arts</th>\n",
       "      <td>0.0</td>\n",
       "      <td>0.0</td>\n",
       "      <td>0.0</td>\n",
       "      <td>0.0</td>\n",
       "      <td>0.0</td>\n",
       "    </tr>\n",
       "    <tr>\n",
       "      <th>is_multidisciplinary</th>\n",
       "      <td>0.0</td>\n",
       "      <td>1.0</td>\n",
       "      <td>0.0</td>\n",
       "      <td>0.0</td>\n",
       "      <td>0.0</td>\n",
       "    </tr>\n",
       "  </tbody>\n",
       "</table>\n",
       "</div>"
      ],
      "text/plain": [
       "issn_scielo                  0001-3714  0001-3765  0001-6012  0001-6365  \\\n",
       "h5_2013                            NaN       19.0        NaN        NaN   \n",
       "m5_2013                            NaN       28.0        NaN        NaN   \n",
       "h5_2014                            NaN       19.0        NaN        NaN   \n",
       "m5_2014                            NaN       31.0        NaN        NaN   \n",
       "h5_2015                            NaN       19.0        NaN        NaN   \n",
       "m5_2015                            NaN       24.0        NaN        NaN   \n",
       "h5_2016                            NaN       18.0        6.0        NaN   \n",
       "m5_2016                            NaN       25.0        7.0        NaN   \n",
       "h5_2017                            NaN       16.0        7.0        NaN   \n",
       "m5_2017                            NaN       19.0       11.0        NaN   \n",
       "is_agricultural_sciences           1.0        1.0        0.0        0.0   \n",
       "is_applied_social_sciences         0.0        0.0        0.0        0.0   \n",
       "is_biological_sciences             1.0        1.0        0.0        0.0   \n",
       "is_engineering                     0.0        1.0        0.0        0.0   \n",
       "is_exact_earth_sciences            0.0        1.0        0.0        0.0   \n",
       "is_health_sciences                 0.0        1.0        1.0        1.0   \n",
       "is_human_sciences                  0.0        1.0        1.0        0.0   \n",
       "is_linguistics_letters_arts        0.0        0.0        0.0        0.0   \n",
       "is_multidisciplinary               0.0        1.0        0.0        0.0   \n",
       "\n",
       "issn_scielo                  0002-0591  \n",
       "h5_2013                            3.0  \n",
       "m5_2013                            5.0  \n",
       "h5_2014                            3.0  \n",
       "m5_2014                            5.0  \n",
       "h5_2015                            4.0  \n",
       "m5_2015                            4.0  \n",
       "h5_2016                            5.0  \n",
       "m5_2016                            5.0  \n",
       "h5_2017                            5.0  \n",
       "m5_2017                            6.0  \n",
       "is_agricultural_sciences           0.0  \n",
       "is_applied_social_sciences         0.0  \n",
       "is_biological_sciences             0.0  \n",
       "is_engineering                     0.0  \n",
       "is_exact_earth_sciences            0.0  \n",
       "is_health_sciences                 0.0  \n",
       "is_human_sciences                  1.0  \n",
       "is_linguistics_letters_arts        0.0  \n",
       "is_multidisciplinary               0.0  "
      ]
     },
     "execution_count": 16,
     "metadata": {},
     "output_type": "execute_result"
    }
   ],
   "source": [
    "dataset = journals[columns].groupby(\"issn_scielo\").agg(\"max\")\n",
    "dataset.head().T"
   ]
  },
  {
   "cell_type": "markdown",
   "metadata": {},
   "source": [
    "There's a lot of `NaN`s!\n",
    "Let's see what we can do with that information."
   ]
  },
  {
   "cell_type": "markdown",
   "metadata": {},
   "source": [
    "## Exploratory data analysis"
   ]
  },
  {
   "cell_type": "markdown",
   "metadata": {},
   "source": [
    "Though we have information about every thematic area,\n",
    "we don't have the Google Scholar indices\n",
    "for all the documents/articles:"
   ]
  },
  {
   "cell_type": "code",
   "execution_count": 17,
   "metadata": {},
   "outputs": [
    {
     "name": "stdout",
     "output_type": "stream",
     "text": [
      "(1642, 19)\n"
     ]
    },
    {
     "data": {
      "text/plain": [
       "h5_2013                         265\n",
       "m5_2013                         265\n",
       "h5_2014                         266\n",
       "m5_2014                         266\n",
       "h5_2015                         803\n",
       "m5_2015                         803\n",
       "h5_2016                         772\n",
       "m5_2016                         772\n",
       "h5_2017                         923\n",
       "m5_2017                         923\n",
       "is_agricultural_sciences       1642\n",
       "is_applied_social_sciences     1642\n",
       "is_biological_sciences         1642\n",
       "is_engineering                 1642\n",
       "is_exact_earth_sciences        1642\n",
       "is_health_sciences             1642\n",
       "is_human_sciences              1642\n",
       "is_linguistics_letters_arts    1642\n",
       "is_multidisciplinary           1642\n",
       "dtype: int64"
      ]
     },
     "execution_count": 17,
     "metadata": {},
     "output_type": "execute_result"
    }
   ],
   "source": [
    "print(dataset.shape)\n",
    "dataset.count()"
   ]
  },
  {
   "cell_type": "markdown",
   "metadata": {},
   "source": [
    "The `h5` and `m5` are pairs, having one means we have the other one.\n",
    "\n",
    "We have that index for $\\approx 56.2\\%$ of the data in $2017$."
   ]
  },
  {
   "cell_type": "code",
   "execution_count": 18,
   "metadata": {},
   "outputs": [
    {
     "data": {
      "text/plain": [
       "0.5621193666260658"
      ]
     },
     "execution_count": 18,
     "metadata": {},
     "output_type": "execute_result"
    }
   ],
   "source": [
    "dataset[\"h5_2017\"].count() / dataset.shape[0]"
   ]
  },
  {
   "cell_type": "markdown",
   "metadata": {},
   "source": [
    "We should emphasize the $2017$ data,\n",
    "as it has way more information than the remaining of the data."
   ]
  }
 ],
 "metadata": {
  "kernelspec": {
   "display_name": "Python 3",
   "language": "python",
   "name": "python3"
  },
  "language_info": {
   "codemirror_mode": {
    "name": "ipython",
    "version": 3
   },
   "file_extension": ".py",
   "mimetype": "text/x-python",
   "name": "python",
   "nbconvert_exporter": "python",
   "pygments_lexer": "ipython3",
   "version": "3.7.0"
  }
 },
 "nbformat": 4,
 "nbformat_minor": 2
}
