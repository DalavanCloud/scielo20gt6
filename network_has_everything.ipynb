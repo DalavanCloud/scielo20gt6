{
 "cells": [
  {
   "cell_type": "markdown",
   "metadata": {},
   "source": [
    "# Does the Network reports have everything from the remaining reports?"
   ]
  },
  {
   "cell_type": "code",
   "execution_count": 1,
   "metadata": {},
   "outputs": [],
   "source": [
    "import glob, os"
   ]
  },
  {
   "cell_type": "code",
   "execution_count": 2,
   "metadata": {},
   "outputs": [],
   "source": [
    "import numpy as np\n",
    "import pandas as pd"
   ]
  },
  {
   "cell_type": "markdown",
   "metadata": {},
   "source": [
    "## Loading all `journals.csv` files at once"
   ]
  },
  {
   "cell_type": "markdown",
   "metadata": {},
   "source": [
    "Each package have been unzipped directories named like `tabs_spa`,\n",
    "where `spa` is a collection code\n",
    "(i.e., there's just a `tabs_` leading prefix).\n",
    "Let's load all `journals.csv` files!"
   ]
  },
  {
   "cell_type": "code",
   "execution_count": 3,
   "metadata": {
    "scrolled": false
   },
   "outputs": [],
   "source": [
    "journals = {os.path.split(fname)[0][5:]:\n",
    "              pd.read_csv(fname, dtype=str, keep_default_na=False)\n",
    "            for fname in glob.glob(\"tabs_*/journals.csv\")}"
   ]
  },
  {
   "cell_type": "markdown",
   "metadata": {},
   "source": [
    "The `tabs_network/journals.csv` file is in:"
   ]
  },
  {
   "cell_type": "code",
   "execution_count": 4,
   "metadata": {},
   "outputs": [],
   "source": [
    "network_journals = journals[\"network\"]"
   ]
  },
  {
   "cell_type": "markdown",
   "metadata": {},
   "source": [
    "## Are the rows from all `journals.csv` in `tabs_network/journals.csv`?"
   ]
  },
  {
   "cell_type": "markdown",
   "metadata": {},
   "source": [
    "Yes, and every row from `tabs_network/journals.csv`\n",
    "are in another `journals.csv` file.\n",
    "To prove that,\n",
    "let's join the rows from every `journals.csv` source\n",
    "but the one from the `network`:"
   ]
  },
  {
   "cell_type": "code",
   "execution_count": 5,
   "metadata": {},
   "outputs": [],
   "source": [
    "all_journals = pd.concat([df for k, df in journals.items() if k != \"network\"])"
   ]
  },
  {
   "cell_type": "markdown",
   "metadata": {},
   "source": [
    "This joined dataframe has the same shape/size of the network journals dataframe,\n",
    "and no row is duplicated in these two dataframes:"
   ]
  },
  {
   "cell_type": "code",
   "execution_count": 6,
   "metadata": {},
   "outputs": [
    {
     "data": {
      "text/plain": [
       "{'all_journals': (1721, 98),\n",
       " 'all_journals (unique)': (1721, 98),\n",
       " 'network_journals': (1721, 98),\n",
       " 'network_journals (unique)': (1721, 98)}"
      ]
     },
     "execution_count": 6,
     "metadata": {},
     "output_type": "execute_result"
    }
   ],
   "source": [
    "{\n",
    "    \"all_journals\": all_journals.shape,\n",
    "    \"all_journals (unique)\": all_journals.drop_duplicates().shape,\n",
    "    \"network_journals\": network_journals.shape,\n",
    "    \"network_journals (unique)\": network_journals.drop_duplicates().shape,\n",
    "}"
   ]
  },
  {
   "cell_type": "markdown",
   "metadata": {},
   "source": [
    "The column names are all the same:"
   ]
  },
  {
   "cell_type": "code",
   "execution_count": 7,
   "metadata": {},
   "outputs": [
    {
     "data": {
      "text/plain": [
       "True"
      ]
     },
     "execution_count": 7,
     "metadata": {},
     "output_type": "execute_result"
    }
   ],
   "source": [
    "np.all(network_journals.columns.sort_values() == all_journals.columns.sort_values())"
   ]
  },
  {
   "cell_type": "markdown",
   "metadata": {},
   "source": [
    "Every row is in the intersection:"
   ]
  },
  {
   "cell_type": "code",
   "execution_count": 8,
   "metadata": {},
   "outputs": [
    {
     "data": {
      "text/plain": [
       "(1721, 98)"
      ]
     },
     "execution_count": 8,
     "metadata": {},
     "output_type": "execute_result"
    }
   ],
   "source": [
    "pd.merge(network_journals, all_journals).shape"
   ]
  },
  {
   "cell_type": "markdown",
   "metadata": {},
   "source": [
    "And the symmetric difference is empty:"
   ]
  },
  {
   "cell_type": "code",
   "execution_count": 9,
   "metadata": {},
   "outputs": [
    {
     "data": {
      "text/html": [
       "<div>\n",
       "<style scoped>\n",
       "    .dataframe tbody tr th:only-of-type {\n",
       "        vertical-align: middle;\n",
       "    }\n",
       "\n",
       "    .dataframe tbody tr th {\n",
       "        vertical-align: top;\n",
       "    }\n",
       "\n",
       "    .dataframe thead th {\n",
       "        text-align: right;\n",
       "    }\n",
       "</style>\n",
       "<table border=\"1\" class=\"dataframe\">\n",
       "  <thead>\n",
       "    <tr style=\"text-align: right;\">\n",
       "      <th></th>\n",
       "      <th>extraction date</th>\n",
       "      <th>study unit</th>\n",
       "      <th>collection</th>\n",
       "      <th>ISSN SciELO</th>\n",
       "      <th>ISSN's</th>\n",
       "      <th>title at SciELO</th>\n",
       "      <th>title thematic areas</th>\n",
       "      <th>title is agricultural sciences</th>\n",
       "      <th>title is applied social sciences</th>\n",
       "      <th>title is biological sciences</th>\n",
       "      <th>...</th>\n",
       "      <th>google scholar h5 2016</th>\n",
       "      <th>google scholar h5 2015</th>\n",
       "      <th>google scholar h5 2014</th>\n",
       "      <th>google scholar h5 2013</th>\n",
       "      <th>google scholar m5 2018</th>\n",
       "      <th>google scholar m5 2017</th>\n",
       "      <th>google scholar m5 2016</th>\n",
       "      <th>google scholar m5 2015</th>\n",
       "      <th>google scholar m5 2014</th>\n",
       "      <th>google scholar m5 2013</th>\n",
       "    </tr>\n",
       "  </thead>\n",
       "  <tbody>\n",
       "  </tbody>\n",
       "</table>\n",
       "<p>0 rows × 98 columns</p>\n",
       "</div>"
      ],
      "text/plain": [
       "Empty DataFrame\n",
       "Columns: [extraction date, study unit, collection, ISSN SciELO, ISSN's, title at SciELO, title thematic areas, title is agricultural sciences, title is applied social sciences, title is biological sciences, title is engineering, title is exact and earth sciences, title is health sciences, title is human sciences, title is linguistics, letters and arts, title is multidisciplinary, title current status, title + subtitle SciELO, short title SciELO, short title ISO, title PubMed, publisher name, use license, alpha frequency, numeric frequency (in months), inclusion year at SciELO, stopping year at SciELO, stopping reason, date of the first document, volume of the first document, issue of the first document, date of the last document, volume of the last document, issue of the last document, total of issues, issues at 2018, issues at 2017, issues at 2016, issues at 2015, issues at 2014, issues at 2013, total of regular issues, regular issues at 2018, regular issues at 2017, regular issues at 2016, regular issues at 2015, regular issues at 2014, regular issues at 2013, total of documents, documents at 2018, documents at 2017, documents at 2016, documents at 2015, documents at 2014, documents at 2013, citable documents, citable documents at 2018, citable documents at 2017, citable documents at 2016, citable documents at 2015, citable documents at 2014, citable documents at 2013, portuguese documents at 2018 , portuguese documents at 2017 , portuguese documents at 2016 , portuguese documents at 2015 , portuguese documents at 2014 , portuguese documents at 2013 , spanish documents at 2018 , spanish documents at 2017 , spanish documents at 2016 , spanish documents at 2015 , spanish documents at 2014 , spanish documents at 2013 , english documents at 2018 , english documents at 2017 , english documents at 2016 , english documents at 2015 , english documents at 2014 , english documents at 2013 , other language documents at 2018 , other language documents at 2017 , other language documents at 2016 , other language documents at 2015 , other language documents at 2014 , other language documents at 2013 , google scholar h5 2018 , google scholar h5 2017 , google scholar h5 2016 , google scholar h5 2015 , google scholar h5 2014 , google scholar h5 2013 , google scholar m5 2018 , google scholar m5 2017 , google scholar m5 2016 , google scholar m5 2015 , google scholar m5 2014 , google scholar m5 2013 ]\n",
       "Index: []\n",
       "\n",
       "[0 rows x 98 columns]"
      ]
     },
     "execution_count": 9,
     "metadata": {},
     "output_type": "execute_result"
    }
   ],
   "source": [
    "pd.concat([network_journals, all_journals]).drop_duplicates(keep=False)"
   ]
  },
  {
   "cell_type": "markdown",
   "metadata": {},
   "source": [
    "Therefore, we can say the `journals.csv` in `tabs_network`\n",
    "has exactly the same rows from the remaining `journals.csv`\n",
    "joined together."
   ]
  }
 ],
 "metadata": {
  "kernelspec": {
   "display_name": "Python 3",
   "language": "python",
   "name": "python3"
  },
  "language_info": {
   "codemirror_mode": {
    "name": "ipython",
    "version": 3
   },
   "file_extension": ".py",
   "mimetype": "text/x-python",
   "name": "python",
   "nbconvert_exporter": "python",
   "pygments_lexer": "ipython3",
   "version": "3.7.0"
  }
 },
 "nbformat": 4,
 "nbformat_minor": 2
}
